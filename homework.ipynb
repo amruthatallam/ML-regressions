{
 "cells": [
  {
   "cell_type": "code",
   "execution_count": 67,
   "id": "f2fc8339",
   "metadata": {},
   "outputs": [],
   "source": [
    "import pandas as pd "
   ]
  },
  {
   "cell_type": "code",
   "execution_count": 68,
   "id": "696bf688",
   "metadata": {},
   "outputs": [],
   "source": [
    "data=pd.read_csv(\"C://Users//user//Downloads//data.csv\")"
   ]
  },
  {
   "cell_type": "code",
   "execution_count": 69,
   "id": "103f34ea",
   "metadata": {},
   "outputs": [
    {
     "data": {
      "text/html": [
       "<div>\n",
       "<style scoped>\n",
       "    .dataframe tbody tr th:only-of-type {\n",
       "        vertical-align: middle;\n",
       "    }\n",
       "\n",
       "    .dataframe tbody tr th {\n",
       "        vertical-align: top;\n",
       "    }\n",
       "\n",
       "    .dataframe thead th {\n",
       "        text-align: right;\n",
       "    }\n",
       "</style>\n",
       "<table border=\"1\" class=\"dataframe\">\n",
       "  <thead>\n",
       "    <tr style=\"text-align: right;\">\n",
       "      <th></th>\n",
       "      <th>Make</th>\n",
       "      <th>Model</th>\n",
       "      <th>Year</th>\n",
       "      <th>Engine Fuel Type</th>\n",
       "      <th>Engine HP</th>\n",
       "      <th>Engine Cylinders</th>\n",
       "      <th>Transmission Type</th>\n",
       "      <th>Driven_Wheels</th>\n",
       "      <th>Number of Doors</th>\n",
       "      <th>Market Category</th>\n",
       "      <th>Vehicle Size</th>\n",
       "      <th>Vehicle Style</th>\n",
       "      <th>highway MPG</th>\n",
       "      <th>city mpg</th>\n",
       "      <th>Popularity</th>\n",
       "      <th>MSRP</th>\n",
       "    </tr>\n",
       "  </thead>\n",
       "  <tbody>\n",
       "    <tr>\n",
       "      <th>0</th>\n",
       "      <td>BMW</td>\n",
       "      <td>1 Series M</td>\n",
       "      <td>2011</td>\n",
       "      <td>premium unleaded (required)</td>\n",
       "      <td>335.0</td>\n",
       "      <td>6.0</td>\n",
       "      <td>MANUAL</td>\n",
       "      <td>rear wheel drive</td>\n",
       "      <td>2.0</td>\n",
       "      <td>Factory Tuner,Luxury,High-Performance</td>\n",
       "      <td>Compact</td>\n",
       "      <td>Coupe</td>\n",
       "      <td>26</td>\n",
       "      <td>19</td>\n",
       "      <td>3916</td>\n",
       "      <td>46135</td>\n",
       "    </tr>\n",
       "    <tr>\n",
       "      <th>1</th>\n",
       "      <td>BMW</td>\n",
       "      <td>1 Series</td>\n",
       "      <td>2011</td>\n",
       "      <td>premium unleaded (required)</td>\n",
       "      <td>300.0</td>\n",
       "      <td>6.0</td>\n",
       "      <td>MANUAL</td>\n",
       "      <td>rear wheel drive</td>\n",
       "      <td>2.0</td>\n",
       "      <td>Luxury,Performance</td>\n",
       "      <td>Compact</td>\n",
       "      <td>Convertible</td>\n",
       "      <td>28</td>\n",
       "      <td>19</td>\n",
       "      <td>3916</td>\n",
       "      <td>40650</td>\n",
       "    </tr>\n",
       "    <tr>\n",
       "      <th>2</th>\n",
       "      <td>BMW</td>\n",
       "      <td>1 Series</td>\n",
       "      <td>2011</td>\n",
       "      <td>premium unleaded (required)</td>\n",
       "      <td>300.0</td>\n",
       "      <td>6.0</td>\n",
       "      <td>MANUAL</td>\n",
       "      <td>rear wheel drive</td>\n",
       "      <td>2.0</td>\n",
       "      <td>Luxury,High-Performance</td>\n",
       "      <td>Compact</td>\n",
       "      <td>Coupe</td>\n",
       "      <td>28</td>\n",
       "      <td>20</td>\n",
       "      <td>3916</td>\n",
       "      <td>36350</td>\n",
       "    </tr>\n",
       "    <tr>\n",
       "      <th>3</th>\n",
       "      <td>BMW</td>\n",
       "      <td>1 Series</td>\n",
       "      <td>2011</td>\n",
       "      <td>premium unleaded (required)</td>\n",
       "      <td>230.0</td>\n",
       "      <td>6.0</td>\n",
       "      <td>MANUAL</td>\n",
       "      <td>rear wheel drive</td>\n",
       "      <td>2.0</td>\n",
       "      <td>Luxury,Performance</td>\n",
       "      <td>Compact</td>\n",
       "      <td>Coupe</td>\n",
       "      <td>28</td>\n",
       "      <td>18</td>\n",
       "      <td>3916</td>\n",
       "      <td>29450</td>\n",
       "    </tr>\n",
       "    <tr>\n",
       "      <th>4</th>\n",
       "      <td>BMW</td>\n",
       "      <td>1 Series</td>\n",
       "      <td>2011</td>\n",
       "      <td>premium unleaded (required)</td>\n",
       "      <td>230.0</td>\n",
       "      <td>6.0</td>\n",
       "      <td>MANUAL</td>\n",
       "      <td>rear wheel drive</td>\n",
       "      <td>2.0</td>\n",
       "      <td>Luxury</td>\n",
       "      <td>Compact</td>\n",
       "      <td>Convertible</td>\n",
       "      <td>28</td>\n",
       "      <td>18</td>\n",
       "      <td>3916</td>\n",
       "      <td>34500</td>\n",
       "    </tr>\n",
       "  </tbody>\n",
       "</table>\n",
       "</div>"
      ],
      "text/plain": [
       "  Make       Model  Year             Engine Fuel Type  Engine HP  \\\n",
       "0  BMW  1 Series M  2011  premium unleaded (required)      335.0   \n",
       "1  BMW    1 Series  2011  premium unleaded (required)      300.0   \n",
       "2  BMW    1 Series  2011  premium unleaded (required)      300.0   \n",
       "3  BMW    1 Series  2011  premium unleaded (required)      230.0   \n",
       "4  BMW    1 Series  2011  premium unleaded (required)      230.0   \n",
       "\n",
       "   Engine Cylinders Transmission Type     Driven_Wheels  Number of Doors  \\\n",
       "0               6.0            MANUAL  rear wheel drive              2.0   \n",
       "1               6.0            MANUAL  rear wheel drive              2.0   \n",
       "2               6.0            MANUAL  rear wheel drive              2.0   \n",
       "3               6.0            MANUAL  rear wheel drive              2.0   \n",
       "4               6.0            MANUAL  rear wheel drive              2.0   \n",
       "\n",
       "                         Market Category Vehicle Size Vehicle Style  \\\n",
       "0  Factory Tuner,Luxury,High-Performance      Compact         Coupe   \n",
       "1                     Luxury,Performance      Compact   Convertible   \n",
       "2                Luxury,High-Performance      Compact         Coupe   \n",
       "3                     Luxury,Performance      Compact         Coupe   \n",
       "4                                 Luxury      Compact   Convertible   \n",
       "\n",
       "   highway MPG  city mpg  Popularity   MSRP  \n",
       "0           26        19        3916  46135  \n",
       "1           28        19        3916  40650  \n",
       "2           28        20        3916  36350  \n",
       "3           28        18        3916  29450  \n",
       "4           28        18        3916  34500  "
      ]
     },
     "execution_count": 69,
     "metadata": {},
     "output_type": "execute_result"
    }
   ],
   "source": [
    "data.head()"
   ]
  },
  {
   "cell_type": "code",
   "execution_count": 70,
   "id": "b780b9ab",
   "metadata": {},
   "outputs": [
    {
     "data": {
      "text/plain": [
       "(11914, 16)"
      ]
     },
     "execution_count": 70,
     "metadata": {},
     "output_type": "execute_result"
    }
   ],
   "source": [
    "data.shape"
   ]
  },
  {
   "cell_type": "code",
   "execution_count": 71,
   "id": "168ce40f",
   "metadata": {},
   "outputs": [
    {
     "name": "stdout",
     "output_type": "stream",
     "text": [
      "<class 'pandas.core.frame.DataFrame'>\n",
      "RangeIndex: 11914 entries, 0 to 11913\n",
      "Data columns (total 16 columns):\n",
      " #   Column             Non-Null Count  Dtype  \n",
      "---  ------             --------------  -----  \n",
      " 0   Make               11914 non-null  object \n",
      " 1   Model              11914 non-null  object \n",
      " 2   Year               11914 non-null  int64  \n",
      " 3   Engine Fuel Type   11911 non-null  object \n",
      " 4   Engine HP          11845 non-null  float64\n",
      " 5   Engine Cylinders   11884 non-null  float64\n",
      " 6   Transmission Type  11914 non-null  object \n",
      " 7   Driven_Wheels      11914 non-null  object \n",
      " 8   Number of Doors    11908 non-null  float64\n",
      " 9   Market Category    8172 non-null   object \n",
      " 10  Vehicle Size       11914 non-null  object \n",
      " 11  Vehicle Style      11914 non-null  object \n",
      " 12  highway MPG        11914 non-null  int64  \n",
      " 13  city mpg           11914 non-null  int64  \n",
      " 14  Popularity         11914 non-null  int64  \n",
      " 15  MSRP               11914 non-null  int64  \n",
      "dtypes: float64(3), int64(5), object(8)\n",
      "memory usage: 1.5+ MB\n"
     ]
    }
   ],
   "source": [
    "data.info()"
   ]
  },
  {
   "cell_type": "markdown",
   "id": "b327dcf2",
   "metadata": {},
   "source": [
    "## dealing with duplicates "
   ]
  },
  {
   "cell_type": "code",
   "execution_count": 72,
   "id": "966a78c4",
   "metadata": {},
   "outputs": [
    {
     "data": {
      "text/plain": [
       "715"
      ]
     },
     "execution_count": 72,
     "metadata": {},
     "output_type": "execute_result"
    }
   ],
   "source": [
    "data.duplicated().sum()"
   ]
  },
  {
   "cell_type": "code",
   "execution_count": 73,
   "id": "be58819d",
   "metadata": {},
   "outputs": [
    {
     "data": {
      "text/plain": [
       "False    11199\n",
       "True       715\n",
       "Name: count, dtype: int64"
      ]
     },
     "execution_count": 73,
     "metadata": {},
     "output_type": "execute_result"
    }
   ],
   "source": [
    "data.duplicated().value_counts()"
   ]
  },
  {
   "cell_type": "code",
   "execution_count": 74,
   "id": "5af5b92c",
   "metadata": {},
   "outputs": [],
   "source": [
    "data1=data.drop_duplicates()"
   ]
  },
  {
   "cell_type": "code",
   "execution_count": 75,
   "id": "d276f54b",
   "metadata": {},
   "outputs": [
    {
     "data": {
      "text/plain": [
       "(11199, 16)"
      ]
     },
     "execution_count": 75,
     "metadata": {},
     "output_type": "execute_result"
    }
   ],
   "source": [
    "data1.shape"
   ]
  },
  {
   "cell_type": "markdown",
   "id": "ed2fc60a",
   "metadata": {},
   "source": [
    "## dealing with null values"
   ]
  },
  {
   "cell_type": "code",
   "execution_count": 76,
   "id": "7fd7cccc",
   "metadata": {},
   "outputs": [
    {
     "data": {
      "text/plain": [
       "Make                    0\n",
       "Model                   0\n",
       "Year                    0\n",
       "Engine Fuel Type        3\n",
       "Engine HP              69\n",
       "Engine Cylinders       30\n",
       "Transmission Type       0\n",
       "Driven_Wheels           0\n",
       "Number of Doors         6\n",
       "Market Category      3376\n",
       "Vehicle Size            0\n",
       "Vehicle Style           0\n",
       "highway MPG             0\n",
       "city mpg                0\n",
       "Popularity              0\n",
       "MSRP                    0\n",
       "dtype: int64"
      ]
     },
     "execution_count": 76,
     "metadata": {},
     "output_type": "execute_result"
    }
   ],
   "source": [
    "data1.isnull().sum()"
   ]
  },
  {
   "cell_type": "code",
   "execution_count": 77,
   "id": "e81b8174",
   "metadata": {},
   "outputs": [
    {
     "data": {
      "text/plain": [
       "Make                  0.000000\n",
       "Model                 0.000000\n",
       "Year                  0.000000\n",
       "Engine Fuel Type      0.025180\n",
       "Engine HP             0.579151\n",
       "Engine Cylinders      0.251805\n",
       "Transmission Type     0.000000\n",
       "Driven_Wheels         0.000000\n",
       "Number of Doors       0.050361\n",
       "Market Category      28.336411\n",
       "Vehicle Size          0.000000\n",
       "Vehicle Style         0.000000\n",
       "highway MPG           0.000000\n",
       "city mpg              0.000000\n",
       "Popularity            0.000000\n",
       "MSRP                  0.000000\n",
       "dtype: float64"
      ]
     },
     "execution_count": 77,
     "metadata": {},
     "output_type": "execute_result"
    }
   ],
   "source": [
    "data1.isnull().sum()/len(data)*100"
   ]
  },
  {
   "cell_type": "code",
   "execution_count": 78,
   "id": "38681573",
   "metadata": {
    "scrolled": true
   },
   "outputs": [
    {
     "name": "stderr",
     "output_type": "stream",
     "text": [
      "C:\\Users\\user\\AppData\\Local\\Temp\\ipykernel_13976\\4027499389.py:1: SettingWithCopyWarning: \n",
      "A value is trying to be set on a copy of a slice from a DataFrame.\n",
      "Try using .loc[row_indexer,col_indexer] = value instead\n",
      "\n",
      "See the caveats in the documentation: https://pandas.pydata.org/pandas-docs/stable/user_guide/indexing.html#returning-a-view-versus-a-copy\n",
      "  data1[\"Market Category\"] =data1[\"Market Category\"].fillna(data1[\"Market Category\"].mode()[0])\n"
     ]
    }
   ],
   "source": [
    "data1[\"Market Category\"] =data1[\"Market Category\"].fillna(data1[\"Market Category\"].mode()[0])"
   ]
  },
  {
   "cell_type": "code",
   "execution_count": 79,
   "id": "710a3376",
   "metadata": {},
   "outputs": [
    {
     "name": "stderr",
     "output_type": "stream",
     "text": [
      "C:\\Users\\user\\AppData\\Local\\Temp\\ipykernel_13976\\744114377.py:1: SettingWithCopyWarning: \n",
      "A value is trying to be set on a copy of a slice from a DataFrame.\n",
      "Try using .loc[row_indexer,col_indexer] = value instead\n",
      "\n",
      "See the caveats in the documentation: https://pandas.pydata.org/pandas-docs/stable/user_guide/indexing.html#returning-a-view-versus-a-copy\n",
      "  data1[\"Engine Cylinders\"] =data1[\"Engine Cylinders\"].fillna(data1[\"Engine Cylinders\"].mode()[0])\n"
     ]
    }
   ],
   "source": [
    "data1[\"Engine Cylinders\"] =data1[\"Engine Cylinders\"].fillna(data1[\"Engine Cylinders\"].mode()[0])"
   ]
  },
  {
   "cell_type": "code",
   "execution_count": 80,
   "id": "43b427d9",
   "metadata": {},
   "outputs": [
    {
     "name": "stderr",
     "output_type": "stream",
     "text": [
      "C:\\Users\\user\\AppData\\Local\\Temp\\ipykernel_13976\\4170892581.py:1: SettingWithCopyWarning: \n",
      "A value is trying to be set on a copy of a slice from a DataFrame.\n",
      "Try using .loc[row_indexer,col_indexer] = value instead\n",
      "\n",
      "See the caveats in the documentation: https://pandas.pydata.org/pandas-docs/stable/user_guide/indexing.html#returning-a-view-versus-a-copy\n",
      "  data1[\"Number of Doors\"] =data1[\"Number of Doors\"].fillna(data1[\"Number of Doors\"].mode()[0])\n"
     ]
    }
   ],
   "source": [
    "data1[\"Number of Doors\"] =data1[\"Number of Doors\"].fillna(data1[\"Number of Doors\"].mode()[0])"
   ]
  },
  {
   "cell_type": "code",
   "execution_count": 81,
   "id": "5b999981",
   "metadata": {},
   "outputs": [
    {
     "name": "stderr",
     "output_type": "stream",
     "text": [
      "C:\\Users\\user\\AppData\\Local\\Temp\\ipykernel_13976\\3266035407.py:1: SettingWithCopyWarning: \n",
      "A value is trying to be set on a copy of a slice from a DataFrame.\n",
      "Try using .loc[row_indexer,col_indexer] = value instead\n",
      "\n",
      "See the caveats in the documentation: https://pandas.pydata.org/pandas-docs/stable/user_guide/indexing.html#returning-a-view-versus-a-copy\n",
      "  data1[\"Engine Fuel Type\"] =data1[\"Engine Fuel Type\"].fillna(data1[\"Engine Fuel Type\"].mode()[0])\n"
     ]
    }
   ],
   "source": [
    "data1[\"Engine Fuel Type\"] =data1[\"Engine Fuel Type\"].fillna(data1[\"Engine Fuel Type\"].mode()[0])"
   ]
  },
  {
   "cell_type": "code",
   "execution_count": 82,
   "id": "56b0b88a",
   "metadata": {},
   "outputs": [
    {
     "name": "stderr",
     "output_type": "stream",
     "text": [
      "C:\\Users\\user\\AppData\\Local\\Temp\\ipykernel_13976\\2250829759.py:1: SettingWithCopyWarning: \n",
      "A value is trying to be set on a copy of a slice from a DataFrame.\n",
      "Try using .loc[row_indexer,col_indexer] = value instead\n",
      "\n",
      "See the caveats in the documentation: https://pandas.pydata.org/pandas-docs/stable/user_guide/indexing.html#returning-a-view-versus-a-copy\n",
      "  data1[\"Engine HP\"] =data1[\"Engine HP\"].fillna(data1[\"Engine HP\"].median())\n"
     ]
    }
   ],
   "source": [
    "data1[\"Engine HP\"] =data1[\"Engine HP\"].fillna(data1[\"Engine HP\"].median())"
   ]
  },
  {
   "cell_type": "code",
   "execution_count": 83,
   "id": "ceb406eb",
   "metadata": {},
   "outputs": [
    {
     "data": {
      "text/plain": [
       "Make                 0\n",
       "Model                0\n",
       "Year                 0\n",
       "Engine Fuel Type     0\n",
       "Engine HP            0\n",
       "Engine Cylinders     0\n",
       "Transmission Type    0\n",
       "Driven_Wheels        0\n",
       "Number of Doors      0\n",
       "Market Category      0\n",
       "Vehicle Size         0\n",
       "Vehicle Style        0\n",
       "highway MPG          0\n",
       "city mpg             0\n",
       "Popularity           0\n",
       "MSRP                 0\n",
       "dtype: int64"
      ]
     },
     "execution_count": 83,
     "metadata": {},
     "output_type": "execute_result"
    }
   ],
   "source": [
    "data1.isnull().sum()"
   ]
  },
  {
   "cell_type": "code",
   "execution_count": 84,
   "id": "9c010cfe",
   "metadata": {},
   "outputs": [
    {
     "data": {
      "text/html": [
       "<div>\n",
       "<style scoped>\n",
       "    .dataframe tbody tr th:only-of-type {\n",
       "        vertical-align: middle;\n",
       "    }\n",
       "\n",
       "    .dataframe tbody tr th {\n",
       "        vertical-align: top;\n",
       "    }\n",
       "\n",
       "    .dataframe thead th {\n",
       "        text-align: right;\n",
       "    }\n",
       "</style>\n",
       "<table border=\"1\" class=\"dataframe\">\n",
       "  <thead>\n",
       "    <tr style=\"text-align: right;\">\n",
       "      <th></th>\n",
       "      <th>Year</th>\n",
       "      <th>Engine HP</th>\n",
       "      <th>Engine Cylinders</th>\n",
       "      <th>Number of Doors</th>\n",
       "      <th>highway MPG</th>\n",
       "      <th>city mpg</th>\n",
       "      <th>Popularity</th>\n",
       "      <th>MSRP</th>\n",
       "    </tr>\n",
       "  </thead>\n",
       "  <tbody>\n",
       "    <tr>\n",
       "      <th>count</th>\n",
       "      <td>11199.000000</td>\n",
       "      <td>11199.000000</td>\n",
       "      <td>11199.000000</td>\n",
       "      <td>11199.000000</td>\n",
       "      <td>11199.000000</td>\n",
       "      <td>11199.000000</td>\n",
       "      <td>11199.000000</td>\n",
       "      <td>1.119900e+04</td>\n",
       "    </tr>\n",
       "    <tr>\n",
       "      <th>mean</th>\n",
       "      <td>2010.714528</td>\n",
       "      <td>253.300205</td>\n",
       "      <td>5.661488</td>\n",
       "      <td>3.454416</td>\n",
       "      <td>26.610590</td>\n",
       "      <td>19.731851</td>\n",
       "      <td>1558.483347</td>\n",
       "      <td>4.192593e+04</td>\n",
       "    </tr>\n",
       "    <tr>\n",
       "      <th>std</th>\n",
       "      <td>7.228211</td>\n",
       "      <td>109.816822</td>\n",
       "      <td>1.796677</td>\n",
       "      <td>0.872804</td>\n",
       "      <td>8.977641</td>\n",
       "      <td>9.177555</td>\n",
       "      <td>1445.668872</td>\n",
       "      <td>6.153505e+04</td>\n",
       "    </tr>\n",
       "    <tr>\n",
       "      <th>min</th>\n",
       "      <td>1990.000000</td>\n",
       "      <td>55.000000</td>\n",
       "      <td>0.000000</td>\n",
       "      <td>2.000000</td>\n",
       "      <td>12.000000</td>\n",
       "      <td>7.000000</td>\n",
       "      <td>2.000000</td>\n",
       "      <td>2.000000e+03</td>\n",
       "    </tr>\n",
       "    <tr>\n",
       "      <th>25%</th>\n",
       "      <td>2007.000000</td>\n",
       "      <td>172.000000</td>\n",
       "      <td>4.000000</td>\n",
       "      <td>2.000000</td>\n",
       "      <td>22.000000</td>\n",
       "      <td>16.000000</td>\n",
       "      <td>549.000000</td>\n",
       "      <td>2.159950e+04</td>\n",
       "    </tr>\n",
       "    <tr>\n",
       "      <th>50%</th>\n",
       "      <td>2015.000000</td>\n",
       "      <td>239.000000</td>\n",
       "      <td>6.000000</td>\n",
       "      <td>4.000000</td>\n",
       "      <td>25.000000</td>\n",
       "      <td>18.000000</td>\n",
       "      <td>1385.000000</td>\n",
       "      <td>3.067500e+04</td>\n",
       "    </tr>\n",
       "    <tr>\n",
       "      <th>75%</th>\n",
       "      <td>2016.000000</td>\n",
       "      <td>303.000000</td>\n",
       "      <td>6.000000</td>\n",
       "      <td>4.000000</td>\n",
       "      <td>30.000000</td>\n",
       "      <td>22.000000</td>\n",
       "      <td>2009.000000</td>\n",
       "      <td>4.303250e+04</td>\n",
       "    </tr>\n",
       "    <tr>\n",
       "      <th>max</th>\n",
       "      <td>2017.000000</td>\n",
       "      <td>1001.000000</td>\n",
       "      <td>16.000000</td>\n",
       "      <td>4.000000</td>\n",
       "      <td>354.000000</td>\n",
       "      <td>137.000000</td>\n",
       "      <td>5657.000000</td>\n",
       "      <td>2.065902e+06</td>\n",
       "    </tr>\n",
       "  </tbody>\n",
       "</table>\n",
       "</div>"
      ],
      "text/plain": [
       "               Year     Engine HP  Engine Cylinders  Number of Doors  \\\n",
       "count  11199.000000  11199.000000      11199.000000     11199.000000   \n",
       "mean    2010.714528    253.300205          5.661488         3.454416   \n",
       "std        7.228211    109.816822          1.796677         0.872804   \n",
       "min     1990.000000     55.000000          0.000000         2.000000   \n",
       "25%     2007.000000    172.000000          4.000000         2.000000   \n",
       "50%     2015.000000    239.000000          6.000000         4.000000   \n",
       "75%     2016.000000    303.000000          6.000000         4.000000   \n",
       "max     2017.000000   1001.000000         16.000000         4.000000   \n",
       "\n",
       "        highway MPG      city mpg    Popularity          MSRP  \n",
       "count  11199.000000  11199.000000  11199.000000  1.119900e+04  \n",
       "mean      26.610590     19.731851   1558.483347  4.192593e+04  \n",
       "std        8.977641      9.177555   1445.668872  6.153505e+04  \n",
       "min       12.000000      7.000000      2.000000  2.000000e+03  \n",
       "25%       22.000000     16.000000    549.000000  2.159950e+04  \n",
       "50%       25.000000     18.000000   1385.000000  3.067500e+04  \n",
       "75%       30.000000     22.000000   2009.000000  4.303250e+04  \n",
       "max      354.000000    137.000000   5657.000000  2.065902e+06  "
      ]
     },
     "execution_count": 84,
     "metadata": {},
     "output_type": "execute_result"
    }
   ],
   "source": [
    "data1.describe()"
   ]
  },
  {
   "cell_type": "code",
   "execution_count": 85,
   "id": "52b92713",
   "metadata": {},
   "outputs": [
    {
     "data": {
      "text/plain": [
       "464.3000000000011"
      ]
     },
     "execution_count": 85,
     "metadata": {},
     "output_type": "execute_result"
    }
   ],
   "source": [
    "upper_limit=data1[\"Engine HP\"].quantile(0.95)\n",
    "upper_limit"
   ]
  },
  {
   "cell_type": "code",
   "execution_count": 86,
   "id": "dfc44d61",
   "metadata": {},
   "outputs": [
    {
     "data": {
      "text/plain": [
       "239.0"
      ]
     },
     "execution_count": 86,
     "metadata": {},
     "output_type": "execute_result"
    }
   ],
   "source": [
    "lower_limit=data1[\"Engine HP\"].quantile(0.5)\n",
    "lower_limit"
   ]
  },
  {
   "cell_type": "code",
   "execution_count": 87,
   "id": "5223d4a0",
   "metadata": {},
   "outputs": [
    {
     "name": "stderr",
     "output_type": "stream",
     "text": [
      "C:\\Users\\user\\AppData\\Local\\Temp\\ipykernel_13976\\772070657.py:2: SettingWithCopyWarning: \n",
      "A value is trying to be set on a copy of a slice from a DataFrame.\n",
      "Try using .loc[row_indexer,col_indexer] = value instead\n",
      "\n",
      "See the caveats in the documentation: https://pandas.pydata.org/pandas-docs/stable/user_guide/indexing.html#returning-a-view-versus-a-copy\n",
      "  data1[\"Engine HP\"]=np.where(data1[\"Engine HP\"]>=upper_limit,\n"
     ]
    }
   ],
   "source": [
    "import numpy as np\n",
    "data1[\"Engine HP\"]=np.where(data1[\"Engine HP\"]>=upper_limit,\n",
    "                        upper_limit,\n",
    "                        np.where(data1[\"Engine HP\"]<=lower_limit,\n",
    "                        lower_limit,\n",
    "                        data1[\"Engine HP\"]))"
   ]
  },
  {
   "cell_type": "code",
   "execution_count": 88,
   "id": "3e012e23",
   "metadata": {},
   "outputs": [
    {
     "data": {
      "text/plain": [
       "(11199, 16)"
      ]
     },
     "execution_count": 88,
     "metadata": {},
     "output_type": "execute_result"
    }
   ],
   "source": [
    "data1.shape"
   ]
  },
  {
   "cell_type": "code",
   "execution_count": 89,
   "id": "a0520e13",
   "metadata": {},
   "outputs": [
    {
     "data": {
      "text/plain": [
       "(11199, 16)"
      ]
     },
     "execution_count": 89,
     "metadata": {},
     "output_type": "execute_result"
    }
   ],
   "source": [
    "data1.shape"
   ]
  },
  {
   "cell_type": "code",
   "execution_count": 90,
   "id": "6223c3e7",
   "metadata": {},
   "outputs": [
    {
     "name": "stderr",
     "output_type": "stream",
     "text": [
      "C:\\Users\\user\\AppData\\Local\\Temp\\ipykernel_13976\\3713938875.py:6: SettingWithCopyWarning: \n",
      "A value is trying to be set on a copy of a slice from a DataFrame.\n",
      "Try using .loc[row_indexer,col_indexer] = value instead\n",
      "\n",
      "See the caveats in the documentation: https://pandas.pydata.org/pandas-docs/stable/user_guide/indexing.html#returning-a-view-versus-a-copy\n",
      "  data1[\"highway MPG\"]=np.where(data1[\"highway MPG\"]>=upper_limit,\n"
     ]
    }
   ],
   "source": [
    "upper_limit=data1[\"highway MPG\"].quantile(0.95)\n",
    "upper_limit\n",
    "lower_limit=data1[\"highway MPG\"].quantile(0.5)\n",
    "lower_limit\n",
    "import numpy as np\n",
    "data1[\"highway MPG\"]=np.where(data1[\"highway MPG\"]>=upper_limit,\n",
    "                        upper_limit,\n",
    "                        np.where(data1[\"highway MPG\"]<=lower_limit,\n",
    "                        lower_limit,\n",
    "                        data1[\"highway MPG\"]))"
   ]
  },
  {
   "cell_type": "code",
   "execution_count": 91,
   "id": "8cc9c6a8",
   "metadata": {},
   "outputs": [
    {
     "name": "stderr",
     "output_type": "stream",
     "text": [
      "C:\\Users\\user\\AppData\\Local\\Temp\\ipykernel_13976\\3223809728.py:6: SettingWithCopyWarning: \n",
      "A value is trying to be set on a copy of a slice from a DataFrame.\n",
      "Try using .loc[row_indexer,col_indexer] = value instead\n",
      "\n",
      "See the caveats in the documentation: https://pandas.pydata.org/pandas-docs/stable/user_guide/indexing.html#returning-a-view-versus-a-copy\n",
      "  data1[\"city mpg\"]=np.where(data1[\"city mpg\"]>=upper_limit,\n"
     ]
    }
   ],
   "source": [
    "upper_limit=data1[\"city mpg\"].quantile(0.95)\n",
    "upper_limit\n",
    "lower_limit=data1[\"city mpg\"].quantile(0.5)\n",
    "lower_limit\n",
    "import numpy as np\n",
    "data1[\"city mpg\"]=np.where(data1[\"city mpg\"]>=upper_limit,\n",
    "                        upper_limit,\n",
    "                        np.where(data1[\"city mpg\"]<=lower_limit,\n",
    "                        lower_limit,\n",
    "                        data1[\"city mpg\"]))"
   ]
  },
  {
   "cell_type": "code",
   "execution_count": 92,
   "id": "0fedb45c",
   "metadata": {},
   "outputs": [
    {
     "name": "stderr",
     "output_type": "stream",
     "text": [
      "C:\\Users\\user\\AppData\\Local\\Temp\\ipykernel_13976\\338068878.py:6: SettingWithCopyWarning: \n",
      "A value is trying to be set on a copy of a slice from a DataFrame.\n",
      "Try using .loc[row_indexer,col_indexer] = value instead\n",
      "\n",
      "See the caveats in the documentation: https://pandas.pydata.org/pandas-docs/stable/user_guide/indexing.html#returning-a-view-versus-a-copy\n",
      "  data1[\"Popularity\"]=np.where(data1[\"Popularity\"]>=upper_limit,\n"
     ]
    }
   ],
   "source": [
    "upper_limit=data1[\"Popularity\"].quantile(0.95)\n",
    "upper_limit\n",
    "lower_limit=data1[\"Popularity\"].quantile(0.5)\n",
    "lower_limit\n",
    "import numpy as np\n",
    "data1[\"Popularity\"]=np.where(data1[\"Popularity\"]>=upper_limit,\n",
    "                        upper_limit,\n",
    "                        np.where(data1[\"Popularity\"]<=lower_limit,\n",
    "                        lower_limit,\n",
    "                        data1[\"Popularity\"]))"
   ]
  },
  {
   "cell_type": "code",
   "execution_count": 93,
   "id": "fafd1b53",
   "metadata": {},
   "outputs": [
    {
     "name": "stderr",
     "output_type": "stream",
     "text": [
      "C:\\Users\\user\\AppData\\Local\\Temp\\ipykernel_13976\\3473180859.py:6: SettingWithCopyWarning: \n",
      "A value is trying to be set on a copy of a slice from a DataFrame.\n",
      "Try using .loc[row_indexer,col_indexer] = value instead\n",
      "\n",
      "See the caveats in the documentation: https://pandas.pydata.org/pandas-docs/stable/user_guide/indexing.html#returning-a-view-versus-a-copy\n",
      "  data1[\"MSRP\"]=np.where(data1[\"MSRP\"]>=upper_limit,\n"
     ]
    }
   ],
   "source": [
    "upper_limit=data1[\"MSRP\"].quantile(0.95)\n",
    "upper_limit\n",
    "lower_limit=data1[\"MSRP\"].quantile(0.5)\n",
    "lower_limit\n",
    "import numpy as np\n",
    "data1[\"MSRP\"]=np.where(data1[\"MSRP\"]>=upper_limit,\n",
    "                        upper_limit,\n",
    "                        np.where(data1[\"MSRP\"]<=lower_limit,\n",
    "                        lower_limit,\n",
    "                        data1[\"MSRP\"]))"
   ]
  },
  {
   "cell_type": "code",
   "execution_count": 94,
   "id": "a4661a14",
   "metadata": {},
   "outputs": [
    {
     "data": {
      "text/plain": [
       "2215"
      ]
     },
     "execution_count": 94,
     "metadata": {},
     "output_type": "execute_result"
    }
   ],
   "source": [
    "data1.duplicated().sum()"
   ]
  },
  {
   "cell_type": "code",
   "execution_count": 95,
   "id": "691faab1",
   "metadata": {},
   "outputs": [],
   "source": [
    "data1=data1.drop_duplicates()"
   ]
  },
  {
   "cell_type": "code",
   "execution_count": 96,
   "id": "1a74135d",
   "metadata": {},
   "outputs": [
    {
     "data": {
      "text/plain": [
       "(8984, 16)"
      ]
     },
     "execution_count": 96,
     "metadata": {},
     "output_type": "execute_result"
    }
   ],
   "source": [
    "data1.shape"
   ]
  },
  {
   "cell_type": "code",
   "execution_count": 97,
   "id": "4aaa5c80",
   "metadata": {},
   "outputs": [
    {
     "name": "stdout",
     "output_type": "stream",
     "text": [
      "<class 'pandas.core.frame.DataFrame'>\n",
      "Index: 8984 entries, 0 to 11913\n",
      "Data columns (total 16 columns):\n",
      " #   Column             Non-Null Count  Dtype  \n",
      "---  ------             --------------  -----  \n",
      " 0   Make               8984 non-null   object \n",
      " 1   Model              8984 non-null   object \n",
      " 2   Year               8984 non-null   int64  \n",
      " 3   Engine Fuel Type   8984 non-null   object \n",
      " 4   Engine HP          8984 non-null   float64\n",
      " 5   Engine Cylinders   8984 non-null   float64\n",
      " 6   Transmission Type  8984 non-null   object \n",
      " 7   Driven_Wheels      8984 non-null   object \n",
      " 8   Number of Doors    8984 non-null   float64\n",
      " 9   Market Category    8984 non-null   object \n",
      " 10  Vehicle Size       8984 non-null   object \n",
      " 11  Vehicle Style      8984 non-null   object \n",
      " 12  highway MPG        8984 non-null   float64\n",
      " 13  city mpg           8984 non-null   float64\n",
      " 14  Popularity         8984 non-null   float64\n",
      " 15  MSRP               8984 non-null   float64\n",
      "dtypes: float64(7), int64(1), object(8)\n",
      "memory usage: 1.2+ MB\n"
     ]
    }
   ],
   "source": [
    "data1.info()"
   ]
  },
  {
   "cell_type": "markdown",
   "id": "e5f42fb5",
   "metadata": {},
   "source": [
    "## encoding"
   ]
  },
  {
   "cell_type": "code",
   "execution_count": 98,
   "id": "d9ed96c4",
   "metadata": {},
   "outputs": [
    {
     "data": {
      "text/html": [
       "<div>\n",
       "<style scoped>\n",
       "    .dataframe tbody tr th:only-of-type {\n",
       "        vertical-align: middle;\n",
       "    }\n",
       "\n",
       "    .dataframe tbody tr th {\n",
       "        vertical-align: top;\n",
       "    }\n",
       "\n",
       "    .dataframe thead th {\n",
       "        text-align: right;\n",
       "    }\n",
       "</style>\n",
       "<table border=\"1\" class=\"dataframe\">\n",
       "  <thead>\n",
       "    <tr style=\"text-align: right;\">\n",
       "      <th></th>\n",
       "      <th>Make</th>\n",
       "      <th>Model</th>\n",
       "      <th>Year</th>\n",
       "      <th>Engine Fuel Type</th>\n",
       "      <th>Engine HP</th>\n",
       "      <th>Engine Cylinders</th>\n",
       "      <th>Transmission Type</th>\n",
       "      <th>Driven_Wheels</th>\n",
       "      <th>Number of Doors</th>\n",
       "      <th>Market Category</th>\n",
       "      <th>Vehicle Size</th>\n",
       "      <th>Vehicle Style</th>\n",
       "      <th>highway MPG</th>\n",
       "      <th>city mpg</th>\n",
       "      <th>Popularity</th>\n",
       "      <th>MSRP</th>\n",
       "    </tr>\n",
       "  </thead>\n",
       "  <tbody>\n",
       "    <tr>\n",
       "      <th>0</th>\n",
       "      <td>61234.467085</td>\n",
       "      <td>46135.000000</td>\n",
       "      <td>2011</td>\n",
       "      <td>68971.313392</td>\n",
       "      <td>335.0</td>\n",
       "      <td>6.0</td>\n",
       "      <td>40171.941028</td>\n",
       "      <td>50695.818703</td>\n",
       "      <td>2.0</td>\n",
       "      <td>76717.416268</td>\n",
       "      <td>41037.010413</td>\n",
       "      <td>58472.336946</td>\n",
       "      <td>26.0</td>\n",
       "      <td>19.0</td>\n",
       "      <td>3916.0</td>\n",
       "      <td>46135.0</td>\n",
       "    </tr>\n",
       "    <tr>\n",
       "      <th>1</th>\n",
       "      <td>61234.467085</td>\n",
       "      <td>38358.333333</td>\n",
       "      <td>2011</td>\n",
       "      <td>68971.313392</td>\n",
       "      <td>300.0</td>\n",
       "      <td>6.0</td>\n",
       "      <td>40171.941028</td>\n",
       "      <td>50695.818703</td>\n",
       "      <td>2.0</td>\n",
       "      <td>50163.141321</td>\n",
       "      <td>41037.010413</td>\n",
       "      <td>62771.694992</td>\n",
       "      <td>28.0</td>\n",
       "      <td>19.0</td>\n",
       "      <td>3916.0</td>\n",
       "      <td>40650.0</td>\n",
       "    </tr>\n",
       "    <tr>\n",
       "      <th>2</th>\n",
       "      <td>61234.467085</td>\n",
       "      <td>38358.333333</td>\n",
       "      <td>2011</td>\n",
       "      <td>68971.313392</td>\n",
       "      <td>300.0</td>\n",
       "      <td>6.0</td>\n",
       "      <td>40171.941028</td>\n",
       "      <td>50695.818703</td>\n",
       "      <td>2.0</td>\n",
       "      <td>76932.628205</td>\n",
       "      <td>41037.010413</td>\n",
       "      <td>58472.336946</td>\n",
       "      <td>28.0</td>\n",
       "      <td>20.0</td>\n",
       "      <td>3916.0</td>\n",
       "      <td>36350.0</td>\n",
       "    </tr>\n",
       "    <tr>\n",
       "      <th>3</th>\n",
       "      <td>61234.467085</td>\n",
       "      <td>38358.333333</td>\n",
       "      <td>2011</td>\n",
       "      <td>68971.313392</td>\n",
       "      <td>239.0</td>\n",
       "      <td>6.0</td>\n",
       "      <td>40171.941028</td>\n",
       "      <td>50695.818703</td>\n",
       "      <td>2.0</td>\n",
       "      <td>50163.141321</td>\n",
       "      <td>41037.010413</td>\n",
       "      <td>58472.336946</td>\n",
       "      <td>28.0</td>\n",
       "      <td>18.0</td>\n",
       "      <td>3916.0</td>\n",
       "      <td>30675.0</td>\n",
       "    </tr>\n",
       "    <tr>\n",
       "      <th>4</th>\n",
       "      <td>61234.467085</td>\n",
       "      <td>38358.333333</td>\n",
       "      <td>2011</td>\n",
       "      <td>68971.313392</td>\n",
       "      <td>239.0</td>\n",
       "      <td>6.0</td>\n",
       "      <td>40171.941028</td>\n",
       "      <td>50695.818703</td>\n",
       "      <td>2.0</td>\n",
       "      <td>41033.342711</td>\n",
       "      <td>41037.010413</td>\n",
       "      <td>62771.694992</td>\n",
       "      <td>28.0</td>\n",
       "      <td>18.0</td>\n",
       "      <td>3916.0</td>\n",
       "      <td>34500.0</td>\n",
       "    </tr>\n",
       "  </tbody>\n",
       "</table>\n",
       "</div>"
      ],
      "text/plain": [
       "           Make         Model  Year  Engine Fuel Type  Engine HP  \\\n",
       "0  61234.467085  46135.000000  2011      68971.313392      335.0   \n",
       "1  61234.467085  38358.333333  2011      68971.313392      300.0   \n",
       "2  61234.467085  38358.333333  2011      68971.313392      300.0   \n",
       "3  61234.467085  38358.333333  2011      68971.313392      239.0   \n",
       "4  61234.467085  38358.333333  2011      68971.313392      239.0   \n",
       "\n",
       "   Engine Cylinders  Transmission Type  Driven_Wheels  Number of Doors  \\\n",
       "0               6.0       40171.941028   50695.818703              2.0   \n",
       "1               6.0       40171.941028   50695.818703              2.0   \n",
       "2               6.0       40171.941028   50695.818703              2.0   \n",
       "3               6.0       40171.941028   50695.818703              2.0   \n",
       "4               6.0       40171.941028   50695.818703              2.0   \n",
       "\n",
       "   Market Category  Vehicle Size  Vehicle Style  highway MPG  city mpg  \\\n",
       "0     76717.416268  41037.010413   58472.336946         26.0      19.0   \n",
       "1     50163.141321  41037.010413   62771.694992         28.0      19.0   \n",
       "2     76932.628205  41037.010413   58472.336946         28.0      20.0   \n",
       "3     50163.141321  41037.010413   58472.336946         28.0      18.0   \n",
       "4     41033.342711  41037.010413   62771.694992         28.0      18.0   \n",
       "\n",
       "   Popularity     MSRP  \n",
       "0      3916.0  46135.0  \n",
       "1      3916.0  40650.0  \n",
       "2      3916.0  36350.0  \n",
       "3      3916.0  30675.0  \n",
       "4      3916.0  34500.0  "
      ]
     },
     "execution_count": 98,
     "metadata": {},
     "output_type": "execute_result"
    }
   ],
   "source": [
    "!pip install feature_engine -q\n",
    "from feature_engine.encoding import MeanEncoder\n",
    "data2 = data1.copy()\n",
    "col=[\"Make\",\"Model\",\"Engine Fuel Type\",\"Transmission Type\",\"Driven_Wheels\",\"Market Category\",\"Vehicle Size\",\"Vehicle Style\"]\n",
    "encoder=MeanEncoder(variables=col)\n",
    "data2[col]=encoder.fit_transform(data1[col],data1['MSRP'])\n",
    "data2.head()"
   ]
  },
  {
   "cell_type": "code",
   "execution_count": 99,
   "id": "12e59262",
   "metadata": {
    "scrolled": true
   },
   "outputs": [
    {
     "data": {
      "text/plain": [
       "array([2011, 2012, 2013, 1992, 1993, 1994, 2017, 1991, 2016, 1990, 2015,\n",
       "       1996, 1997, 1998, 2014, 1999, 2002, 2003, 2004, 1995, 2007, 2008,\n",
       "       2009, 2001, 2010, 2000, 2005, 2006], dtype=int64)"
      ]
     },
     "execution_count": 99,
     "metadata": {},
     "output_type": "execute_result"
    }
   ],
   "source": [
    "data2.Year.unique()"
   ]
  },
  {
   "cell_type": "markdown",
   "id": "3b1e14f3",
   "metadata": {},
   "source": [
    "## scaling "
   ]
  },
  {
   "cell_type": "code",
   "execution_count": 100,
   "id": "e26942a9",
   "metadata": {},
   "outputs": [
    {
     "data": {
      "text/html": [
       "<div>\n",
       "<style scoped>\n",
       "    .dataframe tbody tr th:only-of-type {\n",
       "        vertical-align: middle;\n",
       "    }\n",
       "\n",
       "    .dataframe tbody tr th {\n",
       "        vertical-align: top;\n",
       "    }\n",
       "\n",
       "    .dataframe thead th {\n",
       "        text-align: right;\n",
       "    }\n",
       "</style>\n",
       "<table border=\"1\" class=\"dataframe\">\n",
       "  <thead>\n",
       "    <tr style=\"text-align: right;\">\n",
       "      <th></th>\n",
       "      <th>0</th>\n",
       "      <th>1</th>\n",
       "      <th>2</th>\n",
       "      <th>3</th>\n",
       "      <th>4</th>\n",
       "      <th>5</th>\n",
       "      <th>6</th>\n",
       "      <th>7</th>\n",
       "      <th>8</th>\n",
       "      <th>9</th>\n",
       "      <th>10</th>\n",
       "      <th>11</th>\n",
       "      <th>12</th>\n",
       "      <th>13</th>\n",
       "      <th>14</th>\n",
       "      <th>15</th>\n",
       "    </tr>\n",
       "  </thead>\n",
       "  <tbody>\n",
       "    <tr>\n",
       "      <th>0</th>\n",
       "      <td>1.011873</td>\n",
       "      <td>0.104375</td>\n",
       "      <td>0.032992</td>\n",
       "      <td>1.796727</td>\n",
       "      <td>0.655611</td>\n",
       "      <td>0.087883</td>\n",
       "      <td>-0.726935</td>\n",
       "      <td>0.823491</td>\n",
       "      <td>-1.655071</td>\n",
       "      <td>1.783658</td>\n",
       "      <td>-0.732686</td>\n",
       "      <td>1.588692</td>\n",
       "      <td>-0.401984</td>\n",
       "      <td>-0.303876</td>\n",
       "      <td>1.647891</td>\n",
       "      <td>0.101620</td>\n",
       "    </tr>\n",
       "    <tr>\n",
       "      <th>1</th>\n",
       "      <td>1.011873</td>\n",
       "      <td>-0.266227</td>\n",
       "      <td>0.032992</td>\n",
       "      <td>1.796727</td>\n",
       "      <td>0.141483</td>\n",
       "      <td>0.087883</td>\n",
       "      <td>-0.726935</td>\n",
       "      <td>0.823491</td>\n",
       "      <td>-1.655071</td>\n",
       "      <td>0.338434</td>\n",
       "      <td>-0.732686</td>\n",
       "      <td>2.058858</td>\n",
       "      <td>0.137921</td>\n",
       "      <td>-0.303876</td>\n",
       "      <td>1.647891</td>\n",
       "      <td>-0.152872</td>\n",
       "    </tr>\n",
       "    <tr>\n",
       "      <th>2</th>\n",
       "      <td>1.011873</td>\n",
       "      <td>-0.266227</td>\n",
       "      <td>0.032992</td>\n",
       "      <td>1.796727</td>\n",
       "      <td>0.141483</td>\n",
       "      <td>0.087883</td>\n",
       "      <td>-0.726935</td>\n",
       "      <td>0.823491</td>\n",
       "      <td>-1.655071</td>\n",
       "      <td>1.795371</td>\n",
       "      <td>-0.732686</td>\n",
       "      <td>1.588692</td>\n",
       "      <td>0.137921</td>\n",
       "      <td>0.019816</td>\n",
       "      <td>1.647891</td>\n",
       "      <td>-0.352383</td>\n",
       "    </tr>\n",
       "    <tr>\n",
       "      <th>3</th>\n",
       "      <td>1.011873</td>\n",
       "      <td>-0.266227</td>\n",
       "      <td>0.032992</td>\n",
       "      <td>1.796727</td>\n",
       "      <td>-0.754569</td>\n",
       "      <td>0.087883</td>\n",
       "      <td>-0.726935</td>\n",
       "      <td>0.823491</td>\n",
       "      <td>-1.655071</td>\n",
       "      <td>0.338434</td>\n",
       "      <td>-0.732686</td>\n",
       "      <td>1.588692</td>\n",
       "      <td>0.137921</td>\n",
       "      <td>-0.627568</td>\n",
       "      <td>1.647891</td>\n",
       "      <td>-0.615691</td>\n",
       "    </tr>\n",
       "    <tr>\n",
       "      <th>4</th>\n",
       "      <td>1.011873</td>\n",
       "      <td>-0.266227</td>\n",
       "      <td>0.032992</td>\n",
       "      <td>1.796727</td>\n",
       "      <td>-0.754569</td>\n",
       "      <td>0.087883</td>\n",
       "      <td>-0.726935</td>\n",
       "      <td>0.823491</td>\n",
       "      <td>-1.655071</td>\n",
       "      <td>-0.158457</td>\n",
       "      <td>-0.732686</td>\n",
       "      <td>2.058858</td>\n",
       "      <td>0.137921</td>\n",
       "      <td>-0.627568</td>\n",
       "      <td>1.647891</td>\n",
       "      <td>-0.438219</td>\n",
       "    </tr>\n",
       "  </tbody>\n",
       "</table>\n",
       "</div>"
      ],
      "text/plain": [
       "         0         1         2         3         4         5         6   \\\n",
       "0  1.011873  0.104375  0.032992  1.796727  0.655611  0.087883 -0.726935   \n",
       "1  1.011873 -0.266227  0.032992  1.796727  0.141483  0.087883 -0.726935   \n",
       "2  1.011873 -0.266227  0.032992  1.796727  0.141483  0.087883 -0.726935   \n",
       "3  1.011873 -0.266227  0.032992  1.796727 -0.754569  0.087883 -0.726935   \n",
       "4  1.011873 -0.266227  0.032992  1.796727 -0.754569  0.087883 -0.726935   \n",
       "\n",
       "         7         8         9         10        11        12        13  \\\n",
       "0  0.823491 -1.655071  1.783658 -0.732686  1.588692 -0.401984 -0.303876   \n",
       "1  0.823491 -1.655071  0.338434 -0.732686  2.058858  0.137921 -0.303876   \n",
       "2  0.823491 -1.655071  1.795371 -0.732686  1.588692  0.137921  0.019816   \n",
       "3  0.823491 -1.655071  0.338434 -0.732686  1.588692  0.137921 -0.627568   \n",
       "4  0.823491 -1.655071 -0.158457 -0.732686  2.058858  0.137921 -0.627568   \n",
       "\n",
       "         14        15  \n",
       "0  1.647891  0.101620  \n",
       "1  1.647891 -0.152872  \n",
       "2  1.647891 -0.352383  \n",
       "3  1.647891 -0.615691  \n",
       "4  1.647891 -0.438219  "
      ]
     },
     "execution_count": 100,
     "metadata": {},
     "output_type": "execute_result"
    }
   ],
   "source": [
    "from sklearn.preprocessing import StandardScaler\n",
    "scaler = StandardScaler()\n",
    "data3=scaler.fit_transform(data2)\n",
    "data3=pd.DataFrame(data3)\n",
    "data3.head()"
   ]
  },
  {
   "cell_type": "code",
   "execution_count": 101,
   "id": "4f239ad8",
   "metadata": {},
   "outputs": [
    {
     "data": {
      "text/html": [
       "<div>\n",
       "<style scoped>\n",
       "    .dataframe tbody tr th:only-of-type {\n",
       "        vertical-align: middle;\n",
       "    }\n",
       "\n",
       "    .dataframe tbody tr th {\n",
       "        vertical-align: top;\n",
       "    }\n",
       "\n",
       "    .dataframe thead th {\n",
       "        text-align: right;\n",
       "    }\n",
       "</style>\n",
       "<table border=\"1\" class=\"dataframe\">\n",
       "  <thead>\n",
       "    <tr style=\"text-align: right;\">\n",
       "      <th></th>\n",
       "      <th>0</th>\n",
       "      <th>1</th>\n",
       "      <th>2</th>\n",
       "      <th>3</th>\n",
       "      <th>4</th>\n",
       "      <th>5</th>\n",
       "      <th>6</th>\n",
       "      <th>7</th>\n",
       "      <th>8</th>\n",
       "      <th>9</th>\n",
       "      <th>10</th>\n",
       "      <th>11</th>\n",
       "      <th>12</th>\n",
       "      <th>13</th>\n",
       "      <th>14</th>\n",
       "      <th>15</th>\n",
       "    </tr>\n",
       "  </thead>\n",
       "  <tbody>\n",
       "    <tr>\n",
       "      <th>count</th>\n",
       "      <td>8.984000e+03</td>\n",
       "      <td>8.984000e+03</td>\n",
       "      <td>8.984000e+03</td>\n",
       "      <td>8.984000e+03</td>\n",
       "      <td>8.984000e+03</td>\n",
       "      <td>8.984000e+03</td>\n",
       "      <td>8.984000e+03</td>\n",
       "      <td>8.984000e+03</td>\n",
       "      <td>8.984000e+03</td>\n",
       "      <td>8.984000e+03</td>\n",
       "      <td>8.984000e+03</td>\n",
       "      <td>8.984000e+03</td>\n",
       "      <td>8.984000e+03</td>\n",
       "      <td>8.984000e+03</td>\n",
       "      <td>8.984000e+03</td>\n",
       "      <td>8.984000e+03</td>\n",
       "    </tr>\n",
       "    <tr>\n",
       "      <th>mean</th>\n",
       "      <td>-3.133933e-17</td>\n",
       "      <td>-5.061747e-17</td>\n",
       "      <td>-1.301502e-14</td>\n",
       "      <td>4.587208e-17</td>\n",
       "      <td>-1.423616e-16</td>\n",
       "      <td>5.378106e-17</td>\n",
       "      <td>6.327184e-18</td>\n",
       "      <td>5.694465e-17</td>\n",
       "      <td>-1.012349e-16</td>\n",
       "      <td>-7.592621e-17</td>\n",
       "      <td>-5.219927e-17</td>\n",
       "      <td>8.858057e-17</td>\n",
       "      <td>-3.543223e-16</td>\n",
       "      <td>-9.016237e-17</td>\n",
       "      <td>4.745388e-17</td>\n",
       "      <td>-3.163592e-17</td>\n",
       "    </tr>\n",
       "    <tr>\n",
       "      <th>std</th>\n",
       "      <td>1.000056e+00</td>\n",
       "      <td>1.000056e+00</td>\n",
       "      <td>1.000056e+00</td>\n",
       "      <td>1.000056e+00</td>\n",
       "      <td>1.000056e+00</td>\n",
       "      <td>1.000056e+00</td>\n",
       "      <td>1.000056e+00</td>\n",
       "      <td>1.000056e+00</td>\n",
       "      <td>1.000056e+00</td>\n",
       "      <td>1.000056e+00</td>\n",
       "      <td>1.000056e+00</td>\n",
       "      <td>1.000056e+00</td>\n",
       "      <td>1.000056e+00</td>\n",
       "      <td>1.000056e+00</td>\n",
       "      <td>1.000056e+00</td>\n",
       "      <td>1.000056e+00</td>\n",
       "    </tr>\n",
       "    <tr>\n",
       "      <th>min</th>\n",
       "      <td>-7.761757e-01</td>\n",
       "      <td>-6.323805e-01</td>\n",
       "      <td>-2.805314e+00</td>\n",
       "      <td>-9.526791e-01</td>\n",
       "      <td>-7.545686e-01</td>\n",
       "      <td>-3.227191e+00</td>\n",
       "      <td>-2.556750e+00</td>\n",
       "      <td>-1.326422e+00</td>\n",
       "      <td>-1.655071e+00</td>\n",
       "      <td>-7.222131e-01</td>\n",
       "      <td>-7.326860e-01</td>\n",
       "      <td>-1.451151e+00</td>\n",
       "      <td>-6.719359e-01</td>\n",
       "      <td>-6.275679e-01</td>\n",
       "      <td>-5.176588e-01</td>\n",
       "      <td>-6.156906e-01</td>\n",
       "    </tr>\n",
       "    <tr>\n",
       "      <th>25%</th>\n",
       "      <td>-5.064148e-01</td>\n",
       "      <td>-6.323805e-01</td>\n",
       "      <td>-5.076376e-01</td>\n",
       "      <td>-6.733444e-01</td>\n",
       "      <td>-7.545686e-01</td>\n",
       "      <td>-1.017142e+00</td>\n",
       "      <td>-7.333988e-02</td>\n",
       "      <td>-1.326422e+00</td>\n",
       "      <td>-1.655071e+00</td>\n",
       "      <td>-5.790803e-01</td>\n",
       "      <td>-7.326860e-01</td>\n",
       "      <td>-9.341245e-01</td>\n",
       "      <td>-6.719359e-01</td>\n",
       "      <td>-6.275679e-01</td>\n",
       "      <td>-5.176588e-01</td>\n",
       "      <td>-6.156906e-01</td>\n",
       "    </tr>\n",
       "    <tr>\n",
       "      <th>50%</th>\n",
       "      <td>-4.299105e-01</td>\n",
       "      <td>-3.871308e-01</td>\n",
       "      <td>5.736217e-01</td>\n",
       "      <td>-6.733444e-01</td>\n",
       "      <td>-4.460918e-01</td>\n",
       "      <td>8.788291e-02</td>\n",
       "      <td>-7.333988e-02</td>\n",
       "      <td>8.234912e-01</td>\n",
       "      <td>6.307336e-01</td>\n",
       "      <td>-4.210748e-01</td>\n",
       "      <td>-4.762042e-01</td>\n",
       "      <td>1.173620e-02</td>\n",
       "      <td>-6.719359e-01</td>\n",
       "      <td>-6.275679e-01</td>\n",
       "      <td>-5.176588e-01</td>\n",
       "      <td>-4.479624e-01</td>\n",
       "    </tr>\n",
       "    <tr>\n",
       "      <th>75%</th>\n",
       "      <td>8.450020e-02</td>\n",
       "      <td>5.910191e-02</td>\n",
       "      <td>7.087791e-01</td>\n",
       "      <td>2.169531e-02</td>\n",
       "      <td>3.912022e-01</td>\n",
       "      <td>8.788291e-02</td>\n",
       "      <td>-7.333988e-02</td>\n",
       "      <td>8.234912e-01</td>\n",
       "      <td>6.307336e-01</td>\n",
       "      <td>1.356406e-01</td>\n",
       "      <td>1.647705e+00</td>\n",
       "      <td>9.059642e-02</td>\n",
       "      <td>4.078731e-01</td>\n",
       "      <td>3.435086e-01</td>\n",
       "      <td>1.624212e-02</td>\n",
       "      <td>1.190772e-01</td>\n",
       "    </tr>\n",
       "    <tr>\n",
       "      <th>max</th>\n",
       "      <td>3.987011e+00</td>\n",
       "      <td>3.246545e+00</td>\n",
       "      <td>8.439365e-01</td>\n",
       "      <td>4.119065e+00</td>\n",
       "      <td>2.554946e+00</td>\n",
       "      <td>5.613006e+00</td>\n",
       "      <td>4.117437e+00</td>\n",
       "      <td>9.176961e-01</td>\n",
       "      <td>6.307336e-01</td>\n",
       "      <td>3.707732e+00</td>\n",
       "      <td>1.647705e+00</td>\n",
       "      <td>2.058858e+00</td>\n",
       "      <td>2.837443e+00</td>\n",
       "      <td>2.933046e+00</td>\n",
       "      <td>3.137509e+00</td>\n",
       "      <td>3.160862e+00</td>\n",
       "    </tr>\n",
       "  </tbody>\n",
       "</table>\n",
       "</div>"
      ],
      "text/plain": [
       "                 0             1             2             3             4   \\\n",
       "count  8.984000e+03  8.984000e+03  8.984000e+03  8.984000e+03  8.984000e+03   \n",
       "mean  -3.133933e-17 -5.061747e-17 -1.301502e-14  4.587208e-17 -1.423616e-16   \n",
       "std    1.000056e+00  1.000056e+00  1.000056e+00  1.000056e+00  1.000056e+00   \n",
       "min   -7.761757e-01 -6.323805e-01 -2.805314e+00 -9.526791e-01 -7.545686e-01   \n",
       "25%   -5.064148e-01 -6.323805e-01 -5.076376e-01 -6.733444e-01 -7.545686e-01   \n",
       "50%   -4.299105e-01 -3.871308e-01  5.736217e-01 -6.733444e-01 -4.460918e-01   \n",
       "75%    8.450020e-02  5.910191e-02  7.087791e-01  2.169531e-02  3.912022e-01   \n",
       "max    3.987011e+00  3.246545e+00  8.439365e-01  4.119065e+00  2.554946e+00   \n",
       "\n",
       "                 5             6             7             8             9   \\\n",
       "count  8.984000e+03  8.984000e+03  8.984000e+03  8.984000e+03  8.984000e+03   \n",
       "mean   5.378106e-17  6.327184e-18  5.694465e-17 -1.012349e-16 -7.592621e-17   \n",
       "std    1.000056e+00  1.000056e+00  1.000056e+00  1.000056e+00  1.000056e+00   \n",
       "min   -3.227191e+00 -2.556750e+00 -1.326422e+00 -1.655071e+00 -7.222131e-01   \n",
       "25%   -1.017142e+00 -7.333988e-02 -1.326422e+00 -1.655071e+00 -5.790803e-01   \n",
       "50%    8.788291e-02 -7.333988e-02  8.234912e-01  6.307336e-01 -4.210748e-01   \n",
       "75%    8.788291e-02 -7.333988e-02  8.234912e-01  6.307336e-01  1.356406e-01   \n",
       "max    5.613006e+00  4.117437e+00  9.176961e-01  6.307336e-01  3.707732e+00   \n",
       "\n",
       "                 10            11            12            13            14  \\\n",
       "count  8.984000e+03  8.984000e+03  8.984000e+03  8.984000e+03  8.984000e+03   \n",
       "mean  -5.219927e-17  8.858057e-17 -3.543223e-16 -9.016237e-17  4.745388e-17   \n",
       "std    1.000056e+00  1.000056e+00  1.000056e+00  1.000056e+00  1.000056e+00   \n",
       "min   -7.326860e-01 -1.451151e+00 -6.719359e-01 -6.275679e-01 -5.176588e-01   \n",
       "25%   -7.326860e-01 -9.341245e-01 -6.719359e-01 -6.275679e-01 -5.176588e-01   \n",
       "50%   -4.762042e-01  1.173620e-02 -6.719359e-01 -6.275679e-01 -5.176588e-01   \n",
       "75%    1.647705e+00  9.059642e-02  4.078731e-01  3.435086e-01  1.624212e-02   \n",
       "max    1.647705e+00  2.058858e+00  2.837443e+00  2.933046e+00  3.137509e+00   \n",
       "\n",
       "                 15  \n",
       "count  8.984000e+03  \n",
       "mean  -3.163592e-17  \n",
       "std    1.000056e+00  \n",
       "min   -6.156906e-01  \n",
       "25%   -6.156906e-01  \n",
       "50%   -4.479624e-01  \n",
       "75%    1.190772e-01  \n",
       "max    3.160862e+00  "
      ]
     },
     "execution_count": 101,
     "metadata": {},
     "output_type": "execute_result"
    }
   ],
   "source": [
    "data3.describe()"
   ]
  },
  {
   "cell_type": "markdown",
   "id": "1212ab14",
   "metadata": {},
   "source": [
    "## linear regression"
   ]
  },
  {
   "cell_type": "code",
   "execution_count": 102,
   "id": "cd44f5cc",
   "metadata": {
    "scrolled": true
   },
   "outputs": [
    {
     "name": "stdout",
     "output_type": "stream",
     "text": [
      "Intercept: 0.00041614409949985044\n",
      "Coefficients [ 8.66069053e-04  8.11570229e-01 -1.64758699e-02  9.55599297e-04\n",
      "  1.49904067e-01 -1.48196742e-02  7.77540000e-03 -1.00253222e-02\n",
      "  1.86762801e-02  7.96335107e-02 -9.53712434e-03  8.21109563e-04\n",
      " -3.56212876e-02  4.32841211e-02 -9.02730017e-05]\n"
     ]
    },
    {
     "data": {
      "text/plain": [
       "0.9505256380144669"
      ]
     },
     "execution_count": 102,
     "metadata": {},
     "output_type": "execute_result"
    }
   ],
   "source": [
    "from sklearn.model_selection import train_test_split\n",
    "x=data3.drop(columns=[15])\n",
    "y=data3[15]\n",
    "Xtrain,xtest,Ytrain,ytest=train_test_split(x,y,test_size=0.25,random_state= 1)\n",
    "from sklearn.linear_model import LinearRegression\n",
    "regressor=LinearRegression()\n",
    "regressor.fit(Xtrain,Ytrain)\n",
    "print(\"Intercept:\",regressor.intercept_)\n",
    "print(\"Coefficients\",regressor.coef_)\n",
    "y_pred = regressor.predict(xtest)\n",
    "from sklearn.metrics import mean_squared_error\n",
    "mse=mean_squared_error\n",
    "accuracy_mse=mse(y_pred,ytest)\n",
    "accuracy_mse\n",
    "regressor.score(xtest,ytest)\n",
    "from sklearn.metrics import r2_score\n",
    "a=r2_score\n",
    "accuracy = a(y_pred,ytest)\n",
    "accuracy"
   ]
  }
 ],
 "metadata": {
  "kernelspec": {
   "display_name": "Python 3 (ipykernel)",
   "language": "python",
   "name": "python3"
  },
  "language_info": {
   "codemirror_mode": {
    "name": "ipython",
    "version": 3
   },
   "file_extension": ".py",
   "mimetype": "text/x-python",
   "name": "python",
   "nbconvert_exporter": "python",
   "pygments_lexer": "ipython3",
   "version": "3.11.5"
  }
 },
 "nbformat": 4,
 "nbformat_minor": 5
}
