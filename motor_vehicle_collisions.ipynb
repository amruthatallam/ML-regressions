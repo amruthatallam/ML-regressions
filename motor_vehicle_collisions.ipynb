{
  "metadata": {
    "kernelspec": {
      "language": "python",
      "display_name": "Python 3",
      "name": "python3"
    },
    "language_info": {
      "name": "python",
      "version": "3.10.13",
      "mimetype": "text/x-python",
      "codemirror_mode": {
        "name": "ipython",
        "version": 3
      },
      "pygments_lexer": "ipython3",
      "nbconvert_exporter": "python",
      "file_extension": ".py"
    },
    "kaggle": {
      "accelerator": "none",
      "dataSources": [
        {
          "sourceId": 8155262,
          "sourceType": "datasetVersion",
          "datasetId": 4823976
        }
      ],
      "dockerImageVersionId": 30684,
      "isInternetEnabled": true,
      "language": "python",
      "sourceType": "notebook",
      "isGpuEnabled": false
    },
    "colab": {
      "provenance": []
    }
  },
  "nbformat_minor": 0,
  "nbformat": 4,
  "cells": [
    {
      "cell_type": "raw",
      "source": [
        "# This Python 3 environment comes with many helpful analytics libraries installed\n",
        "# It is defined by the kaggle/python Docker image: https://github.com/kaggle/docker-python\n",
        "# For example, here's several helpful packages to load\n",
        "\n",
        "import numpy as np # linear algebra\n",
        "import pandas as pd # data processing, CSV file I/O (e.g. pd.read_csv)\n",
        "\n",
        "# Input data files are available in the read-only \"../input/\" directory\n",
        "# For example, running this (by clicking run or pressing Shift+Enter) will list all files under the input directory\n",
        "\n",
        "import os\n",
        "for dirname, _, filenames in os.walk('/kaggle/input'):\n",
        "    for filename in filenames:\n",
        "        print(os.path.join(dirname, filename))\n",
        "\n",
        "# You can write up to 20GB to the current directory (/kaggle/working/) that gets preserved as output when you create a version using \"Save & Run All\"\n",
        "# You can also write temporary files to /kaggle/temp/, but they won't be saved outside of the current session"
      ],
      "metadata": {
        "_uuid": "8f2839f25d086af736a60e9eeb907d3b93b6e0e5",
        "_cell_guid": "b1076dfc-b9ad-4769-8c92-a6c4dae69d19",
        "id": "rbTosRK5sn_6"
      }
    },
    {
      "cell_type": "markdown",
      "source": [
        "### Importing Libraries"
      ],
      "metadata": {
        "id": "asae4phAsn_7"
      }
    },
    {
      "cell_type": "code",
      "source": [
        "import pandas as pd"
      ],
      "metadata": {
        "execution": {
          "iopub.status.busy": "2024-04-19T12:43:50.659470Z",
          "iopub.execute_input": "2024-04-19T12:43:50.660330Z",
          "iopub.status.idle": "2024-04-19T12:43:50.676024Z",
          "shell.execute_reply.started": "2024-04-19T12:43:50.660243Z",
          "shell.execute_reply": "2024-04-19T12:43:50.674403Z"
        },
        "trusted": true,
        "id": "OrdxZ4_Isn_9"
      },
      "execution_count": 4,
      "outputs": []
    },
    {
      "cell_type": "markdown",
      "source": [
        "### Read CSV File"
      ],
      "metadata": {
        "id": "pF36ogwmsn_9"
      }
    },
    {
      "cell_type": "code",
      "source": [
        "df=pd.read_csv(\"/content/Motor_Vehicle_Collisions_-_Crashes.csv\")"
      ],
      "metadata": {
        "execution": {
          "iopub.status.busy": "2024-04-19T12:43:50.678700Z",
          "iopub.execute_input": "2024-04-19T12:43:50.679192Z",
          "iopub.status.idle": "2024-04-19T12:44:07.750570Z",
          "shell.execute_reply.started": "2024-04-19T12:43:50.679154Z",
          "shell.execute_reply": "2024-04-19T12:44:07.749454Z"
        },
        "trusted": true,
        "id": "BZR68qwdsn_9"
      },
      "execution_count": 5,
      "outputs": []
    },
    {
      "cell_type": "markdown",
      "source": [
        "### Top 5 Columns"
      ],
      "metadata": {
        "id": "YLIQF7Ofsn_9"
      }
    },
    {
      "cell_type": "code",
      "source": [
        "df.head()"
      ],
      "metadata": {
        "execution": {
          "iopub.status.busy": "2024-04-19T12:44:07.752880Z",
          "iopub.execute_input": "2024-04-19T12:44:07.753269Z",
          "iopub.status.idle": "2024-04-19T12:44:07.788376Z",
          "shell.execute_reply.started": "2024-04-19T12:44:07.753236Z",
          "shell.execute_reply": "2024-04-19T12:44:07.787189Z"
        },
        "trusted": true,
        "id": "70pq8yMHsn_-",
        "outputId": "e9f80e7e-3a53-4384-a433-b6f4a61036c7",
        "colab": {
          "base_uri": "https://localhost:8080/",
          "height": 411
        }
      },
      "execution_count": 6,
      "outputs": [
        {
          "output_type": "execute_result",
          "data": {
            "text/plain": [
              "   CRASH DATE CRASH TIME   BOROUGH  ZIP CODE   LATITUDE  LONGITUDE  \\\n",
              "0  09/11/2021       2:39       NaN       NaN        NaN        NaN   \n",
              "1  03/26/2022      11:45       NaN       NaN        NaN        NaN   \n",
              "2  06/29/2022       6:55       NaN       NaN        NaN        NaN   \n",
              "3  09/11/2021       9:35  BROOKLYN   11208.0  40.667202 -73.866500   \n",
              "4  12/14/2021       8:13  BROOKLYN   11233.0  40.683304 -73.917274   \n",
              "\n",
              "                  LOCATION           ON STREET NAME CROSS STREET NAME  \\\n",
              "0                      NaN    WHITESTONE EXPRESSWAY         20 AVENUE   \n",
              "1                      NaN  QUEENSBORO BRIDGE UPPER               NaN   \n",
              "2                      NaN       THROGS NECK BRIDGE               NaN   \n",
              "3    (40.667202, -73.8665)                      NaN               NaN   \n",
              "4  (40.683304, -73.917274)          SARATOGA AVENUE    DECATUR STREET   \n",
              "\n",
              "           OFF STREET NAME  ...  CONTRIBUTING FACTOR VEHICLE 2  \\\n",
              "0                      NaN  ...                    Unspecified   \n",
              "1                      NaN  ...                            NaN   \n",
              "2                      NaN  ...                    Unspecified   \n",
              "3  1211      LORING AVENUE  ...                            NaN   \n",
              "4                      NaN  ...                            NaN   \n",
              "\n",
              "   CONTRIBUTING FACTOR VEHICLE 3  CONTRIBUTING FACTOR VEHICLE 4  \\\n",
              "0                            NaN                            NaN   \n",
              "1                            NaN                            NaN   \n",
              "2                            NaN                            NaN   \n",
              "3                            NaN                            NaN   \n",
              "4                            NaN                            NaN   \n",
              "\n",
              "   CONTRIBUTING FACTOR VEHICLE 5  COLLISION_ID  VEHICLE TYPE CODE 1  \\\n",
              "0                            NaN     4455765.0                Sedan   \n",
              "1                            NaN     4513547.0                Sedan   \n",
              "2                            NaN     4541903.0                Sedan   \n",
              "3                            NaN     4456314.0                Sedan   \n",
              "4                            NaN     4486609.0                  NaN   \n",
              "\n",
              "   VEHICLE TYPE CODE 2  VEHICLE TYPE CODE 3 VEHICLE TYPE CODE 4  \\\n",
              "0                Sedan                  NaN                 NaN   \n",
              "1                  NaN                  NaN                 NaN   \n",
              "2        Pick-up Truck                  NaN                 NaN   \n",
              "3                  NaN                  NaN                 NaN   \n",
              "4                  NaN                  NaN                 NaN   \n",
              "\n",
              "  VEHICLE TYPE CODE 5  \n",
              "0                 NaN  \n",
              "1                 NaN  \n",
              "2                 NaN  \n",
              "3                 NaN  \n",
              "4                 NaN  \n",
              "\n",
              "[5 rows x 29 columns]"
            ],
            "text/html": [
              "\n",
              "  <div id=\"df-14a39986-4fa4-4003-846f-341d29b98318\" class=\"colab-df-container\">\n",
              "    <div>\n",
              "<style scoped>\n",
              "    .dataframe tbody tr th:only-of-type {\n",
              "        vertical-align: middle;\n",
              "    }\n",
              "\n",
              "    .dataframe tbody tr th {\n",
              "        vertical-align: top;\n",
              "    }\n",
              "\n",
              "    .dataframe thead th {\n",
              "        text-align: right;\n",
              "    }\n",
              "</style>\n",
              "<table border=\"1\" class=\"dataframe\">\n",
              "  <thead>\n",
              "    <tr style=\"text-align: right;\">\n",
              "      <th></th>\n",
              "      <th>CRASH DATE</th>\n",
              "      <th>CRASH TIME</th>\n",
              "      <th>BOROUGH</th>\n",
              "      <th>ZIP CODE</th>\n",
              "      <th>LATITUDE</th>\n",
              "      <th>LONGITUDE</th>\n",
              "      <th>LOCATION</th>\n",
              "      <th>ON STREET NAME</th>\n",
              "      <th>CROSS STREET NAME</th>\n",
              "      <th>OFF STREET NAME</th>\n",
              "      <th>...</th>\n",
              "      <th>CONTRIBUTING FACTOR VEHICLE 2</th>\n",
              "      <th>CONTRIBUTING FACTOR VEHICLE 3</th>\n",
              "      <th>CONTRIBUTING FACTOR VEHICLE 4</th>\n",
              "      <th>CONTRIBUTING FACTOR VEHICLE 5</th>\n",
              "      <th>COLLISION_ID</th>\n",
              "      <th>VEHICLE TYPE CODE 1</th>\n",
              "      <th>VEHICLE TYPE CODE 2</th>\n",
              "      <th>VEHICLE TYPE CODE 3</th>\n",
              "      <th>VEHICLE TYPE CODE 4</th>\n",
              "      <th>VEHICLE TYPE CODE 5</th>\n",
              "    </tr>\n",
              "  </thead>\n",
              "  <tbody>\n",
              "    <tr>\n",
              "      <th>0</th>\n",
              "      <td>09/11/2021</td>\n",
              "      <td>2:39</td>\n",
              "      <td>NaN</td>\n",
              "      <td>NaN</td>\n",
              "      <td>NaN</td>\n",
              "      <td>NaN</td>\n",
              "      <td>NaN</td>\n",
              "      <td>WHITESTONE EXPRESSWAY</td>\n",
              "      <td>20 AVENUE</td>\n",
              "      <td>NaN</td>\n",
              "      <td>...</td>\n",
              "      <td>Unspecified</td>\n",
              "      <td>NaN</td>\n",
              "      <td>NaN</td>\n",
              "      <td>NaN</td>\n",
              "      <td>4455765.0</td>\n",
              "      <td>Sedan</td>\n",
              "      <td>Sedan</td>\n",
              "      <td>NaN</td>\n",
              "      <td>NaN</td>\n",
              "      <td>NaN</td>\n",
              "    </tr>\n",
              "    <tr>\n",
              "      <th>1</th>\n",
              "      <td>03/26/2022</td>\n",
              "      <td>11:45</td>\n",
              "      <td>NaN</td>\n",
              "      <td>NaN</td>\n",
              "      <td>NaN</td>\n",
              "      <td>NaN</td>\n",
              "      <td>NaN</td>\n",
              "      <td>QUEENSBORO BRIDGE UPPER</td>\n",
              "      <td>NaN</td>\n",
              "      <td>NaN</td>\n",
              "      <td>...</td>\n",
              "      <td>NaN</td>\n",
              "      <td>NaN</td>\n",
              "      <td>NaN</td>\n",
              "      <td>NaN</td>\n",
              "      <td>4513547.0</td>\n",
              "      <td>Sedan</td>\n",
              "      <td>NaN</td>\n",
              "      <td>NaN</td>\n",
              "      <td>NaN</td>\n",
              "      <td>NaN</td>\n",
              "    </tr>\n",
              "    <tr>\n",
              "      <th>2</th>\n",
              "      <td>06/29/2022</td>\n",
              "      <td>6:55</td>\n",
              "      <td>NaN</td>\n",
              "      <td>NaN</td>\n",
              "      <td>NaN</td>\n",
              "      <td>NaN</td>\n",
              "      <td>NaN</td>\n",
              "      <td>THROGS NECK BRIDGE</td>\n",
              "      <td>NaN</td>\n",
              "      <td>NaN</td>\n",
              "      <td>...</td>\n",
              "      <td>Unspecified</td>\n",
              "      <td>NaN</td>\n",
              "      <td>NaN</td>\n",
              "      <td>NaN</td>\n",
              "      <td>4541903.0</td>\n",
              "      <td>Sedan</td>\n",
              "      <td>Pick-up Truck</td>\n",
              "      <td>NaN</td>\n",
              "      <td>NaN</td>\n",
              "      <td>NaN</td>\n",
              "    </tr>\n",
              "    <tr>\n",
              "      <th>3</th>\n",
              "      <td>09/11/2021</td>\n",
              "      <td>9:35</td>\n",
              "      <td>BROOKLYN</td>\n",
              "      <td>11208.0</td>\n",
              "      <td>40.667202</td>\n",
              "      <td>-73.866500</td>\n",
              "      <td>(40.667202, -73.8665)</td>\n",
              "      <td>NaN</td>\n",
              "      <td>NaN</td>\n",
              "      <td>1211      LORING AVENUE</td>\n",
              "      <td>...</td>\n",
              "      <td>NaN</td>\n",
              "      <td>NaN</td>\n",
              "      <td>NaN</td>\n",
              "      <td>NaN</td>\n",
              "      <td>4456314.0</td>\n",
              "      <td>Sedan</td>\n",
              "      <td>NaN</td>\n",
              "      <td>NaN</td>\n",
              "      <td>NaN</td>\n",
              "      <td>NaN</td>\n",
              "    </tr>\n",
              "    <tr>\n",
              "      <th>4</th>\n",
              "      <td>12/14/2021</td>\n",
              "      <td>8:13</td>\n",
              "      <td>BROOKLYN</td>\n",
              "      <td>11233.0</td>\n",
              "      <td>40.683304</td>\n",
              "      <td>-73.917274</td>\n",
              "      <td>(40.683304, -73.917274)</td>\n",
              "      <td>SARATOGA AVENUE</td>\n",
              "      <td>DECATUR STREET</td>\n",
              "      <td>NaN</td>\n",
              "      <td>...</td>\n",
              "      <td>NaN</td>\n",
              "      <td>NaN</td>\n",
              "      <td>NaN</td>\n",
              "      <td>NaN</td>\n",
              "      <td>4486609.0</td>\n",
              "      <td>NaN</td>\n",
              "      <td>NaN</td>\n",
              "      <td>NaN</td>\n",
              "      <td>NaN</td>\n",
              "      <td>NaN</td>\n",
              "    </tr>\n",
              "  </tbody>\n",
              "</table>\n",
              "<p>5 rows × 29 columns</p>\n",
              "</div>\n",
              "    <div class=\"colab-df-buttons\">\n",
              "\n",
              "  <div class=\"colab-df-container\">\n",
              "    <button class=\"colab-df-convert\" onclick=\"convertToInteractive('df-14a39986-4fa4-4003-846f-341d29b98318')\"\n",
              "            title=\"Convert this dataframe to an interactive table.\"\n",
              "            style=\"display:none;\">\n",
              "\n",
              "  <svg xmlns=\"http://www.w3.org/2000/svg\" height=\"24px\" viewBox=\"0 -960 960 960\">\n",
              "    <path d=\"M120-120v-720h720v720H120Zm60-500h600v-160H180v160Zm220 220h160v-160H400v160Zm0 220h160v-160H400v160ZM180-400h160v-160H180v160Zm440 0h160v-160H620v160ZM180-180h160v-160H180v160Zm440 0h160v-160H620v160Z\"/>\n",
              "  </svg>\n",
              "    </button>\n",
              "\n",
              "  <style>\n",
              "    .colab-df-container {\n",
              "      display:flex;\n",
              "      gap: 12px;\n",
              "    }\n",
              "\n",
              "    .colab-df-convert {\n",
              "      background-color: #E8F0FE;\n",
              "      border: none;\n",
              "      border-radius: 50%;\n",
              "      cursor: pointer;\n",
              "      display: none;\n",
              "      fill: #1967D2;\n",
              "      height: 32px;\n",
              "      padding: 0 0 0 0;\n",
              "      width: 32px;\n",
              "    }\n",
              "\n",
              "    .colab-df-convert:hover {\n",
              "      background-color: #E2EBFA;\n",
              "      box-shadow: 0px 1px 2px rgba(60, 64, 67, 0.3), 0px 1px 3px 1px rgba(60, 64, 67, 0.15);\n",
              "      fill: #174EA6;\n",
              "    }\n",
              "\n",
              "    .colab-df-buttons div {\n",
              "      margin-bottom: 4px;\n",
              "    }\n",
              "\n",
              "    [theme=dark] .colab-df-convert {\n",
              "      background-color: #3B4455;\n",
              "      fill: #D2E3FC;\n",
              "    }\n",
              "\n",
              "    [theme=dark] .colab-df-convert:hover {\n",
              "      background-color: #434B5C;\n",
              "      box-shadow: 0px 1px 3px 1px rgba(0, 0, 0, 0.15);\n",
              "      filter: drop-shadow(0px 1px 2px rgba(0, 0, 0, 0.3));\n",
              "      fill: #FFFFFF;\n",
              "    }\n",
              "  </style>\n",
              "\n",
              "    <script>\n",
              "      const buttonEl =\n",
              "        document.querySelector('#df-14a39986-4fa4-4003-846f-341d29b98318 button.colab-df-convert');\n",
              "      buttonEl.style.display =\n",
              "        google.colab.kernel.accessAllowed ? 'block' : 'none';\n",
              "\n",
              "      async function convertToInteractive(key) {\n",
              "        const element = document.querySelector('#df-14a39986-4fa4-4003-846f-341d29b98318');\n",
              "        const dataTable =\n",
              "          await google.colab.kernel.invokeFunction('convertToInteractive',\n",
              "                                                    [key], {});\n",
              "        if (!dataTable) return;\n",
              "\n",
              "        const docLinkHtml = 'Like what you see? Visit the ' +\n",
              "          '<a target=\"_blank\" href=https://colab.research.google.com/notebooks/data_table.ipynb>data table notebook</a>'\n",
              "          + ' to learn more about interactive tables.';\n",
              "        element.innerHTML = '';\n",
              "        dataTable['output_type'] = 'display_data';\n",
              "        await google.colab.output.renderOutput(dataTable, element);\n",
              "        const docLink = document.createElement('div');\n",
              "        docLink.innerHTML = docLinkHtml;\n",
              "        element.appendChild(docLink);\n",
              "      }\n",
              "    </script>\n",
              "  </div>\n",
              "\n",
              "\n",
              "<div id=\"df-db1868bb-fb46-43d5-8d99-d06872bfccbf\">\n",
              "  <button class=\"colab-df-quickchart\" onclick=\"quickchart('df-db1868bb-fb46-43d5-8d99-d06872bfccbf')\"\n",
              "            title=\"Suggest charts\"\n",
              "            style=\"display:none;\">\n",
              "\n",
              "<svg xmlns=\"http://www.w3.org/2000/svg\" height=\"24px\"viewBox=\"0 0 24 24\"\n",
              "     width=\"24px\">\n",
              "    <g>\n",
              "        <path d=\"M19 3H5c-1.1 0-2 .9-2 2v14c0 1.1.9 2 2 2h14c1.1 0 2-.9 2-2V5c0-1.1-.9-2-2-2zM9 17H7v-7h2v7zm4 0h-2V7h2v10zm4 0h-2v-4h2v4z\"/>\n",
              "    </g>\n",
              "</svg>\n",
              "  </button>\n",
              "\n",
              "<style>\n",
              "  .colab-df-quickchart {\n",
              "      --bg-color: #E8F0FE;\n",
              "      --fill-color: #1967D2;\n",
              "      --hover-bg-color: #E2EBFA;\n",
              "      --hover-fill-color: #174EA6;\n",
              "      --disabled-fill-color: #AAA;\n",
              "      --disabled-bg-color: #DDD;\n",
              "  }\n",
              "\n",
              "  [theme=dark] .colab-df-quickchart {\n",
              "      --bg-color: #3B4455;\n",
              "      --fill-color: #D2E3FC;\n",
              "      --hover-bg-color: #434B5C;\n",
              "      --hover-fill-color: #FFFFFF;\n",
              "      --disabled-bg-color: #3B4455;\n",
              "      --disabled-fill-color: #666;\n",
              "  }\n",
              "\n",
              "  .colab-df-quickchart {\n",
              "    background-color: var(--bg-color);\n",
              "    border: none;\n",
              "    border-radius: 50%;\n",
              "    cursor: pointer;\n",
              "    display: none;\n",
              "    fill: var(--fill-color);\n",
              "    height: 32px;\n",
              "    padding: 0;\n",
              "    width: 32px;\n",
              "  }\n",
              "\n",
              "  .colab-df-quickchart:hover {\n",
              "    background-color: var(--hover-bg-color);\n",
              "    box-shadow: 0 1px 2px rgba(60, 64, 67, 0.3), 0 1px 3px 1px rgba(60, 64, 67, 0.15);\n",
              "    fill: var(--button-hover-fill-color);\n",
              "  }\n",
              "\n",
              "  .colab-df-quickchart-complete:disabled,\n",
              "  .colab-df-quickchart-complete:disabled:hover {\n",
              "    background-color: var(--disabled-bg-color);\n",
              "    fill: var(--disabled-fill-color);\n",
              "    box-shadow: none;\n",
              "  }\n",
              "\n",
              "  .colab-df-spinner {\n",
              "    border: 2px solid var(--fill-color);\n",
              "    border-color: transparent;\n",
              "    border-bottom-color: var(--fill-color);\n",
              "    animation:\n",
              "      spin 1s steps(1) infinite;\n",
              "  }\n",
              "\n",
              "  @keyframes spin {\n",
              "    0% {\n",
              "      border-color: transparent;\n",
              "      border-bottom-color: var(--fill-color);\n",
              "      border-left-color: var(--fill-color);\n",
              "    }\n",
              "    20% {\n",
              "      border-color: transparent;\n",
              "      border-left-color: var(--fill-color);\n",
              "      border-top-color: var(--fill-color);\n",
              "    }\n",
              "    30% {\n",
              "      border-color: transparent;\n",
              "      border-left-color: var(--fill-color);\n",
              "      border-top-color: var(--fill-color);\n",
              "      border-right-color: var(--fill-color);\n",
              "    }\n",
              "    40% {\n",
              "      border-color: transparent;\n",
              "      border-right-color: var(--fill-color);\n",
              "      border-top-color: var(--fill-color);\n",
              "    }\n",
              "    60% {\n",
              "      border-color: transparent;\n",
              "      border-right-color: var(--fill-color);\n",
              "    }\n",
              "    80% {\n",
              "      border-color: transparent;\n",
              "      border-right-color: var(--fill-color);\n",
              "      border-bottom-color: var(--fill-color);\n",
              "    }\n",
              "    90% {\n",
              "      border-color: transparent;\n",
              "      border-bottom-color: var(--fill-color);\n",
              "    }\n",
              "  }\n",
              "</style>\n",
              "\n",
              "  <script>\n",
              "    async function quickchart(key) {\n",
              "      const quickchartButtonEl =\n",
              "        document.querySelector('#' + key + ' button');\n",
              "      quickchartButtonEl.disabled = true;  // To prevent multiple clicks.\n",
              "      quickchartButtonEl.classList.add('colab-df-spinner');\n",
              "      try {\n",
              "        const charts = await google.colab.kernel.invokeFunction(\n",
              "            'suggestCharts', [key], {});\n",
              "      } catch (error) {\n",
              "        console.error('Error during call to suggestCharts:', error);\n",
              "      }\n",
              "      quickchartButtonEl.classList.remove('colab-df-spinner');\n",
              "      quickchartButtonEl.classList.add('colab-df-quickchart-complete');\n",
              "    }\n",
              "    (() => {\n",
              "      let quickchartButtonEl =\n",
              "        document.querySelector('#df-db1868bb-fb46-43d5-8d99-d06872bfccbf button');\n",
              "      quickchartButtonEl.style.display =\n",
              "        google.colab.kernel.accessAllowed ? 'block' : 'none';\n",
              "    })();\n",
              "  </script>\n",
              "</div>\n",
              "\n",
              "    </div>\n",
              "  </div>\n"
            ],
            "application/vnd.google.colaboratory.intrinsic+json": {
              "type": "dataframe",
              "variable_name": "df"
            }
          },
          "metadata": {},
          "execution_count": 6
        }
      ]
    },
    {
      "cell_type": "markdown",
      "source": [
        "### no of rows and columns"
      ],
      "metadata": {
        "id": "O8iHeWOksn_-"
      }
    },
    {
      "cell_type": "code",
      "source": [
        "df.shape"
      ],
      "metadata": {
        "execution": {
          "iopub.status.busy": "2024-04-19T12:44:07.789828Z",
          "iopub.execute_input": "2024-04-19T12:44:07.790385Z",
          "iopub.status.idle": "2024-04-19T12:44:07.803109Z",
          "shell.execute_reply.started": "2024-04-19T12:44:07.790349Z",
          "shell.execute_reply": "2024-04-19T12:44:07.801550Z"
        },
        "trusted": true,
        "id": "4NR5SUQesn_-",
        "outputId": "6d4c6344-bc92-480e-e72a-4f205a5b2d3a",
        "colab": {
          "base_uri": "https://localhost:8080/"
        }
      },
      "execution_count": 7,
      "outputs": [
        {
          "output_type": "execute_result",
          "data": {
            "text/plain": [
              "(27787, 29)"
            ]
          },
          "metadata": {},
          "execution_count": 7
        }
      ]
    },
    {
      "cell_type": "markdown",
      "source": [
        "### Datatypes of each column"
      ],
      "metadata": {
        "id": "Hq2-v14psn_-"
      }
    },
    {
      "cell_type": "code",
      "source": [
        "df.info()"
      ],
      "metadata": {
        "execution": {
          "iopub.status.busy": "2024-04-19T12:44:07.806185Z",
          "iopub.execute_input": "2024-04-19T12:44:07.806924Z",
          "iopub.status.idle": "2024-04-19T12:44:07.829095Z",
          "shell.execute_reply.started": "2024-04-19T12:44:07.806875Z",
          "shell.execute_reply": "2024-04-19T12:44:07.827760Z"
        },
        "trusted": true,
        "id": "kB4c3P6Zsn_-",
        "outputId": "0d63ca4b-68af-4695-dfb3-f6fe4844da2f",
        "colab": {
          "base_uri": "https://localhost:8080/"
        }
      },
      "execution_count": 8,
      "outputs": [
        {
          "output_type": "stream",
          "name": "stdout",
          "text": [
            "<class 'pandas.core.frame.DataFrame'>\n",
            "RangeIndex: 27787 entries, 0 to 27786\n",
            "Data columns (total 29 columns):\n",
            " #   Column                         Non-Null Count  Dtype  \n",
            "---  ------                         --------------  -----  \n",
            " 0   CRASH DATE                     27787 non-null  object \n",
            " 1   CRASH TIME                     27787 non-null  object \n",
            " 2   BOROUGH                        18176 non-null  object \n",
            " 3   ZIP CODE                       18173 non-null  float64\n",
            " 4   LATITUDE                       25514 non-null  float64\n",
            " 5   LONGITUDE                      25514 non-null  float64\n",
            " 6   LOCATION                       25514 non-null  object \n",
            " 7   ON STREET NAME                 20331 non-null  object \n",
            " 8   CROSS STREET NAME              12917 non-null  object \n",
            " 9   OFF STREET NAME                7455 non-null   object \n",
            " 10  NUMBER OF PERSONS INJURED      27786 non-null  float64\n",
            " 11  NUMBER OF PERSONS KILLED       27786 non-null  float64\n",
            " 12  NUMBER OF PEDESTRIANS INJURED  27786 non-null  float64\n",
            " 13  NUMBER OF PEDESTRIANS KILLED   27786 non-null  float64\n",
            " 14  NUMBER OF CYCLIST INJURED      27786 non-null  float64\n",
            " 15  NUMBER OF CYCLIST KILLED       27786 non-null  float64\n",
            " 16  NUMBER OF MOTORIST INJURED     27786 non-null  float64\n",
            " 17  NUMBER OF MOTORIST KILLED      27786 non-null  float64\n",
            " 18  CONTRIBUTING FACTOR VEHICLE 1  27646 non-null  object \n",
            " 19  CONTRIBUTING FACTOR VEHICLE 2  21624 non-null  object \n",
            " 20  CONTRIBUTING FACTOR VEHICLE 3  2887 non-null   object \n",
            " 21  CONTRIBUTING FACTOR VEHICLE 4  773 non-null    object \n",
            " 22  CONTRIBUTING FACTOR VEHICLE 5  213 non-null    object \n",
            " 23  COLLISION_ID                   27786 non-null  float64\n",
            " 24  VEHICLE TYPE CODE 1            27455 non-null  object \n",
            " 25  VEHICLE TYPE CODE 2            18700 non-null  object \n",
            " 26  VEHICLE TYPE CODE 3            2694 non-null   object \n",
            " 27  VEHICLE TYPE CODE 4            728 non-null    object \n",
            " 28  VEHICLE TYPE CODE 5            203 non-null    object \n",
            "dtypes: float64(12), object(17)\n",
            "memory usage: 6.1+ MB\n"
          ]
        }
      ]
    },
    {
      "cell_type": "markdown",
      "source": [
        "### Count null values of each column"
      ],
      "metadata": {
        "id": "o2Yw5lGBsn_-"
      }
    },
    {
      "cell_type": "code",
      "source": [
        "df.isnull().sum()"
      ],
      "metadata": {
        "execution": {
          "iopub.status.busy": "2024-04-19T12:44:07.830450Z",
          "iopub.execute_input": "2024-04-19T12:44:07.830819Z",
          "iopub.status.idle": "2024-04-19T12:44:10.745621Z",
          "shell.execute_reply.started": "2024-04-19T12:44:07.830785Z",
          "shell.execute_reply": "2024-04-19T12:44:10.744379Z"
        },
        "trusted": true,
        "id": "mP1PhLS9sn_-",
        "outputId": "e53ad2e5-6a6a-46f3-90eb-62fc46e39da5",
        "colab": {
          "base_uri": "https://localhost:8080/"
        }
      },
      "execution_count": 9,
      "outputs": [
        {
          "output_type": "execute_result",
          "data": {
            "text/plain": [
              "CRASH DATE                           0\n",
              "CRASH TIME                           0\n",
              "BOROUGH                           9611\n",
              "ZIP CODE                          9614\n",
              "LATITUDE                          2273\n",
              "LONGITUDE                         2273\n",
              "LOCATION                          2273\n",
              "ON STREET NAME                    7456\n",
              "CROSS STREET NAME                14870\n",
              "OFF STREET NAME                  20332\n",
              "NUMBER OF PERSONS INJURED            1\n",
              "NUMBER OF PERSONS KILLED             1\n",
              "NUMBER OF PEDESTRIANS INJURED        1\n",
              "NUMBER OF PEDESTRIANS KILLED         1\n",
              "NUMBER OF CYCLIST INJURED            1\n",
              "NUMBER OF CYCLIST KILLED             1\n",
              "NUMBER OF MOTORIST INJURED           1\n",
              "NUMBER OF MOTORIST KILLED            1\n",
              "CONTRIBUTING FACTOR VEHICLE 1      141\n",
              "CONTRIBUTING FACTOR VEHICLE 2     6163\n",
              "CONTRIBUTING FACTOR VEHICLE 3    24900\n",
              "CONTRIBUTING FACTOR VEHICLE 4    27014\n",
              "CONTRIBUTING FACTOR VEHICLE 5    27574\n",
              "COLLISION_ID                         1\n",
              "VEHICLE TYPE CODE 1                332\n",
              "VEHICLE TYPE CODE 2               9087\n",
              "VEHICLE TYPE CODE 3              25093\n",
              "VEHICLE TYPE CODE 4              27059\n",
              "VEHICLE TYPE CODE 5              27584\n",
              "dtype: int64"
            ]
          },
          "metadata": {},
          "execution_count": 9
        }
      ]
    },
    {
      "cell_type": "code",
      "source": [
        "df['CONTRIBUTING FACTOR VEHICLE 1'].nunique()"
      ],
      "metadata": {
        "execution": {
          "iopub.status.busy": "2024-04-19T12:44:10.747094Z",
          "iopub.execute_input": "2024-04-19T12:44:10.747532Z",
          "iopub.status.idle": "2024-04-19T12:44:10.943192Z",
          "shell.execute_reply.started": "2024-04-19T12:44:10.747492Z",
          "shell.execute_reply": "2024-04-19T12:44:10.942039Z"
        },
        "trusted": true,
        "id": "0ADdxovrsn__",
        "outputId": "7d4bd0a7-f8b5-4ad7-99f4-98fd0564d395",
        "colab": {
          "base_uri": "https://localhost:8080/"
        }
      },
      "execution_count": 10,
      "outputs": [
        {
          "output_type": "execute_result",
          "data": {
            "text/plain": [
              "55"
            ]
          },
          "metadata": {},
          "execution_count": 10
        }
      ]
    },
    {
      "cell_type": "markdown",
      "source": [
        "### Summary statastics of numerical columns"
      ],
      "metadata": {
        "id": "fLBEIoZmsn__"
      }
    },
    {
      "cell_type": "code",
      "source": [
        "df.describe()"
      ],
      "metadata": {
        "execution": {
          "iopub.status.busy": "2024-04-19T12:44:10.944897Z",
          "iopub.execute_input": "2024-04-19T12:44:10.945589Z",
          "iopub.status.idle": "2024-04-19T12:44:11.834312Z",
          "shell.execute_reply.started": "2024-04-19T12:44:10.945555Z",
          "shell.execute_reply": "2024-04-19T12:44:11.833032Z"
        },
        "trusted": true,
        "id": "ilNY2Z1Rsn__",
        "outputId": "62be461e-c702-4182-ab79-f37f95203f0b",
        "colab": {
          "base_uri": "https://localhost:8080/",
          "height": 355
        }
      },
      "execution_count": 11,
      "outputs": [
        {
          "output_type": "execute_result",
          "data": {
            "text/plain": [
              "           ZIP CODE      LATITUDE     LONGITUDE  NUMBER OF PERSONS INJURED  \\\n",
              "count  18173.000000  25514.000000  25514.000000               27786.000000   \n",
              "mean   10891.317724     40.496578    -73.501513                   0.475707   \n",
              "std      523.546313      3.041460      5.518909                   0.797876   \n",
              "min    10000.000000      0.000000    -74.250150                   0.000000   \n",
              "25%    10457.000000     40.665730    -73.961880                   0.000000   \n",
              "50%    11208.000000     40.714087    -73.919897                   0.000000   \n",
              "75%    11238.000000     40.785768    -73.867630                   1.000000   \n",
              "max    11697.000000     40.912827      0.000000                  18.000000   \n",
              "\n",
              "       NUMBER OF PERSONS KILLED  NUMBER OF PEDESTRIANS INJURED  \\\n",
              "count              27786.000000                   27786.000000   \n",
              "mean                   0.003059                       0.069387   \n",
              "std                    0.059006                       0.264253   \n",
              "min                    0.000000                       0.000000   \n",
              "25%                    0.000000                       0.000000   \n",
              "50%                    0.000000                       0.000000   \n",
              "75%                    0.000000                       0.000000   \n",
              "max                    3.000000                       3.000000   \n",
              "\n",
              "       NUMBER OF PEDESTRIANS KILLED  NUMBER OF CYCLIST INJURED  \\\n",
              "count                  27786.000000               27786.000000   \n",
              "mean                       0.001224                   0.047290   \n",
              "std                        0.034960                   0.216293   \n",
              "min                        0.000000                   0.000000   \n",
              "25%                        0.000000                   0.000000   \n",
              "50%                        0.000000                   0.000000   \n",
              "75%                        0.000000                   0.000000   \n",
              "max                        1.000000                   3.000000   \n",
              "\n",
              "       NUMBER OF CYCLIST KILLED  NUMBER OF MOTORIST INJURED  \\\n",
              "count              27786.000000                27786.000000   \n",
              "mean                   0.000216                    0.344958   \n",
              "std                    0.014693                    0.772400   \n",
              "min                    0.000000                    0.000000   \n",
              "25%                    0.000000                    0.000000   \n",
              "50%                    0.000000                    0.000000   \n",
              "75%                    0.000000                    0.000000   \n",
              "max                    1.000000                   18.000000   \n",
              "\n",
              "       NUMBER OF MOTORIST KILLED  COLLISION_ID  \n",
              "count               27786.000000  2.778600e+04  \n",
              "mean                    0.001440  4.446595e+06  \n",
              "std                     0.042396  3.787258e+04  \n",
              "min                     0.000000  4.136992e+06  \n",
              "25%                     0.000000  4.414444e+06  \n",
              "50%                     0.000000  4.421586e+06  \n",
              "75%                     0.000000  4.462866e+06  \n",
              "max                     3.000000  4.694954e+06  "
            ],
            "text/html": [
              "\n",
              "  <div id=\"df-a6ef68d4-9384-49cc-906b-d142c40fd41b\" class=\"colab-df-container\">\n",
              "    <div>\n",
              "<style scoped>\n",
              "    .dataframe tbody tr th:only-of-type {\n",
              "        vertical-align: middle;\n",
              "    }\n",
              "\n",
              "    .dataframe tbody tr th {\n",
              "        vertical-align: top;\n",
              "    }\n",
              "\n",
              "    .dataframe thead th {\n",
              "        text-align: right;\n",
              "    }\n",
              "</style>\n",
              "<table border=\"1\" class=\"dataframe\">\n",
              "  <thead>\n",
              "    <tr style=\"text-align: right;\">\n",
              "      <th></th>\n",
              "      <th>ZIP CODE</th>\n",
              "      <th>LATITUDE</th>\n",
              "      <th>LONGITUDE</th>\n",
              "      <th>NUMBER OF PERSONS INJURED</th>\n",
              "      <th>NUMBER OF PERSONS KILLED</th>\n",
              "      <th>NUMBER OF PEDESTRIANS INJURED</th>\n",
              "      <th>NUMBER OF PEDESTRIANS KILLED</th>\n",
              "      <th>NUMBER OF CYCLIST INJURED</th>\n",
              "      <th>NUMBER OF CYCLIST KILLED</th>\n",
              "      <th>NUMBER OF MOTORIST INJURED</th>\n",
              "      <th>NUMBER OF MOTORIST KILLED</th>\n",
              "      <th>COLLISION_ID</th>\n",
              "    </tr>\n",
              "  </thead>\n",
              "  <tbody>\n",
              "    <tr>\n",
              "      <th>count</th>\n",
              "      <td>18173.000000</td>\n",
              "      <td>25514.000000</td>\n",
              "      <td>25514.000000</td>\n",
              "      <td>27786.000000</td>\n",
              "      <td>27786.000000</td>\n",
              "      <td>27786.000000</td>\n",
              "      <td>27786.000000</td>\n",
              "      <td>27786.000000</td>\n",
              "      <td>27786.000000</td>\n",
              "      <td>27786.000000</td>\n",
              "      <td>27786.000000</td>\n",
              "      <td>2.778600e+04</td>\n",
              "    </tr>\n",
              "    <tr>\n",
              "      <th>mean</th>\n",
              "      <td>10891.317724</td>\n",
              "      <td>40.496578</td>\n",
              "      <td>-73.501513</td>\n",
              "      <td>0.475707</td>\n",
              "      <td>0.003059</td>\n",
              "      <td>0.069387</td>\n",
              "      <td>0.001224</td>\n",
              "      <td>0.047290</td>\n",
              "      <td>0.000216</td>\n",
              "      <td>0.344958</td>\n",
              "      <td>0.001440</td>\n",
              "      <td>4.446595e+06</td>\n",
              "    </tr>\n",
              "    <tr>\n",
              "      <th>std</th>\n",
              "      <td>523.546313</td>\n",
              "      <td>3.041460</td>\n",
              "      <td>5.518909</td>\n",
              "      <td>0.797876</td>\n",
              "      <td>0.059006</td>\n",
              "      <td>0.264253</td>\n",
              "      <td>0.034960</td>\n",
              "      <td>0.216293</td>\n",
              "      <td>0.014693</td>\n",
              "      <td>0.772400</td>\n",
              "      <td>0.042396</td>\n",
              "      <td>3.787258e+04</td>\n",
              "    </tr>\n",
              "    <tr>\n",
              "      <th>min</th>\n",
              "      <td>10000.000000</td>\n",
              "      <td>0.000000</td>\n",
              "      <td>-74.250150</td>\n",
              "      <td>0.000000</td>\n",
              "      <td>0.000000</td>\n",
              "      <td>0.000000</td>\n",
              "      <td>0.000000</td>\n",
              "      <td>0.000000</td>\n",
              "      <td>0.000000</td>\n",
              "      <td>0.000000</td>\n",
              "      <td>0.000000</td>\n",
              "      <td>4.136992e+06</td>\n",
              "    </tr>\n",
              "    <tr>\n",
              "      <th>25%</th>\n",
              "      <td>10457.000000</td>\n",
              "      <td>40.665730</td>\n",
              "      <td>-73.961880</td>\n",
              "      <td>0.000000</td>\n",
              "      <td>0.000000</td>\n",
              "      <td>0.000000</td>\n",
              "      <td>0.000000</td>\n",
              "      <td>0.000000</td>\n",
              "      <td>0.000000</td>\n",
              "      <td>0.000000</td>\n",
              "      <td>0.000000</td>\n",
              "      <td>4.414444e+06</td>\n",
              "    </tr>\n",
              "    <tr>\n",
              "      <th>50%</th>\n",
              "      <td>11208.000000</td>\n",
              "      <td>40.714087</td>\n",
              "      <td>-73.919897</td>\n",
              "      <td>0.000000</td>\n",
              "      <td>0.000000</td>\n",
              "      <td>0.000000</td>\n",
              "      <td>0.000000</td>\n",
              "      <td>0.000000</td>\n",
              "      <td>0.000000</td>\n",
              "      <td>0.000000</td>\n",
              "      <td>0.000000</td>\n",
              "      <td>4.421586e+06</td>\n",
              "    </tr>\n",
              "    <tr>\n",
              "      <th>75%</th>\n",
              "      <td>11238.000000</td>\n",
              "      <td>40.785768</td>\n",
              "      <td>-73.867630</td>\n",
              "      <td>1.000000</td>\n",
              "      <td>0.000000</td>\n",
              "      <td>0.000000</td>\n",
              "      <td>0.000000</td>\n",
              "      <td>0.000000</td>\n",
              "      <td>0.000000</td>\n",
              "      <td>0.000000</td>\n",
              "      <td>0.000000</td>\n",
              "      <td>4.462866e+06</td>\n",
              "    </tr>\n",
              "    <tr>\n",
              "      <th>max</th>\n",
              "      <td>11697.000000</td>\n",
              "      <td>40.912827</td>\n",
              "      <td>0.000000</td>\n",
              "      <td>18.000000</td>\n",
              "      <td>3.000000</td>\n",
              "      <td>3.000000</td>\n",
              "      <td>1.000000</td>\n",
              "      <td>3.000000</td>\n",
              "      <td>1.000000</td>\n",
              "      <td>18.000000</td>\n",
              "      <td>3.000000</td>\n",
              "      <td>4.694954e+06</td>\n",
              "    </tr>\n",
              "  </tbody>\n",
              "</table>\n",
              "</div>\n",
              "    <div class=\"colab-df-buttons\">\n",
              "\n",
              "  <div class=\"colab-df-container\">\n",
              "    <button class=\"colab-df-convert\" onclick=\"convertToInteractive('df-a6ef68d4-9384-49cc-906b-d142c40fd41b')\"\n",
              "            title=\"Convert this dataframe to an interactive table.\"\n",
              "            style=\"display:none;\">\n",
              "\n",
              "  <svg xmlns=\"http://www.w3.org/2000/svg\" height=\"24px\" viewBox=\"0 -960 960 960\">\n",
              "    <path d=\"M120-120v-720h720v720H120Zm60-500h600v-160H180v160Zm220 220h160v-160H400v160Zm0 220h160v-160H400v160ZM180-400h160v-160H180v160Zm440 0h160v-160H620v160ZM180-180h160v-160H180v160Zm440 0h160v-160H620v160Z\"/>\n",
              "  </svg>\n",
              "    </button>\n",
              "\n",
              "  <style>\n",
              "    .colab-df-container {\n",
              "      display:flex;\n",
              "      gap: 12px;\n",
              "    }\n",
              "\n",
              "    .colab-df-convert {\n",
              "      background-color: #E8F0FE;\n",
              "      border: none;\n",
              "      border-radius: 50%;\n",
              "      cursor: pointer;\n",
              "      display: none;\n",
              "      fill: #1967D2;\n",
              "      height: 32px;\n",
              "      padding: 0 0 0 0;\n",
              "      width: 32px;\n",
              "    }\n",
              "\n",
              "    .colab-df-convert:hover {\n",
              "      background-color: #E2EBFA;\n",
              "      box-shadow: 0px 1px 2px rgba(60, 64, 67, 0.3), 0px 1px 3px 1px rgba(60, 64, 67, 0.15);\n",
              "      fill: #174EA6;\n",
              "    }\n",
              "\n",
              "    .colab-df-buttons div {\n",
              "      margin-bottom: 4px;\n",
              "    }\n",
              "\n",
              "    [theme=dark] .colab-df-convert {\n",
              "      background-color: #3B4455;\n",
              "      fill: #D2E3FC;\n",
              "    }\n",
              "\n",
              "    [theme=dark] .colab-df-convert:hover {\n",
              "      background-color: #434B5C;\n",
              "      box-shadow: 0px 1px 3px 1px rgba(0, 0, 0, 0.15);\n",
              "      filter: drop-shadow(0px 1px 2px rgba(0, 0, 0, 0.3));\n",
              "      fill: #FFFFFF;\n",
              "    }\n",
              "  </style>\n",
              "\n",
              "    <script>\n",
              "      const buttonEl =\n",
              "        document.querySelector('#df-a6ef68d4-9384-49cc-906b-d142c40fd41b button.colab-df-convert');\n",
              "      buttonEl.style.display =\n",
              "        google.colab.kernel.accessAllowed ? 'block' : 'none';\n",
              "\n",
              "      async function convertToInteractive(key) {\n",
              "        const element = document.querySelector('#df-a6ef68d4-9384-49cc-906b-d142c40fd41b');\n",
              "        const dataTable =\n",
              "          await google.colab.kernel.invokeFunction('convertToInteractive',\n",
              "                                                    [key], {});\n",
              "        if (!dataTable) return;\n",
              "\n",
              "        const docLinkHtml = 'Like what you see? Visit the ' +\n",
              "          '<a target=\"_blank\" href=https://colab.research.google.com/notebooks/data_table.ipynb>data table notebook</a>'\n",
              "          + ' to learn more about interactive tables.';\n",
              "        element.innerHTML = '';\n",
              "        dataTable['output_type'] = 'display_data';\n",
              "        await google.colab.output.renderOutput(dataTable, element);\n",
              "        const docLink = document.createElement('div');\n",
              "        docLink.innerHTML = docLinkHtml;\n",
              "        element.appendChild(docLink);\n",
              "      }\n",
              "    </script>\n",
              "  </div>\n",
              "\n",
              "\n",
              "<div id=\"df-bdc25468-babe-4e81-a299-df022ce89dc8\">\n",
              "  <button class=\"colab-df-quickchart\" onclick=\"quickchart('df-bdc25468-babe-4e81-a299-df022ce89dc8')\"\n",
              "            title=\"Suggest charts\"\n",
              "            style=\"display:none;\">\n",
              "\n",
              "<svg xmlns=\"http://www.w3.org/2000/svg\" height=\"24px\"viewBox=\"0 0 24 24\"\n",
              "     width=\"24px\">\n",
              "    <g>\n",
              "        <path d=\"M19 3H5c-1.1 0-2 .9-2 2v14c0 1.1.9 2 2 2h14c1.1 0 2-.9 2-2V5c0-1.1-.9-2-2-2zM9 17H7v-7h2v7zm4 0h-2V7h2v10zm4 0h-2v-4h2v4z\"/>\n",
              "    </g>\n",
              "</svg>\n",
              "  </button>\n",
              "\n",
              "<style>\n",
              "  .colab-df-quickchart {\n",
              "      --bg-color: #E8F0FE;\n",
              "      --fill-color: #1967D2;\n",
              "      --hover-bg-color: #E2EBFA;\n",
              "      --hover-fill-color: #174EA6;\n",
              "      --disabled-fill-color: #AAA;\n",
              "      --disabled-bg-color: #DDD;\n",
              "  }\n",
              "\n",
              "  [theme=dark] .colab-df-quickchart {\n",
              "      --bg-color: #3B4455;\n",
              "      --fill-color: #D2E3FC;\n",
              "      --hover-bg-color: #434B5C;\n",
              "      --hover-fill-color: #FFFFFF;\n",
              "      --disabled-bg-color: #3B4455;\n",
              "      --disabled-fill-color: #666;\n",
              "  }\n",
              "\n",
              "  .colab-df-quickchart {\n",
              "    background-color: var(--bg-color);\n",
              "    border: none;\n",
              "    border-radius: 50%;\n",
              "    cursor: pointer;\n",
              "    display: none;\n",
              "    fill: var(--fill-color);\n",
              "    height: 32px;\n",
              "    padding: 0;\n",
              "    width: 32px;\n",
              "  }\n",
              "\n",
              "  .colab-df-quickchart:hover {\n",
              "    background-color: var(--hover-bg-color);\n",
              "    box-shadow: 0 1px 2px rgba(60, 64, 67, 0.3), 0 1px 3px 1px rgba(60, 64, 67, 0.15);\n",
              "    fill: var(--button-hover-fill-color);\n",
              "  }\n",
              "\n",
              "  .colab-df-quickchart-complete:disabled,\n",
              "  .colab-df-quickchart-complete:disabled:hover {\n",
              "    background-color: var(--disabled-bg-color);\n",
              "    fill: var(--disabled-fill-color);\n",
              "    box-shadow: none;\n",
              "  }\n",
              "\n",
              "  .colab-df-spinner {\n",
              "    border: 2px solid var(--fill-color);\n",
              "    border-color: transparent;\n",
              "    border-bottom-color: var(--fill-color);\n",
              "    animation:\n",
              "      spin 1s steps(1) infinite;\n",
              "  }\n",
              "\n",
              "  @keyframes spin {\n",
              "    0% {\n",
              "      border-color: transparent;\n",
              "      border-bottom-color: var(--fill-color);\n",
              "      border-left-color: var(--fill-color);\n",
              "    }\n",
              "    20% {\n",
              "      border-color: transparent;\n",
              "      border-left-color: var(--fill-color);\n",
              "      border-top-color: var(--fill-color);\n",
              "    }\n",
              "    30% {\n",
              "      border-color: transparent;\n",
              "      border-left-color: var(--fill-color);\n",
              "      border-top-color: var(--fill-color);\n",
              "      border-right-color: var(--fill-color);\n",
              "    }\n",
              "    40% {\n",
              "      border-color: transparent;\n",
              "      border-right-color: var(--fill-color);\n",
              "      border-top-color: var(--fill-color);\n",
              "    }\n",
              "    60% {\n",
              "      border-color: transparent;\n",
              "      border-right-color: var(--fill-color);\n",
              "    }\n",
              "    80% {\n",
              "      border-color: transparent;\n",
              "      border-right-color: var(--fill-color);\n",
              "      border-bottom-color: var(--fill-color);\n",
              "    }\n",
              "    90% {\n",
              "      border-color: transparent;\n",
              "      border-bottom-color: var(--fill-color);\n",
              "    }\n",
              "  }\n",
              "</style>\n",
              "\n",
              "  <script>\n",
              "    async function quickchart(key) {\n",
              "      const quickchartButtonEl =\n",
              "        document.querySelector('#' + key + ' button');\n",
              "      quickchartButtonEl.disabled = true;  // To prevent multiple clicks.\n",
              "      quickchartButtonEl.classList.add('colab-df-spinner');\n",
              "      try {\n",
              "        const charts = await google.colab.kernel.invokeFunction(\n",
              "            'suggestCharts', [key], {});\n",
              "      } catch (error) {\n",
              "        console.error('Error during call to suggestCharts:', error);\n",
              "      }\n",
              "      quickchartButtonEl.classList.remove('colab-df-spinner');\n",
              "      quickchartButtonEl.classList.add('colab-df-quickchart-complete');\n",
              "    }\n",
              "    (() => {\n",
              "      let quickchartButtonEl =\n",
              "        document.querySelector('#df-bdc25468-babe-4e81-a299-df022ce89dc8 button');\n",
              "      quickchartButtonEl.style.display =\n",
              "        google.colab.kernel.accessAllowed ? 'block' : 'none';\n",
              "    })();\n",
              "  </script>\n",
              "</div>\n",
              "\n",
              "    </div>\n",
              "  </div>\n"
            ],
            "application/vnd.google.colaboratory.intrinsic+json": {
              "type": "dataframe",
              "summary": "{\n  \"name\": \"df\",\n  \"rows\": 8,\n  \"fields\": [\n    {\n      \"column\": \"ZIP CODE\",\n      \"properties\": {\n        \"dtype\": \"number\",\n        \"std\": 4800.057159146491,\n        \"min\": 523.5463130239525,\n        \"max\": 18173.0,\n        \"num_unique_values\": 8,\n        \"samples\": [\n          10891.317724096187,\n          11208.0,\n          18173.0\n        ],\n        \"semantic_type\": \"\",\n        \"description\": \"\"\n      }\n    },\n    {\n      \"column\": \"LATITUDE\",\n      \"properties\": {\n        \"dtype\": \"number\",\n        \"std\": 9010.142935877415,\n        \"min\": 0.0,\n        \"max\": 25514.0,\n        \"num_unique_values\": 8,\n        \"samples\": [\n          40.496577700411535,\n          40.7140875,\n          25514.0\n        ],\n        \"semantic_type\": \"\",\n        \"description\": \"\"\n      }\n    },\n    {\n      \"column\": \"LONGITUDE\",\n      \"properties\": {\n        \"dtype\": \"number\",\n        \"std\": 9039.011547504437,\n        \"min\": -74.25015,\n        \"max\": 25514.0,\n        \"num_unique_values\": 8,\n        \"samples\": [\n          -73.50151295423689,\n          -73.919897,\n          25514.0\n        ],\n        \"semantic_type\": \"\",\n        \"description\": \"\"\n      }\n    },\n    {\n      \"column\": \"NUMBER OF PERSONS INJURED\",\n      \"properties\": {\n        \"dtype\": \"number\",\n        \"std\": 9822.812483047195,\n        \"min\": 0.0,\n        \"max\": 27786.0,\n        \"num_unique_values\": 6,\n        \"samples\": [\n          27786.0,\n          0.4757071906715612,\n          18.0\n        ],\n        \"semantic_type\": \"\",\n        \"description\": \"\"\n      }\n    },\n    {\n      \"column\": \"NUMBER OF PERSONS KILLED\",\n      \"properties\": {\n        \"dtype\": \"number\",\n        \"std\": 9823.679909096896,\n        \"min\": 0.0,\n        \"max\": 27786.0,\n        \"num_unique_values\": 5,\n        \"samples\": [\n          0.0030590945080256242,\n          3.0,\n          0.059006219333102884\n        ],\n        \"semantic_type\": \"\",\n        \"description\": \"\"\n      }\n    },\n    {\n      \"column\": \"NUMBER OF PEDESTRIANS INJURED\",\n      \"properties\": {\n        \"dtype\": \"number\",\n        \"std\": 9823.666191179382,\n        \"min\": 0.0,\n        \"max\": 27786.0,\n        \"num_unique_values\": 5,\n        \"samples\": [\n          0.0693874613114518,\n          3.0,\n          0.2642532863323879\n        ],\n        \"semantic_type\": \"\",\n        \"description\": \"\"\n      }\n    },\n    {\n      \"column\": \"NUMBER OF PEDESTRIANS KILLED\",\n      \"properties\": {\n        \"dtype\": \"number\",\n        \"std\": 9823.782182024783,\n        \"min\": 0.0,\n        \"max\": 27786.0,\n        \"num_unique_values\": 5,\n        \"samples\": [\n          0.0012236378032102497,\n          1.0,\n          0.034959755424760014\n        ],\n        \"semantic_type\": \"\",\n        \"description\": \"\"\n      }\n    },\n    {\n      \"column\": \"NUMBER OF CYCLIST INJURED\",\n      \"properties\": {\n        \"dtype\": \"number\",\n        \"std\": 9823.669729903959,\n        \"min\": 0.0,\n        \"max\": 27786.0,\n        \"num_unique_values\": 5,\n        \"samples\": [\n          0.04729000215936083,\n          3.0,\n          0.21629338917775798\n        ],\n        \"semantic_type\": \"\",\n        \"description\": \"\"\n      }\n    },\n    {\n      \"column\": \"NUMBER OF CYCLIST KILLED\",\n      \"properties\": {\n        \"dtype\": \"number\",\n        \"std\": 9823.783256562829,\n        \"min\": 0.0,\n        \"max\": 27786.0,\n        \"num_unique_values\": 5,\n        \"samples\": [\n          0.00021593608291945585,\n          1.0,\n          0.01469344154810956\n        ],\n        \"semantic_type\": \"\",\n        \"description\": \"\"\n      }\n    },\n    {\n      \"column\": \"NUMBER OF MOTORIST INJURED\",\n      \"properties\": {\n        \"dtype\": \"number\",\n        \"std\": 9822.870920204807,\n        \"min\": 0.0,\n        \"max\": 27786.0,\n        \"num_unique_values\": 5,\n        \"samples\": [\n          0.3449578924638307,\n          18.0,\n          0.7723999696925185\n        ],\n        \"semantic_type\": \"\",\n        \"description\": \"\"\n      }\n    },\n    {\n      \"column\": \"NUMBER OF MOTORIST KILLED\",\n      \"properties\": {\n        \"dtype\": \"number\",\n        \"std\": 9823.680829917972,\n        \"min\": 0.0,\n        \"max\": 27786.0,\n        \"num_unique_values\": 5,\n        \"samples\": [\n          0.0014395738861297056,\n          3.0,\n          0.04239645827293491\n        ],\n        \"semantic_type\": \"\",\n        \"description\": \"\"\n      }\n    },\n    {\n      \"column\": \"COLLISION_ID\",\n      \"properties\": {\n        \"dtype\": \"number\",\n        \"std\": 2040826.3073033683,\n        \"min\": 27786.0,\n        \"max\": 4694954.0,\n        \"num_unique_values\": 8,\n        \"samples\": [\n          4446594.9776866045,\n          4421586.5,\n          27786.0\n        ],\n        \"semantic_type\": \"\",\n        \"description\": \"\"\n      }\n    }\n  ]\n}"
            }
          },
          "metadata": {},
          "execution_count": 11
        }
      ]
    },
    {
      "cell_type": "markdown",
      "source": [
        "### Summary of categorical columns"
      ],
      "metadata": {
        "id": "xD8JzX1_sn__"
      }
    },
    {
      "cell_type": "code",
      "source": [
        "df.describe(include='object')"
      ],
      "metadata": {
        "execution": {
          "iopub.status.busy": "2024-04-19T12:44:11.835595Z",
          "iopub.execute_input": "2024-04-19T12:44:11.835926Z",
          "iopub.status.idle": "2024-04-19T12:44:20.926815Z",
          "shell.execute_reply.started": "2024-04-19T12:44:11.835900Z",
          "shell.execute_reply": "2024-04-19T12:44:20.925530Z"
        },
        "trusted": true,
        "id": "PNy-PVsMsn__",
        "outputId": "9e21dce2-c9db-450a-9ce3-22430d0941ea",
        "colab": {
          "base_uri": "https://localhost:8080/",
          "height": 264
        }
      },
      "execution_count": 12,
      "outputs": [
        {
          "output_type": "execute_result",
          "data": {
            "text/plain": [
              "        CRASH DATE CRASH TIME   BOROUGH    LOCATION ON STREET NAME  \\\n",
              "count        27787      27787     18176       25514          20331   \n",
              "unique         398       1434         5       18670           2819   \n",
              "top     05/14/2021       0:00  BROOKLYN  (0.0, 0.0)   BELT PARKWAY   \n",
              "freq           387        496      6251         143            479   \n",
              "\n",
              "       CROSS STREET NAME            OFF STREET NAME  \\\n",
              "count              12917                       7455   \n",
              "unique              3040                       7085   \n",
              "top             3 AVENUE  450       FLATBUSH AVENUE   \n",
              "freq                 126                          8   \n",
              "\n",
              "       CONTRIBUTING FACTOR VEHICLE 1 CONTRIBUTING FACTOR VEHICLE 2  \\\n",
              "count                          27646                         21624   \n",
              "unique                            55                            40   \n",
              "top                      Unspecified                   Unspecified   \n",
              "freq                            6878                         18547   \n",
              "\n",
              "       CONTRIBUTING FACTOR VEHICLE 3 CONTRIBUTING FACTOR VEHICLE 4  \\\n",
              "count                           2887                           773   \n",
              "unique                            17                             9   \n",
              "top                      Unspecified                   Unspecified   \n",
              "freq                            2735                           740   \n",
              "\n",
              "       CONTRIBUTING FACTOR VEHICLE 5 VEHICLE TYPE CODE 1 VEHICLE TYPE CODE 2  \\\n",
              "count                            213               27455               18700   \n",
              "unique                             6                 152                 193   \n",
              "top                      Unspecified               Sedan               Sedan   \n",
              "freq                             201               13252                8165   \n",
              "\n",
              "       VEHICLE TYPE CODE 3 VEHICLE TYPE CODE 4 VEHICLE TYPE CODE 5  \n",
              "count                 2694                 728                 203  \n",
              "unique                  33                  22                   9  \n",
              "top                  Sedan               Sedan               Sedan  \n",
              "freq                  1395                 361                 104  "
            ],
            "text/html": [
              "\n",
              "  <div id=\"df-679bdd91-d092-4a88-98da-a958fd588a25\" class=\"colab-df-container\">\n",
              "    <div>\n",
              "<style scoped>\n",
              "    .dataframe tbody tr th:only-of-type {\n",
              "        vertical-align: middle;\n",
              "    }\n",
              "\n",
              "    .dataframe tbody tr th {\n",
              "        vertical-align: top;\n",
              "    }\n",
              "\n",
              "    .dataframe thead th {\n",
              "        text-align: right;\n",
              "    }\n",
              "</style>\n",
              "<table border=\"1\" class=\"dataframe\">\n",
              "  <thead>\n",
              "    <tr style=\"text-align: right;\">\n",
              "      <th></th>\n",
              "      <th>CRASH DATE</th>\n",
              "      <th>CRASH TIME</th>\n",
              "      <th>BOROUGH</th>\n",
              "      <th>LOCATION</th>\n",
              "      <th>ON STREET NAME</th>\n",
              "      <th>CROSS STREET NAME</th>\n",
              "      <th>OFF STREET NAME</th>\n",
              "      <th>CONTRIBUTING FACTOR VEHICLE 1</th>\n",
              "      <th>CONTRIBUTING FACTOR VEHICLE 2</th>\n",
              "      <th>CONTRIBUTING FACTOR VEHICLE 3</th>\n",
              "      <th>CONTRIBUTING FACTOR VEHICLE 4</th>\n",
              "      <th>CONTRIBUTING FACTOR VEHICLE 5</th>\n",
              "      <th>VEHICLE TYPE CODE 1</th>\n",
              "      <th>VEHICLE TYPE CODE 2</th>\n",
              "      <th>VEHICLE TYPE CODE 3</th>\n",
              "      <th>VEHICLE TYPE CODE 4</th>\n",
              "      <th>VEHICLE TYPE CODE 5</th>\n",
              "    </tr>\n",
              "  </thead>\n",
              "  <tbody>\n",
              "    <tr>\n",
              "      <th>count</th>\n",
              "      <td>27787</td>\n",
              "      <td>27787</td>\n",
              "      <td>18176</td>\n",
              "      <td>25514</td>\n",
              "      <td>20331</td>\n",
              "      <td>12917</td>\n",
              "      <td>7455</td>\n",
              "      <td>27646</td>\n",
              "      <td>21624</td>\n",
              "      <td>2887</td>\n",
              "      <td>773</td>\n",
              "      <td>213</td>\n",
              "      <td>27455</td>\n",
              "      <td>18700</td>\n",
              "      <td>2694</td>\n",
              "      <td>728</td>\n",
              "      <td>203</td>\n",
              "    </tr>\n",
              "    <tr>\n",
              "      <th>unique</th>\n",
              "      <td>398</td>\n",
              "      <td>1434</td>\n",
              "      <td>5</td>\n",
              "      <td>18670</td>\n",
              "      <td>2819</td>\n",
              "      <td>3040</td>\n",
              "      <td>7085</td>\n",
              "      <td>55</td>\n",
              "      <td>40</td>\n",
              "      <td>17</td>\n",
              "      <td>9</td>\n",
              "      <td>6</td>\n",
              "      <td>152</td>\n",
              "      <td>193</td>\n",
              "      <td>33</td>\n",
              "      <td>22</td>\n",
              "      <td>9</td>\n",
              "    </tr>\n",
              "    <tr>\n",
              "      <th>top</th>\n",
              "      <td>05/14/2021</td>\n",
              "      <td>0:00</td>\n",
              "      <td>BROOKLYN</td>\n",
              "      <td>(0.0, 0.0)</td>\n",
              "      <td>BELT PARKWAY</td>\n",
              "      <td>3 AVENUE</td>\n",
              "      <td>450       FLATBUSH AVENUE</td>\n",
              "      <td>Unspecified</td>\n",
              "      <td>Unspecified</td>\n",
              "      <td>Unspecified</td>\n",
              "      <td>Unspecified</td>\n",
              "      <td>Unspecified</td>\n",
              "      <td>Sedan</td>\n",
              "      <td>Sedan</td>\n",
              "      <td>Sedan</td>\n",
              "      <td>Sedan</td>\n",
              "      <td>Sedan</td>\n",
              "    </tr>\n",
              "    <tr>\n",
              "      <th>freq</th>\n",
              "      <td>387</td>\n",
              "      <td>496</td>\n",
              "      <td>6251</td>\n",
              "      <td>143</td>\n",
              "      <td>479</td>\n",
              "      <td>126</td>\n",
              "      <td>8</td>\n",
              "      <td>6878</td>\n",
              "      <td>18547</td>\n",
              "      <td>2735</td>\n",
              "      <td>740</td>\n",
              "      <td>201</td>\n",
              "      <td>13252</td>\n",
              "      <td>8165</td>\n",
              "      <td>1395</td>\n",
              "      <td>361</td>\n",
              "      <td>104</td>\n",
              "    </tr>\n",
              "  </tbody>\n",
              "</table>\n",
              "</div>\n",
              "    <div class=\"colab-df-buttons\">\n",
              "\n",
              "  <div class=\"colab-df-container\">\n",
              "    <button class=\"colab-df-convert\" onclick=\"convertToInteractive('df-679bdd91-d092-4a88-98da-a958fd588a25')\"\n",
              "            title=\"Convert this dataframe to an interactive table.\"\n",
              "            style=\"display:none;\">\n",
              "\n",
              "  <svg xmlns=\"http://www.w3.org/2000/svg\" height=\"24px\" viewBox=\"0 -960 960 960\">\n",
              "    <path d=\"M120-120v-720h720v720H120Zm60-500h600v-160H180v160Zm220 220h160v-160H400v160Zm0 220h160v-160H400v160ZM180-400h160v-160H180v160Zm440 0h160v-160H620v160ZM180-180h160v-160H180v160Zm440 0h160v-160H620v160Z\"/>\n",
              "  </svg>\n",
              "    </button>\n",
              "\n",
              "  <style>\n",
              "    .colab-df-container {\n",
              "      display:flex;\n",
              "      gap: 12px;\n",
              "    }\n",
              "\n",
              "    .colab-df-convert {\n",
              "      background-color: #E8F0FE;\n",
              "      border: none;\n",
              "      border-radius: 50%;\n",
              "      cursor: pointer;\n",
              "      display: none;\n",
              "      fill: #1967D2;\n",
              "      height: 32px;\n",
              "      padding: 0 0 0 0;\n",
              "      width: 32px;\n",
              "    }\n",
              "\n",
              "    .colab-df-convert:hover {\n",
              "      background-color: #E2EBFA;\n",
              "      box-shadow: 0px 1px 2px rgba(60, 64, 67, 0.3), 0px 1px 3px 1px rgba(60, 64, 67, 0.15);\n",
              "      fill: #174EA6;\n",
              "    }\n",
              "\n",
              "    .colab-df-buttons div {\n",
              "      margin-bottom: 4px;\n",
              "    }\n",
              "\n",
              "    [theme=dark] .colab-df-convert {\n",
              "      background-color: #3B4455;\n",
              "      fill: #D2E3FC;\n",
              "    }\n",
              "\n",
              "    [theme=dark] .colab-df-convert:hover {\n",
              "      background-color: #434B5C;\n",
              "      box-shadow: 0px 1px 3px 1px rgba(0, 0, 0, 0.15);\n",
              "      filter: drop-shadow(0px 1px 2px rgba(0, 0, 0, 0.3));\n",
              "      fill: #FFFFFF;\n",
              "    }\n",
              "  </style>\n",
              "\n",
              "    <script>\n",
              "      const buttonEl =\n",
              "        document.querySelector('#df-679bdd91-d092-4a88-98da-a958fd588a25 button.colab-df-convert');\n",
              "      buttonEl.style.display =\n",
              "        google.colab.kernel.accessAllowed ? 'block' : 'none';\n",
              "\n",
              "      async function convertToInteractive(key) {\n",
              "        const element = document.querySelector('#df-679bdd91-d092-4a88-98da-a958fd588a25');\n",
              "        const dataTable =\n",
              "          await google.colab.kernel.invokeFunction('convertToInteractive',\n",
              "                                                    [key], {});\n",
              "        if (!dataTable) return;\n",
              "\n",
              "        const docLinkHtml = 'Like what you see? Visit the ' +\n",
              "          '<a target=\"_blank\" href=https://colab.research.google.com/notebooks/data_table.ipynb>data table notebook</a>'\n",
              "          + ' to learn more about interactive tables.';\n",
              "        element.innerHTML = '';\n",
              "        dataTable['output_type'] = 'display_data';\n",
              "        await google.colab.output.renderOutput(dataTable, element);\n",
              "        const docLink = document.createElement('div');\n",
              "        docLink.innerHTML = docLinkHtml;\n",
              "        element.appendChild(docLink);\n",
              "      }\n",
              "    </script>\n",
              "  </div>\n",
              "\n",
              "\n",
              "<div id=\"df-97c75ea1-af48-4f61-8b4e-bb0ae0d74452\">\n",
              "  <button class=\"colab-df-quickchart\" onclick=\"quickchart('df-97c75ea1-af48-4f61-8b4e-bb0ae0d74452')\"\n",
              "            title=\"Suggest charts\"\n",
              "            style=\"display:none;\">\n",
              "\n",
              "<svg xmlns=\"http://www.w3.org/2000/svg\" height=\"24px\"viewBox=\"0 0 24 24\"\n",
              "     width=\"24px\">\n",
              "    <g>\n",
              "        <path d=\"M19 3H5c-1.1 0-2 .9-2 2v14c0 1.1.9 2 2 2h14c1.1 0 2-.9 2-2V5c0-1.1-.9-2-2-2zM9 17H7v-7h2v7zm4 0h-2V7h2v10zm4 0h-2v-4h2v4z\"/>\n",
              "    </g>\n",
              "</svg>\n",
              "  </button>\n",
              "\n",
              "<style>\n",
              "  .colab-df-quickchart {\n",
              "      --bg-color: #E8F0FE;\n",
              "      --fill-color: #1967D2;\n",
              "      --hover-bg-color: #E2EBFA;\n",
              "      --hover-fill-color: #174EA6;\n",
              "      --disabled-fill-color: #AAA;\n",
              "      --disabled-bg-color: #DDD;\n",
              "  }\n",
              "\n",
              "  [theme=dark] .colab-df-quickchart {\n",
              "      --bg-color: #3B4455;\n",
              "      --fill-color: #D2E3FC;\n",
              "      --hover-bg-color: #434B5C;\n",
              "      --hover-fill-color: #FFFFFF;\n",
              "      --disabled-bg-color: #3B4455;\n",
              "      --disabled-fill-color: #666;\n",
              "  }\n",
              "\n",
              "  .colab-df-quickchart {\n",
              "    background-color: var(--bg-color);\n",
              "    border: none;\n",
              "    border-radius: 50%;\n",
              "    cursor: pointer;\n",
              "    display: none;\n",
              "    fill: var(--fill-color);\n",
              "    height: 32px;\n",
              "    padding: 0;\n",
              "    width: 32px;\n",
              "  }\n",
              "\n",
              "  .colab-df-quickchart:hover {\n",
              "    background-color: var(--hover-bg-color);\n",
              "    box-shadow: 0 1px 2px rgba(60, 64, 67, 0.3), 0 1px 3px 1px rgba(60, 64, 67, 0.15);\n",
              "    fill: var(--button-hover-fill-color);\n",
              "  }\n",
              "\n",
              "  .colab-df-quickchart-complete:disabled,\n",
              "  .colab-df-quickchart-complete:disabled:hover {\n",
              "    background-color: var(--disabled-bg-color);\n",
              "    fill: var(--disabled-fill-color);\n",
              "    box-shadow: none;\n",
              "  }\n",
              "\n",
              "  .colab-df-spinner {\n",
              "    border: 2px solid var(--fill-color);\n",
              "    border-color: transparent;\n",
              "    border-bottom-color: var(--fill-color);\n",
              "    animation:\n",
              "      spin 1s steps(1) infinite;\n",
              "  }\n",
              "\n",
              "  @keyframes spin {\n",
              "    0% {\n",
              "      border-color: transparent;\n",
              "      border-bottom-color: var(--fill-color);\n",
              "      border-left-color: var(--fill-color);\n",
              "    }\n",
              "    20% {\n",
              "      border-color: transparent;\n",
              "      border-left-color: var(--fill-color);\n",
              "      border-top-color: var(--fill-color);\n",
              "    }\n",
              "    30% {\n",
              "      border-color: transparent;\n",
              "      border-left-color: var(--fill-color);\n",
              "      border-top-color: var(--fill-color);\n",
              "      border-right-color: var(--fill-color);\n",
              "    }\n",
              "    40% {\n",
              "      border-color: transparent;\n",
              "      border-right-color: var(--fill-color);\n",
              "      border-top-color: var(--fill-color);\n",
              "    }\n",
              "    60% {\n",
              "      border-color: transparent;\n",
              "      border-right-color: var(--fill-color);\n",
              "    }\n",
              "    80% {\n",
              "      border-color: transparent;\n",
              "      border-right-color: var(--fill-color);\n",
              "      border-bottom-color: var(--fill-color);\n",
              "    }\n",
              "    90% {\n",
              "      border-color: transparent;\n",
              "      border-bottom-color: var(--fill-color);\n",
              "    }\n",
              "  }\n",
              "</style>\n",
              "\n",
              "  <script>\n",
              "    async function quickchart(key) {\n",
              "      const quickchartButtonEl =\n",
              "        document.querySelector('#' + key + ' button');\n",
              "      quickchartButtonEl.disabled = true;  // To prevent multiple clicks.\n",
              "      quickchartButtonEl.classList.add('colab-df-spinner');\n",
              "      try {\n",
              "        const charts = await google.colab.kernel.invokeFunction(\n",
              "            'suggestCharts', [key], {});\n",
              "      } catch (error) {\n",
              "        console.error('Error during call to suggestCharts:', error);\n",
              "      }\n",
              "      quickchartButtonEl.classList.remove('colab-df-spinner');\n",
              "      quickchartButtonEl.classList.add('colab-df-quickchart-complete');\n",
              "    }\n",
              "    (() => {\n",
              "      let quickchartButtonEl =\n",
              "        document.querySelector('#df-97c75ea1-af48-4f61-8b4e-bb0ae0d74452 button');\n",
              "      quickchartButtonEl.style.display =\n",
              "        google.colab.kernel.accessAllowed ? 'block' : 'none';\n",
              "    })();\n",
              "  </script>\n",
              "</div>\n",
              "\n",
              "    </div>\n",
              "  </div>\n"
            ],
            "application/vnd.google.colaboratory.intrinsic+json": {
              "type": "dataframe",
              "summary": "{\n  \"name\": \"df\",\n  \"rows\": 4,\n  \"fields\": [\n    {\n      \"column\": \"CRASH DATE\",\n      \"properties\": {\n        \"dtype\": \"date\",\n        \"min\": \"1970-01-01 00:00:00.000000387\",\n        \"max\": \"2021-05-14 00:00:00\",\n        \"num_unique_values\": 4,\n        \"samples\": [\n          398,\n          \"387\",\n          \"27787\"\n        ],\n        \"semantic_type\": \"\",\n        \"description\": \"\"\n      }\n    },\n    {\n      \"column\": \"CRASH TIME\",\n      \"properties\": {\n        \"dtype\": \"date\",\n        \"min\": \"1970-01-01 00:00:00.000000496\",\n        \"max\": \"2024-05-03 00:00:00\",\n        \"num_unique_values\": 4,\n        \"samples\": [\n          1434,\n          \"496\",\n          \"27787\"\n        ],\n        \"semantic_type\": \"\",\n        \"description\": \"\"\n      }\n    },\n    {\n      \"column\": \"BOROUGH\",\n      \"properties\": {\n        \"dtype\": \"string\",\n        \"num_unique_values\": 4,\n        \"samples\": [\n          5,\n          \"6251\",\n          \"18176\"\n        ],\n        \"semantic_type\": \"\",\n        \"description\": \"\"\n      }\n    },\n    {\n      \"column\": \"LOCATION\",\n      \"properties\": {\n        \"dtype\": \"string\",\n        \"num_unique_values\": 4,\n        \"samples\": [\n          18670,\n          \"143\",\n          \"25514\"\n        ],\n        \"semantic_type\": \"\",\n        \"description\": \"\"\n      }\n    },\n    {\n      \"column\": \"ON STREET NAME\",\n      \"properties\": {\n        \"dtype\": \"string\",\n        \"num_unique_values\": 4,\n        \"samples\": [\n          2819,\n          \"479\",\n          \"20331\"\n        ],\n        \"semantic_type\": \"\",\n        \"description\": \"\"\n      }\n    },\n    {\n      \"column\": \"CROSS STREET NAME\",\n      \"properties\": {\n        \"dtype\": \"string\",\n        \"num_unique_values\": 4,\n        \"samples\": [\n          3040,\n          \"126\",\n          \"12917\"\n        ],\n        \"semantic_type\": \"\",\n        \"description\": \"\"\n      }\n    },\n    {\n      \"column\": \"OFF STREET NAME\",\n      \"properties\": {\n        \"dtype\": \"string\",\n        \"num_unique_values\": 4,\n        \"samples\": [\n          7085,\n          \"8\",\n          \"7455\"\n        ],\n        \"semantic_type\": \"\",\n        \"description\": \"\"\n      }\n    },\n    {\n      \"column\": \"CONTRIBUTING FACTOR VEHICLE 1\",\n      \"properties\": {\n        \"dtype\": \"string\",\n        \"num_unique_values\": 4,\n        \"samples\": [\n          55,\n          \"6878\",\n          \"27646\"\n        ],\n        \"semantic_type\": \"\",\n        \"description\": \"\"\n      }\n    },\n    {\n      \"column\": \"CONTRIBUTING FACTOR VEHICLE 2\",\n      \"properties\": {\n        \"dtype\": \"string\",\n        \"num_unique_values\": 4,\n        \"samples\": [\n          40,\n          \"18547\",\n          \"21624\"\n        ],\n        \"semantic_type\": \"\",\n        \"description\": \"\"\n      }\n    },\n    {\n      \"column\": \"CONTRIBUTING FACTOR VEHICLE 3\",\n      \"properties\": {\n        \"dtype\": \"string\",\n        \"num_unique_values\": 4,\n        \"samples\": [\n          17,\n          \"2735\",\n          \"2887\"\n        ],\n        \"semantic_type\": \"\",\n        \"description\": \"\"\n      }\n    },\n    {\n      \"column\": \"CONTRIBUTING FACTOR VEHICLE 4\",\n      \"properties\": {\n        \"dtype\": \"string\",\n        \"num_unique_values\": 4,\n        \"samples\": [\n          9,\n          \"740\",\n          \"773\"\n        ],\n        \"semantic_type\": \"\",\n        \"description\": \"\"\n      }\n    },\n    {\n      \"column\": \"CONTRIBUTING FACTOR VEHICLE 5\",\n      \"properties\": {\n        \"dtype\": \"string\",\n        \"num_unique_values\": 4,\n        \"samples\": [\n          6,\n          \"201\",\n          \"213\"\n        ],\n        \"semantic_type\": \"\",\n        \"description\": \"\"\n      }\n    },\n    {\n      \"column\": \"VEHICLE TYPE CODE 1\",\n      \"properties\": {\n        \"dtype\": \"string\",\n        \"num_unique_values\": 4,\n        \"samples\": [\n          152,\n          \"13252\",\n          \"27455\"\n        ],\n        \"semantic_type\": \"\",\n        \"description\": \"\"\n      }\n    },\n    {\n      \"column\": \"VEHICLE TYPE CODE 2\",\n      \"properties\": {\n        \"dtype\": \"string\",\n        \"num_unique_values\": 4,\n        \"samples\": [\n          193,\n          \"8165\",\n          \"18700\"\n        ],\n        \"semantic_type\": \"\",\n        \"description\": \"\"\n      }\n    },\n    {\n      \"column\": \"VEHICLE TYPE CODE 3\",\n      \"properties\": {\n        \"dtype\": \"string\",\n        \"num_unique_values\": 4,\n        \"samples\": [\n          33,\n          \"1395\",\n          \"2694\"\n        ],\n        \"semantic_type\": \"\",\n        \"description\": \"\"\n      }\n    },\n    {\n      \"column\": \"VEHICLE TYPE CODE 4\",\n      \"properties\": {\n        \"dtype\": \"string\",\n        \"num_unique_values\": 4,\n        \"samples\": [\n          22,\n          \"361\",\n          \"728\"\n        ],\n        \"semantic_type\": \"\",\n        \"description\": \"\"\n      }\n    },\n    {\n      \"column\": \"VEHICLE TYPE CODE 5\",\n      \"properties\": {\n        \"dtype\": \"string\",\n        \"num_unique_values\": 4,\n        \"samples\": [\n          9,\n          \"104\",\n          \"203\"\n        ],\n        \"semantic_type\": \"\",\n        \"description\": \"\"\n      }\n    }\n  ]\n}"
            }
          },
          "metadata": {},
          "execution_count": 12
        }
      ]
    },
    {
      "cell_type": "markdown",
      "source": [
        "### Some columns are filled with null values, so we will drop those columns"
      ],
      "metadata": {
        "id": "5eC4kmSksoAA"
      }
    },
    {
      "cell_type": "code",
      "source": [
        "df.drop(columns=['OFF STREET NAME','LATITUDE','LONGITUDE','LOCATION','CONTRIBUTING FACTOR VEHICLE 3','CONTRIBUTING FACTOR VEHICLE 4',\n",
        "                'CONTRIBUTING FACTOR VEHICLE 5','COLLISION_ID','VEHICLE TYPE CODE 3','VEHICLE TYPE CODE 4',\n",
        "                'VEHICLE TYPE CODE 5'],axis=1,inplace=True)\n",
        "df.shape"
      ],
      "metadata": {
        "execution": {
          "iopub.status.busy": "2024-04-19T12:44:20.928834Z",
          "iopub.execute_input": "2024-04-19T12:44:20.930071Z",
          "iopub.status.idle": "2024-04-19T12:44:21.286225Z",
          "shell.execute_reply.started": "2024-04-19T12:44:20.930019Z",
          "shell.execute_reply": "2024-04-19T12:44:21.285030Z"
        },
        "trusted": true,
        "id": "MmBKsSmGsoAA",
        "outputId": "1895b6a5-0aeb-481e-c69a-56113fbc42db",
        "colab": {
          "base_uri": "https://localhost:8080/"
        }
      },
      "execution_count": 13,
      "outputs": [
        {
          "output_type": "execute_result",
          "data": {
            "text/plain": [
              "(27787, 18)"
            ]
          },
          "metadata": {},
          "execution_count": 13
        }
      ]
    },
    {
      "cell_type": "markdown",
      "source": [
        "### Relationship between numerical variables"
      ],
      "metadata": {
        "id": "pKJnspzPsoAA"
      }
    },
    {
      "cell_type": "code",
      "source": [
        "corr = df.corr(numeric_only=True)\n",
        "corr"
      ],
      "metadata": {
        "execution": {
          "iopub.status.busy": "2024-04-19T12:44:21.291144Z",
          "iopub.execute_input": "2024-04-19T12:44:21.291563Z",
          "iopub.status.idle": "2024-04-19T12:44:21.816234Z",
          "shell.execute_reply.started": "2024-04-19T12:44:21.291531Z",
          "shell.execute_reply": "2024-04-19T12:44:21.815159Z"
        },
        "trusted": true,
        "id": "PVyMzNZZsoAA",
        "outputId": "4a5dcab0-9b8c-48a3-b04e-d0f805363367",
        "colab": {
          "base_uri": "https://localhost:8080/",
          "height": 681
        }
      },
      "execution_count": 14,
      "outputs": [
        {
          "output_type": "execute_result",
          "data": {
            "text/plain": [
              "                               ZIP CODE  NUMBER OF PERSONS INJURED  \\\n",
              "ZIP CODE                       1.000000                   0.028469   \n",
              "NUMBER OF PERSONS INJURED      0.028469                   1.000000   \n",
              "NUMBER OF PERSONS KILLED      -0.007002                  -0.003390   \n",
              "NUMBER OF PEDESTRIANS INJURED -0.015153                   0.212152   \n",
              "NUMBER OF PEDESTRIANS KILLED  -0.001960                  -0.007966   \n",
              "NUMBER OF CYCLIST INJURED     -0.048145                   0.162236   \n",
              "NUMBER OF CYCLIST KILLED      -0.008705                  -0.005692   \n",
              "NUMBER OF MOTORIST INJURED     0.051651                   0.900313   \n",
              "NUMBER OF MOTORIST KILLED     -0.001884                   0.006354   \n",
              "\n",
              "                               NUMBER OF PERSONS KILLED  \\\n",
              "ZIP CODE                                      -0.007002   \n",
              "NUMBER OF PERSONS INJURED                     -0.003390   \n",
              "NUMBER OF PERSONS KILLED                       1.000000   \n",
              "NUMBER OF PEDESTRIANS INJURED                 -0.002073   \n",
              "NUMBER OF PEDESTRIANS KILLED                   0.608834   \n",
              "NUMBER OF CYCLIST INJURED                     -0.008515   \n",
              "NUMBER OF CYCLIST KILLED                       0.289818   \n",
              "NUMBER OF MOTORIST INJURED                    -0.000254   \n",
              "NUMBER OF MOTORIST KILLED                      0.717576   \n",
              "\n",
              "                               NUMBER OF PEDESTRIANS INJURED  \\\n",
              "ZIP CODE                                           -0.015153   \n",
              "NUMBER OF PERSONS INJURED                           0.212152   \n",
              "NUMBER OF PERSONS KILLED                           -0.002073   \n",
              "NUMBER OF PEDESTRIANS INJURED                       1.000000   \n",
              "NUMBER OF PEDESTRIANS KILLED                        0.006392   \n",
              "NUMBER OF CYCLIST INJURED                          -0.048596   \n",
              "NUMBER OF CYCLIST KILLED                           -0.003859   \n",
              "NUMBER OF MOTORIST INJURED                         -0.105459   \n",
              "NUMBER OF MOTORIST KILLED                          -0.005704   \n",
              "\n",
              "                               NUMBER OF PEDESTRIANS KILLED  \\\n",
              "ZIP CODE                                          -0.001960   \n",
              "NUMBER OF PERSONS INJURED                         -0.007966   \n",
              "NUMBER OF PERSONS KILLED                           0.608834   \n",
              "NUMBER OF PEDESTRIANS INJURED                      0.006392   \n",
              "NUMBER OF PEDESTRIANS KILLED                       1.000000   \n",
              "NUMBER OF CYCLIST INJURED                         -0.007653   \n",
              "NUMBER OF CYCLIST KILLED                           0.069550   \n",
              "NUMBER OF MOTORIST INJURED                        -0.007635   \n",
              "NUMBER OF MOTORIST KILLED                         -0.001189   \n",
              "\n",
              "                               NUMBER OF CYCLIST INJURED  \\\n",
              "ZIP CODE                                       -0.048145   \n",
              "NUMBER OF PERSONS INJURED                       0.162236   \n",
              "NUMBER OF PERSONS KILLED                       -0.008515   \n",
              "NUMBER OF PEDESTRIANS INJURED                  -0.048596   \n",
              "NUMBER OF PEDESTRIANS KILLED                   -0.007653   \n",
              "NUMBER OF CYCLIST INJURED                       1.000000   \n",
              "NUMBER OF CYCLIST KILLED                        0.008111   \n",
              "NUMBER OF MOTORIST INJURED                     -0.092909   \n",
              "NUMBER OF MOTORIST KILLED                      -0.007424   \n",
              "\n",
              "                               NUMBER OF CYCLIST KILLED  \\\n",
              "ZIP CODE                                      -0.008705   \n",
              "NUMBER OF PERSONS INJURED                     -0.005692   \n",
              "NUMBER OF PERSONS KILLED                       0.289818   \n",
              "NUMBER OF PEDESTRIANS INJURED                 -0.003859   \n",
              "NUMBER OF PEDESTRIANS KILLED                   0.069550   \n",
              "NUMBER OF CYCLIST INJURED                      0.008111   \n",
              "NUMBER OF CYCLIST KILLED                       1.000000   \n",
              "NUMBER OF MOTORIST INJURED                    -0.006564   \n",
              "NUMBER OF MOTORIST KILLED                     -0.000499   \n",
              "\n",
              "                               NUMBER OF MOTORIST INJURED  \\\n",
              "ZIP CODE                                         0.051651   \n",
              "NUMBER OF PERSONS INJURED                        0.900313   \n",
              "NUMBER OF PERSONS KILLED                        -0.000254   \n",
              "NUMBER OF PEDESTRIANS INJURED                   -0.105459   \n",
              "NUMBER OF PEDESTRIANS KILLED                    -0.007635   \n",
              "NUMBER OF CYCLIST INJURED                       -0.092909   \n",
              "NUMBER OF CYCLIST KILLED                        -0.006564   \n",
              "NUMBER OF MOTORIST INJURED                       1.000000   \n",
              "NUMBER OF MOTORIST KILLED                        0.010113   \n",
              "\n",
              "                               NUMBER OF MOTORIST KILLED  \n",
              "ZIP CODE                                       -0.001884  \n",
              "NUMBER OF PERSONS INJURED                       0.006354  \n",
              "NUMBER OF PERSONS KILLED                        0.717576  \n",
              "NUMBER OF PEDESTRIANS INJURED                  -0.005704  \n",
              "NUMBER OF PEDESTRIANS KILLED                   -0.001189  \n",
              "NUMBER OF CYCLIST INJURED                      -0.007424  \n",
              "NUMBER OF CYCLIST KILLED                       -0.000499  \n",
              "NUMBER OF MOTORIST INJURED                      0.010113  \n",
              "NUMBER OF MOTORIST KILLED                       1.000000  "
            ],
            "text/html": [
              "\n",
              "  <div id=\"df-a6480341-835d-4c57-bb80-dcb602bc2e82\" class=\"colab-df-container\">\n",
              "    <div>\n",
              "<style scoped>\n",
              "    .dataframe tbody tr th:only-of-type {\n",
              "        vertical-align: middle;\n",
              "    }\n",
              "\n",
              "    .dataframe tbody tr th {\n",
              "        vertical-align: top;\n",
              "    }\n",
              "\n",
              "    .dataframe thead th {\n",
              "        text-align: right;\n",
              "    }\n",
              "</style>\n",
              "<table border=\"1\" class=\"dataframe\">\n",
              "  <thead>\n",
              "    <tr style=\"text-align: right;\">\n",
              "      <th></th>\n",
              "      <th>ZIP CODE</th>\n",
              "      <th>NUMBER OF PERSONS INJURED</th>\n",
              "      <th>NUMBER OF PERSONS KILLED</th>\n",
              "      <th>NUMBER OF PEDESTRIANS INJURED</th>\n",
              "      <th>NUMBER OF PEDESTRIANS KILLED</th>\n",
              "      <th>NUMBER OF CYCLIST INJURED</th>\n",
              "      <th>NUMBER OF CYCLIST KILLED</th>\n",
              "      <th>NUMBER OF MOTORIST INJURED</th>\n",
              "      <th>NUMBER OF MOTORIST KILLED</th>\n",
              "    </tr>\n",
              "  </thead>\n",
              "  <tbody>\n",
              "    <tr>\n",
              "      <th>ZIP CODE</th>\n",
              "      <td>1.000000</td>\n",
              "      <td>0.028469</td>\n",
              "      <td>-0.007002</td>\n",
              "      <td>-0.015153</td>\n",
              "      <td>-0.001960</td>\n",
              "      <td>-0.048145</td>\n",
              "      <td>-0.008705</td>\n",
              "      <td>0.051651</td>\n",
              "      <td>-0.001884</td>\n",
              "    </tr>\n",
              "    <tr>\n",
              "      <th>NUMBER OF PERSONS INJURED</th>\n",
              "      <td>0.028469</td>\n",
              "      <td>1.000000</td>\n",
              "      <td>-0.003390</td>\n",
              "      <td>0.212152</td>\n",
              "      <td>-0.007966</td>\n",
              "      <td>0.162236</td>\n",
              "      <td>-0.005692</td>\n",
              "      <td>0.900313</td>\n",
              "      <td>0.006354</td>\n",
              "    </tr>\n",
              "    <tr>\n",
              "      <th>NUMBER OF PERSONS KILLED</th>\n",
              "      <td>-0.007002</td>\n",
              "      <td>-0.003390</td>\n",
              "      <td>1.000000</td>\n",
              "      <td>-0.002073</td>\n",
              "      <td>0.608834</td>\n",
              "      <td>-0.008515</td>\n",
              "      <td>0.289818</td>\n",
              "      <td>-0.000254</td>\n",
              "      <td>0.717576</td>\n",
              "    </tr>\n",
              "    <tr>\n",
              "      <th>NUMBER OF PEDESTRIANS INJURED</th>\n",
              "      <td>-0.015153</td>\n",
              "      <td>0.212152</td>\n",
              "      <td>-0.002073</td>\n",
              "      <td>1.000000</td>\n",
              "      <td>0.006392</td>\n",
              "      <td>-0.048596</td>\n",
              "      <td>-0.003859</td>\n",
              "      <td>-0.105459</td>\n",
              "      <td>-0.005704</td>\n",
              "    </tr>\n",
              "    <tr>\n",
              "      <th>NUMBER OF PEDESTRIANS KILLED</th>\n",
              "      <td>-0.001960</td>\n",
              "      <td>-0.007966</td>\n",
              "      <td>0.608834</td>\n",
              "      <td>0.006392</td>\n",
              "      <td>1.000000</td>\n",
              "      <td>-0.007653</td>\n",
              "      <td>0.069550</td>\n",
              "      <td>-0.007635</td>\n",
              "      <td>-0.001189</td>\n",
              "    </tr>\n",
              "    <tr>\n",
              "      <th>NUMBER OF CYCLIST INJURED</th>\n",
              "      <td>-0.048145</td>\n",
              "      <td>0.162236</td>\n",
              "      <td>-0.008515</td>\n",
              "      <td>-0.048596</td>\n",
              "      <td>-0.007653</td>\n",
              "      <td>1.000000</td>\n",
              "      <td>0.008111</td>\n",
              "      <td>-0.092909</td>\n",
              "      <td>-0.007424</td>\n",
              "    </tr>\n",
              "    <tr>\n",
              "      <th>NUMBER OF CYCLIST KILLED</th>\n",
              "      <td>-0.008705</td>\n",
              "      <td>-0.005692</td>\n",
              "      <td>0.289818</td>\n",
              "      <td>-0.003859</td>\n",
              "      <td>0.069550</td>\n",
              "      <td>0.008111</td>\n",
              "      <td>1.000000</td>\n",
              "      <td>-0.006564</td>\n",
              "      <td>-0.000499</td>\n",
              "    </tr>\n",
              "    <tr>\n",
              "      <th>NUMBER OF MOTORIST INJURED</th>\n",
              "      <td>0.051651</td>\n",
              "      <td>0.900313</td>\n",
              "      <td>-0.000254</td>\n",
              "      <td>-0.105459</td>\n",
              "      <td>-0.007635</td>\n",
              "      <td>-0.092909</td>\n",
              "      <td>-0.006564</td>\n",
              "      <td>1.000000</td>\n",
              "      <td>0.010113</td>\n",
              "    </tr>\n",
              "    <tr>\n",
              "      <th>NUMBER OF MOTORIST KILLED</th>\n",
              "      <td>-0.001884</td>\n",
              "      <td>0.006354</td>\n",
              "      <td>0.717576</td>\n",
              "      <td>-0.005704</td>\n",
              "      <td>-0.001189</td>\n",
              "      <td>-0.007424</td>\n",
              "      <td>-0.000499</td>\n",
              "      <td>0.010113</td>\n",
              "      <td>1.000000</td>\n",
              "    </tr>\n",
              "  </tbody>\n",
              "</table>\n",
              "</div>\n",
              "    <div class=\"colab-df-buttons\">\n",
              "\n",
              "  <div class=\"colab-df-container\">\n",
              "    <button class=\"colab-df-convert\" onclick=\"convertToInteractive('df-a6480341-835d-4c57-bb80-dcb602bc2e82')\"\n",
              "            title=\"Convert this dataframe to an interactive table.\"\n",
              "            style=\"display:none;\">\n",
              "\n",
              "  <svg xmlns=\"http://www.w3.org/2000/svg\" height=\"24px\" viewBox=\"0 -960 960 960\">\n",
              "    <path d=\"M120-120v-720h720v720H120Zm60-500h600v-160H180v160Zm220 220h160v-160H400v160Zm0 220h160v-160H400v160ZM180-400h160v-160H180v160Zm440 0h160v-160H620v160ZM180-180h160v-160H180v160Zm440 0h160v-160H620v160Z\"/>\n",
              "  </svg>\n",
              "    </button>\n",
              "\n",
              "  <style>\n",
              "    .colab-df-container {\n",
              "      display:flex;\n",
              "      gap: 12px;\n",
              "    }\n",
              "\n",
              "    .colab-df-convert {\n",
              "      background-color: #E8F0FE;\n",
              "      border: none;\n",
              "      border-radius: 50%;\n",
              "      cursor: pointer;\n",
              "      display: none;\n",
              "      fill: #1967D2;\n",
              "      height: 32px;\n",
              "      padding: 0 0 0 0;\n",
              "      width: 32px;\n",
              "    }\n",
              "\n",
              "    .colab-df-convert:hover {\n",
              "      background-color: #E2EBFA;\n",
              "      box-shadow: 0px 1px 2px rgba(60, 64, 67, 0.3), 0px 1px 3px 1px rgba(60, 64, 67, 0.15);\n",
              "      fill: #174EA6;\n",
              "    }\n",
              "\n",
              "    .colab-df-buttons div {\n",
              "      margin-bottom: 4px;\n",
              "    }\n",
              "\n",
              "    [theme=dark] .colab-df-convert {\n",
              "      background-color: #3B4455;\n",
              "      fill: #D2E3FC;\n",
              "    }\n",
              "\n",
              "    [theme=dark] .colab-df-convert:hover {\n",
              "      background-color: #434B5C;\n",
              "      box-shadow: 0px 1px 3px 1px rgba(0, 0, 0, 0.15);\n",
              "      filter: drop-shadow(0px 1px 2px rgba(0, 0, 0, 0.3));\n",
              "      fill: #FFFFFF;\n",
              "    }\n",
              "  </style>\n",
              "\n",
              "    <script>\n",
              "      const buttonEl =\n",
              "        document.querySelector('#df-a6480341-835d-4c57-bb80-dcb602bc2e82 button.colab-df-convert');\n",
              "      buttonEl.style.display =\n",
              "        google.colab.kernel.accessAllowed ? 'block' : 'none';\n",
              "\n",
              "      async function convertToInteractive(key) {\n",
              "        const element = document.querySelector('#df-a6480341-835d-4c57-bb80-dcb602bc2e82');\n",
              "        const dataTable =\n",
              "          await google.colab.kernel.invokeFunction('convertToInteractive',\n",
              "                                                    [key], {});\n",
              "        if (!dataTable) return;\n",
              "\n",
              "        const docLinkHtml = 'Like what you see? Visit the ' +\n",
              "          '<a target=\"_blank\" href=https://colab.research.google.com/notebooks/data_table.ipynb>data table notebook</a>'\n",
              "          + ' to learn more about interactive tables.';\n",
              "        element.innerHTML = '';\n",
              "        dataTable['output_type'] = 'display_data';\n",
              "        await google.colab.output.renderOutput(dataTable, element);\n",
              "        const docLink = document.createElement('div');\n",
              "        docLink.innerHTML = docLinkHtml;\n",
              "        element.appendChild(docLink);\n",
              "      }\n",
              "    </script>\n",
              "  </div>\n",
              "\n",
              "\n",
              "<div id=\"df-4f03202a-7a51-4a29-a78c-a7982e1f8d09\">\n",
              "  <button class=\"colab-df-quickchart\" onclick=\"quickchart('df-4f03202a-7a51-4a29-a78c-a7982e1f8d09')\"\n",
              "            title=\"Suggest charts\"\n",
              "            style=\"display:none;\">\n",
              "\n",
              "<svg xmlns=\"http://www.w3.org/2000/svg\" height=\"24px\"viewBox=\"0 0 24 24\"\n",
              "     width=\"24px\">\n",
              "    <g>\n",
              "        <path d=\"M19 3H5c-1.1 0-2 .9-2 2v14c0 1.1.9 2 2 2h14c1.1 0 2-.9 2-2V5c0-1.1-.9-2-2-2zM9 17H7v-7h2v7zm4 0h-2V7h2v10zm4 0h-2v-4h2v4z\"/>\n",
              "    </g>\n",
              "</svg>\n",
              "  </button>\n",
              "\n",
              "<style>\n",
              "  .colab-df-quickchart {\n",
              "      --bg-color: #E8F0FE;\n",
              "      --fill-color: #1967D2;\n",
              "      --hover-bg-color: #E2EBFA;\n",
              "      --hover-fill-color: #174EA6;\n",
              "      --disabled-fill-color: #AAA;\n",
              "      --disabled-bg-color: #DDD;\n",
              "  }\n",
              "\n",
              "  [theme=dark] .colab-df-quickchart {\n",
              "      --bg-color: #3B4455;\n",
              "      --fill-color: #D2E3FC;\n",
              "      --hover-bg-color: #434B5C;\n",
              "      --hover-fill-color: #FFFFFF;\n",
              "      --disabled-bg-color: #3B4455;\n",
              "      --disabled-fill-color: #666;\n",
              "  }\n",
              "\n",
              "  .colab-df-quickchart {\n",
              "    background-color: var(--bg-color);\n",
              "    border: none;\n",
              "    border-radius: 50%;\n",
              "    cursor: pointer;\n",
              "    display: none;\n",
              "    fill: var(--fill-color);\n",
              "    height: 32px;\n",
              "    padding: 0;\n",
              "    width: 32px;\n",
              "  }\n",
              "\n",
              "  .colab-df-quickchart:hover {\n",
              "    background-color: var(--hover-bg-color);\n",
              "    box-shadow: 0 1px 2px rgba(60, 64, 67, 0.3), 0 1px 3px 1px rgba(60, 64, 67, 0.15);\n",
              "    fill: var(--button-hover-fill-color);\n",
              "  }\n",
              "\n",
              "  .colab-df-quickchart-complete:disabled,\n",
              "  .colab-df-quickchart-complete:disabled:hover {\n",
              "    background-color: var(--disabled-bg-color);\n",
              "    fill: var(--disabled-fill-color);\n",
              "    box-shadow: none;\n",
              "  }\n",
              "\n",
              "  .colab-df-spinner {\n",
              "    border: 2px solid var(--fill-color);\n",
              "    border-color: transparent;\n",
              "    border-bottom-color: var(--fill-color);\n",
              "    animation:\n",
              "      spin 1s steps(1) infinite;\n",
              "  }\n",
              "\n",
              "  @keyframes spin {\n",
              "    0% {\n",
              "      border-color: transparent;\n",
              "      border-bottom-color: var(--fill-color);\n",
              "      border-left-color: var(--fill-color);\n",
              "    }\n",
              "    20% {\n",
              "      border-color: transparent;\n",
              "      border-left-color: var(--fill-color);\n",
              "      border-top-color: var(--fill-color);\n",
              "    }\n",
              "    30% {\n",
              "      border-color: transparent;\n",
              "      border-left-color: var(--fill-color);\n",
              "      border-top-color: var(--fill-color);\n",
              "      border-right-color: var(--fill-color);\n",
              "    }\n",
              "    40% {\n",
              "      border-color: transparent;\n",
              "      border-right-color: var(--fill-color);\n",
              "      border-top-color: var(--fill-color);\n",
              "    }\n",
              "    60% {\n",
              "      border-color: transparent;\n",
              "      border-right-color: var(--fill-color);\n",
              "    }\n",
              "    80% {\n",
              "      border-color: transparent;\n",
              "      border-right-color: var(--fill-color);\n",
              "      border-bottom-color: var(--fill-color);\n",
              "    }\n",
              "    90% {\n",
              "      border-color: transparent;\n",
              "      border-bottom-color: var(--fill-color);\n",
              "    }\n",
              "  }\n",
              "</style>\n",
              "\n",
              "  <script>\n",
              "    async function quickchart(key) {\n",
              "      const quickchartButtonEl =\n",
              "        document.querySelector('#' + key + ' button');\n",
              "      quickchartButtonEl.disabled = true;  // To prevent multiple clicks.\n",
              "      quickchartButtonEl.classList.add('colab-df-spinner');\n",
              "      try {\n",
              "        const charts = await google.colab.kernel.invokeFunction(\n",
              "            'suggestCharts', [key], {});\n",
              "      } catch (error) {\n",
              "        console.error('Error during call to suggestCharts:', error);\n",
              "      }\n",
              "      quickchartButtonEl.classList.remove('colab-df-spinner');\n",
              "      quickchartButtonEl.classList.add('colab-df-quickchart-complete');\n",
              "    }\n",
              "    (() => {\n",
              "      let quickchartButtonEl =\n",
              "        document.querySelector('#df-4f03202a-7a51-4a29-a78c-a7982e1f8d09 button');\n",
              "      quickchartButtonEl.style.display =\n",
              "        google.colab.kernel.accessAllowed ? 'block' : 'none';\n",
              "    })();\n",
              "  </script>\n",
              "</div>\n",
              "\n",
              "  <div id=\"id_e2509b1d-a5da-4e04-95f5-69c5f7c60090\">\n",
              "    <style>\n",
              "      .colab-df-generate {\n",
              "        background-color: #E8F0FE;\n",
              "        border: none;\n",
              "        border-radius: 50%;\n",
              "        cursor: pointer;\n",
              "        display: none;\n",
              "        fill: #1967D2;\n",
              "        height: 32px;\n",
              "        padding: 0 0 0 0;\n",
              "        width: 32px;\n",
              "      }\n",
              "\n",
              "      .colab-df-generate:hover {\n",
              "        background-color: #E2EBFA;\n",
              "        box-shadow: 0px 1px 2px rgba(60, 64, 67, 0.3), 0px 1px 3px 1px rgba(60, 64, 67, 0.15);\n",
              "        fill: #174EA6;\n",
              "      }\n",
              "\n",
              "      [theme=dark] .colab-df-generate {\n",
              "        background-color: #3B4455;\n",
              "        fill: #D2E3FC;\n",
              "      }\n",
              "\n",
              "      [theme=dark] .colab-df-generate:hover {\n",
              "        background-color: #434B5C;\n",
              "        box-shadow: 0px 1px 3px 1px rgba(0, 0, 0, 0.15);\n",
              "        filter: drop-shadow(0px 1px 2px rgba(0, 0, 0, 0.3));\n",
              "        fill: #FFFFFF;\n",
              "      }\n",
              "    </style>\n",
              "    <button class=\"colab-df-generate\" onclick=\"generateWithVariable('corr')\"\n",
              "            title=\"Generate code using this dataframe.\"\n",
              "            style=\"display:none;\">\n",
              "\n",
              "  <svg xmlns=\"http://www.w3.org/2000/svg\" height=\"24px\"viewBox=\"0 0 24 24\"\n",
              "       width=\"24px\">\n",
              "    <path d=\"M7,19H8.4L18.45,9,17,7.55,7,17.6ZM5,21V16.75L18.45,3.32a2,2,0,0,1,2.83,0l1.4,1.43a1.91,1.91,0,0,1,.58,1.4,1.91,1.91,0,0,1-.58,1.4L9.25,21ZM18.45,9,17,7.55Zm-12,3A5.31,5.31,0,0,0,4.9,8.1,5.31,5.31,0,0,0,1,6.5,5.31,5.31,0,0,0,4.9,4.9,5.31,5.31,0,0,0,6.5,1,5.31,5.31,0,0,0,8.1,4.9,5.31,5.31,0,0,0,12,6.5,5.46,5.46,0,0,0,6.5,12Z\"/>\n",
              "  </svg>\n",
              "    </button>\n",
              "    <script>\n",
              "      (() => {\n",
              "      const buttonEl =\n",
              "        document.querySelector('#id_e2509b1d-a5da-4e04-95f5-69c5f7c60090 button.colab-df-generate');\n",
              "      buttonEl.style.display =\n",
              "        google.colab.kernel.accessAllowed ? 'block' : 'none';\n",
              "\n",
              "      buttonEl.onclick = () => {\n",
              "        google.colab.notebook.generateWithVariable('corr');\n",
              "      }\n",
              "      })();\n",
              "    </script>\n",
              "  </div>\n",
              "\n",
              "    </div>\n",
              "  </div>\n"
            ],
            "application/vnd.google.colaboratory.intrinsic+json": {
              "type": "dataframe",
              "variable_name": "corr",
              "summary": "{\n  \"name\": \"corr\",\n  \"rows\": 9,\n  \"fields\": [\n    {\n      \"column\": \"ZIP CODE\",\n      \"properties\": {\n        \"dtype\": \"number\",\n        \"std\": 0.33459909925333686,\n        \"min\": -0.048144715251466366,\n        \"max\": 1.0,\n        \"num_unique_values\": 9,\n        \"samples\": [\n          0.05165105249992315,\n          0.028469053329854617,\n          -0.048144715251466366\n        ],\n        \"semantic_type\": \"\",\n        \"description\": \"\"\n      }\n    },\n    {\n      \"column\": \"NUMBER OF PERSONS INJURED\",\n      \"properties\": {\n        \"dtype\": \"number\",\n        \"std\": 0.40294427190243215,\n        \"min\": -0.007966279625792938,\n        \"max\": 1.0,\n        \"num_unique_values\": 9,\n        \"samples\": [\n          0.9003127389911093,\n          1.0,\n          0.16223564845109667\n        ],\n        \"semantic_type\": \"\",\n        \"description\": \"\"\n      }\n    },\n    {\n      \"column\": \"NUMBER OF PERSONS KILLED\",\n      \"properties\": {\n        \"dtype\": \"number\",\n        \"std\": 0.3907532471559244,\n        \"min\": -0.008515402841187293,\n        \"max\": 1.0,\n        \"num_unique_values\": 9,\n        \"samples\": [\n          -0.0002538187024032915,\n          -0.0033904777819408825,\n          -0.008515402841187293\n        ],\n        \"semantic_type\": \"\",\n        \"description\": \"\"\n      }\n    },\n    {\n      \"column\": \"NUMBER OF PEDESTRIANS INJURED\",\n      \"properties\": {\n        \"dtype\": \"number\",\n        \"std\": 0.3426308628245811,\n        \"min\": -0.10545941895988294,\n        \"max\": 1.0,\n        \"num_unique_values\": 9,\n        \"samples\": [\n          -0.10545941895988294,\n          0.21215232375419846,\n          -0.048596309901223586\n        ],\n        \"semantic_type\": \"\",\n        \"description\": \"\"\n      }\n    },\n    {\n      \"column\": \"NUMBER OF PEDESTRIANS KILLED\",\n      \"properties\": {\n        \"dtype\": \"number\",\n        \"std\": 0.36574658926548304,\n        \"min\": -0.007966279625792938,\n        \"max\": 1.0,\n        \"num_unique_values\": 9,\n        \"samples\": [\n          -0.0076352816840526945,\n          -0.007966279625792938,\n          -0.007652903168509162\n        ],\n        \"semantic_type\": \"\",\n        \"description\": \"\"\n      }\n    },\n    {\n      \"column\": \"NUMBER OF CYCLIST INJURED\",\n      \"properties\": {\n        \"dtype\": \"number\",\n        \"std\": 0.342436268634875,\n        \"min\": -0.09290905809288309,\n        \"max\": 1.0,\n        \"num_unique_values\": 9,\n        \"samples\": [\n          -0.09290905809288309,\n          0.16223564845109667,\n          1.0\n        ],\n        \"semantic_type\": \"\",\n        \"description\": \"\"\n      }\n    },\n    {\n      \"column\": \"NUMBER OF CYCLIST KILLED\",\n      \"properties\": {\n        \"dtype\": \"number\",\n        \"std\": 0.33333709898881936,\n        \"min\": -0.008704652443205282,\n        \"max\": 1.0,\n        \"num_unique_values\": 9,\n        \"samples\": [\n          -0.006563585658269451,\n          -0.005692425171070462,\n          0.008111356959088607\n        ],\n        \"semantic_type\": \"\",\n        \"description\": \"\"\n      }\n    },\n    {\n      \"column\": \"NUMBER OF MOTORIST INJURED\",\n      \"properties\": {\n        \"dtype\": \"number\",\n        \"std\": 0.43203008452816943,\n        \"min\": -0.10545941895988294,\n        \"max\": 1.0,\n        \"num_unique_values\": 9,\n        \"samples\": [\n          1.0,\n          0.9003127389911093,\n          -0.09290905809288309\n        ],\n        \"semantic_type\": \"\",\n        \"description\": \"\"\n      }\n    },\n    {\n      \"column\": \"NUMBER OF MOTORIST KILLED\",\n      \"properties\": {\n        \"dtype\": \"number\",\n        \"std\": 0.38526852822255025,\n        \"min\": -0.007424139100823611,\n        \"max\": 1.0,\n        \"num_unique_values\": 9,\n        \"samples\": [\n          0.010113118637194744,\n          0.006353652847182302,\n          -0.007424139100823611\n        ],\n        \"semantic_type\": \"\",\n        \"description\": \"\"\n      }\n    }\n  ]\n}"
            }
          },
          "metadata": {},
          "execution_count": 14
        }
      ]
    },
    {
      "cell_type": "markdown",
      "source": [
        "##### Relation between columns\n",
        "       no of persons injured - no of motorist injured ---> 0.9\n",
        "\n",
        "      no of persons killed - no of pedestrains killed ---> 0.68\n",
        "                             no of motorist killed ---> 0.66\n",
        "                             no of cyclist killed --->0.27"
      ],
      "metadata": {
        "id": "ezGFkPx5soAA"
      }
    },
    {
      "cell_type": "code",
      "source": [
        "df.head()"
      ],
      "metadata": {
        "execution": {
          "iopub.status.busy": "2024-04-19T12:44:21.817571Z",
          "iopub.execute_input": "2024-04-19T12:44:21.817899Z",
          "iopub.status.idle": "2024-04-19T12:44:21.841653Z",
          "shell.execute_reply.started": "2024-04-19T12:44:21.817871Z",
          "shell.execute_reply": "2024-04-19T12:44:21.840377Z"
        },
        "trusted": true,
        "id": "Z8A5TwPcsoAA",
        "outputId": "8bdbf89a-3835-47e9-873a-183df321f834",
        "colab": {
          "base_uri": "https://localhost:8080/",
          "height": 382
        }
      },
      "execution_count": 15,
      "outputs": [
        {
          "output_type": "execute_result",
          "data": {
            "text/plain": [
              "   CRASH DATE CRASH TIME   BOROUGH  ZIP CODE           ON STREET NAME  \\\n",
              "0  09/11/2021       2:39       NaN       NaN    WHITESTONE EXPRESSWAY   \n",
              "1  03/26/2022      11:45       NaN       NaN  QUEENSBORO BRIDGE UPPER   \n",
              "2  06/29/2022       6:55       NaN       NaN       THROGS NECK BRIDGE   \n",
              "3  09/11/2021       9:35  BROOKLYN   11208.0                      NaN   \n",
              "4  12/14/2021       8:13  BROOKLYN   11233.0          SARATOGA AVENUE   \n",
              "\n",
              "  CROSS STREET NAME  NUMBER OF PERSONS INJURED  NUMBER OF PERSONS KILLED  \\\n",
              "0         20 AVENUE                        2.0                       0.0   \n",
              "1               NaN                        1.0                       0.0   \n",
              "2               NaN                        0.0                       0.0   \n",
              "3               NaN                        0.0                       0.0   \n",
              "4    DECATUR STREET                        0.0                       0.0   \n",
              "\n",
              "   NUMBER OF PEDESTRIANS INJURED  NUMBER OF PEDESTRIANS KILLED  \\\n",
              "0                            0.0                           0.0   \n",
              "1                            0.0                           0.0   \n",
              "2                            0.0                           0.0   \n",
              "3                            0.0                           0.0   \n",
              "4                            0.0                           0.0   \n",
              "\n",
              "   NUMBER OF CYCLIST INJURED  NUMBER OF CYCLIST KILLED  \\\n",
              "0                        0.0                       0.0   \n",
              "1                        0.0                       0.0   \n",
              "2                        0.0                       0.0   \n",
              "3                        0.0                       0.0   \n",
              "4                        0.0                       0.0   \n",
              "\n",
              "   NUMBER OF MOTORIST INJURED  NUMBER OF MOTORIST KILLED  \\\n",
              "0                         2.0                        0.0   \n",
              "1                         1.0                        0.0   \n",
              "2                         0.0                        0.0   \n",
              "3                         0.0                        0.0   \n",
              "4                         0.0                        0.0   \n",
              "\n",
              "  CONTRIBUTING FACTOR VEHICLE 1 CONTRIBUTING FACTOR VEHICLE 2  \\\n",
              "0  Aggressive Driving/Road Rage                   Unspecified   \n",
              "1             Pavement Slippery                           NaN   \n",
              "2         Following Too Closely                   Unspecified   \n",
              "3                   Unspecified                           NaN   \n",
              "4                           NaN                           NaN   \n",
              "\n",
              "  VEHICLE TYPE CODE 1 VEHICLE TYPE CODE 2  \n",
              "0               Sedan               Sedan  \n",
              "1               Sedan                 NaN  \n",
              "2               Sedan       Pick-up Truck  \n",
              "3               Sedan                 NaN  \n",
              "4                 NaN                 NaN  "
            ],
            "text/html": [
              "\n",
              "  <div id=\"df-98da942c-a113-4ce6-ae12-39d6cf8bd425\" class=\"colab-df-container\">\n",
              "    <div>\n",
              "<style scoped>\n",
              "    .dataframe tbody tr th:only-of-type {\n",
              "        vertical-align: middle;\n",
              "    }\n",
              "\n",
              "    .dataframe tbody tr th {\n",
              "        vertical-align: top;\n",
              "    }\n",
              "\n",
              "    .dataframe thead th {\n",
              "        text-align: right;\n",
              "    }\n",
              "</style>\n",
              "<table border=\"1\" class=\"dataframe\">\n",
              "  <thead>\n",
              "    <tr style=\"text-align: right;\">\n",
              "      <th></th>\n",
              "      <th>CRASH DATE</th>\n",
              "      <th>CRASH TIME</th>\n",
              "      <th>BOROUGH</th>\n",
              "      <th>ZIP CODE</th>\n",
              "      <th>ON STREET NAME</th>\n",
              "      <th>CROSS STREET NAME</th>\n",
              "      <th>NUMBER OF PERSONS INJURED</th>\n",
              "      <th>NUMBER OF PERSONS KILLED</th>\n",
              "      <th>NUMBER OF PEDESTRIANS INJURED</th>\n",
              "      <th>NUMBER OF PEDESTRIANS KILLED</th>\n",
              "      <th>NUMBER OF CYCLIST INJURED</th>\n",
              "      <th>NUMBER OF CYCLIST KILLED</th>\n",
              "      <th>NUMBER OF MOTORIST INJURED</th>\n",
              "      <th>NUMBER OF MOTORIST KILLED</th>\n",
              "      <th>CONTRIBUTING FACTOR VEHICLE 1</th>\n",
              "      <th>CONTRIBUTING FACTOR VEHICLE 2</th>\n",
              "      <th>VEHICLE TYPE CODE 1</th>\n",
              "      <th>VEHICLE TYPE CODE 2</th>\n",
              "    </tr>\n",
              "  </thead>\n",
              "  <tbody>\n",
              "    <tr>\n",
              "      <th>0</th>\n",
              "      <td>09/11/2021</td>\n",
              "      <td>2:39</td>\n",
              "      <td>NaN</td>\n",
              "      <td>NaN</td>\n",
              "      <td>WHITESTONE EXPRESSWAY</td>\n",
              "      <td>20 AVENUE</td>\n",
              "      <td>2.0</td>\n",
              "      <td>0.0</td>\n",
              "      <td>0.0</td>\n",
              "      <td>0.0</td>\n",
              "      <td>0.0</td>\n",
              "      <td>0.0</td>\n",
              "      <td>2.0</td>\n",
              "      <td>0.0</td>\n",
              "      <td>Aggressive Driving/Road Rage</td>\n",
              "      <td>Unspecified</td>\n",
              "      <td>Sedan</td>\n",
              "      <td>Sedan</td>\n",
              "    </tr>\n",
              "    <tr>\n",
              "      <th>1</th>\n",
              "      <td>03/26/2022</td>\n",
              "      <td>11:45</td>\n",
              "      <td>NaN</td>\n",
              "      <td>NaN</td>\n",
              "      <td>QUEENSBORO BRIDGE UPPER</td>\n",
              "      <td>NaN</td>\n",
              "      <td>1.0</td>\n",
              "      <td>0.0</td>\n",
              "      <td>0.0</td>\n",
              "      <td>0.0</td>\n",
              "      <td>0.0</td>\n",
              "      <td>0.0</td>\n",
              "      <td>1.0</td>\n",
              "      <td>0.0</td>\n",
              "      <td>Pavement Slippery</td>\n",
              "      <td>NaN</td>\n",
              "      <td>Sedan</td>\n",
              "      <td>NaN</td>\n",
              "    </tr>\n",
              "    <tr>\n",
              "      <th>2</th>\n",
              "      <td>06/29/2022</td>\n",
              "      <td>6:55</td>\n",
              "      <td>NaN</td>\n",
              "      <td>NaN</td>\n",
              "      <td>THROGS NECK BRIDGE</td>\n",
              "      <td>NaN</td>\n",
              "      <td>0.0</td>\n",
              "      <td>0.0</td>\n",
              "      <td>0.0</td>\n",
              "      <td>0.0</td>\n",
              "      <td>0.0</td>\n",
              "      <td>0.0</td>\n",
              "      <td>0.0</td>\n",
              "      <td>0.0</td>\n",
              "      <td>Following Too Closely</td>\n",
              "      <td>Unspecified</td>\n",
              "      <td>Sedan</td>\n",
              "      <td>Pick-up Truck</td>\n",
              "    </tr>\n",
              "    <tr>\n",
              "      <th>3</th>\n",
              "      <td>09/11/2021</td>\n",
              "      <td>9:35</td>\n",
              "      <td>BROOKLYN</td>\n",
              "      <td>11208.0</td>\n",
              "      <td>NaN</td>\n",
              "      <td>NaN</td>\n",
              "      <td>0.0</td>\n",
              "      <td>0.0</td>\n",
              "      <td>0.0</td>\n",
              "      <td>0.0</td>\n",
              "      <td>0.0</td>\n",
              "      <td>0.0</td>\n",
              "      <td>0.0</td>\n",
              "      <td>0.0</td>\n",
              "      <td>Unspecified</td>\n",
              "      <td>NaN</td>\n",
              "      <td>Sedan</td>\n",
              "      <td>NaN</td>\n",
              "    </tr>\n",
              "    <tr>\n",
              "      <th>4</th>\n",
              "      <td>12/14/2021</td>\n",
              "      <td>8:13</td>\n",
              "      <td>BROOKLYN</td>\n",
              "      <td>11233.0</td>\n",
              "      <td>SARATOGA AVENUE</td>\n",
              "      <td>DECATUR STREET</td>\n",
              "      <td>0.0</td>\n",
              "      <td>0.0</td>\n",
              "      <td>0.0</td>\n",
              "      <td>0.0</td>\n",
              "      <td>0.0</td>\n",
              "      <td>0.0</td>\n",
              "      <td>0.0</td>\n",
              "      <td>0.0</td>\n",
              "      <td>NaN</td>\n",
              "      <td>NaN</td>\n",
              "      <td>NaN</td>\n",
              "      <td>NaN</td>\n",
              "    </tr>\n",
              "  </tbody>\n",
              "</table>\n",
              "</div>\n",
              "    <div class=\"colab-df-buttons\">\n",
              "\n",
              "  <div class=\"colab-df-container\">\n",
              "    <button class=\"colab-df-convert\" onclick=\"convertToInteractive('df-98da942c-a113-4ce6-ae12-39d6cf8bd425')\"\n",
              "            title=\"Convert this dataframe to an interactive table.\"\n",
              "            style=\"display:none;\">\n",
              "\n",
              "  <svg xmlns=\"http://www.w3.org/2000/svg\" height=\"24px\" viewBox=\"0 -960 960 960\">\n",
              "    <path d=\"M120-120v-720h720v720H120Zm60-500h600v-160H180v160Zm220 220h160v-160H400v160Zm0 220h160v-160H400v160ZM180-400h160v-160H180v160Zm440 0h160v-160H620v160ZM180-180h160v-160H180v160Zm440 0h160v-160H620v160Z\"/>\n",
              "  </svg>\n",
              "    </button>\n",
              "\n",
              "  <style>\n",
              "    .colab-df-container {\n",
              "      display:flex;\n",
              "      gap: 12px;\n",
              "    }\n",
              "\n",
              "    .colab-df-convert {\n",
              "      background-color: #E8F0FE;\n",
              "      border: none;\n",
              "      border-radius: 50%;\n",
              "      cursor: pointer;\n",
              "      display: none;\n",
              "      fill: #1967D2;\n",
              "      height: 32px;\n",
              "      padding: 0 0 0 0;\n",
              "      width: 32px;\n",
              "    }\n",
              "\n",
              "    .colab-df-convert:hover {\n",
              "      background-color: #E2EBFA;\n",
              "      box-shadow: 0px 1px 2px rgba(60, 64, 67, 0.3), 0px 1px 3px 1px rgba(60, 64, 67, 0.15);\n",
              "      fill: #174EA6;\n",
              "    }\n",
              "\n",
              "    .colab-df-buttons div {\n",
              "      margin-bottom: 4px;\n",
              "    }\n",
              "\n",
              "    [theme=dark] .colab-df-convert {\n",
              "      background-color: #3B4455;\n",
              "      fill: #D2E3FC;\n",
              "    }\n",
              "\n",
              "    [theme=dark] .colab-df-convert:hover {\n",
              "      background-color: #434B5C;\n",
              "      box-shadow: 0px 1px 3px 1px rgba(0, 0, 0, 0.15);\n",
              "      filter: drop-shadow(0px 1px 2px rgba(0, 0, 0, 0.3));\n",
              "      fill: #FFFFFF;\n",
              "    }\n",
              "  </style>\n",
              "\n",
              "    <script>\n",
              "      const buttonEl =\n",
              "        document.querySelector('#df-98da942c-a113-4ce6-ae12-39d6cf8bd425 button.colab-df-convert');\n",
              "      buttonEl.style.display =\n",
              "        google.colab.kernel.accessAllowed ? 'block' : 'none';\n",
              "\n",
              "      async function convertToInteractive(key) {\n",
              "        const element = document.querySelector('#df-98da942c-a113-4ce6-ae12-39d6cf8bd425');\n",
              "        const dataTable =\n",
              "          await google.colab.kernel.invokeFunction('convertToInteractive',\n",
              "                                                    [key], {});\n",
              "        if (!dataTable) return;\n",
              "\n",
              "        const docLinkHtml = 'Like what you see? Visit the ' +\n",
              "          '<a target=\"_blank\" href=https://colab.research.google.com/notebooks/data_table.ipynb>data table notebook</a>'\n",
              "          + ' to learn more about interactive tables.';\n",
              "        element.innerHTML = '';\n",
              "        dataTable['output_type'] = 'display_data';\n",
              "        await google.colab.output.renderOutput(dataTable, element);\n",
              "        const docLink = document.createElement('div');\n",
              "        docLink.innerHTML = docLinkHtml;\n",
              "        element.appendChild(docLink);\n",
              "      }\n",
              "    </script>\n",
              "  </div>\n",
              "\n",
              "\n",
              "<div id=\"df-5c2833f8-a1d5-47ac-ab87-bb3a919fc4a5\">\n",
              "  <button class=\"colab-df-quickchart\" onclick=\"quickchart('df-5c2833f8-a1d5-47ac-ab87-bb3a919fc4a5')\"\n",
              "            title=\"Suggest charts\"\n",
              "            style=\"display:none;\">\n",
              "\n",
              "<svg xmlns=\"http://www.w3.org/2000/svg\" height=\"24px\"viewBox=\"0 0 24 24\"\n",
              "     width=\"24px\">\n",
              "    <g>\n",
              "        <path d=\"M19 3H5c-1.1 0-2 .9-2 2v14c0 1.1.9 2 2 2h14c1.1 0 2-.9 2-2V5c0-1.1-.9-2-2-2zM9 17H7v-7h2v7zm4 0h-2V7h2v10zm4 0h-2v-4h2v4z\"/>\n",
              "    </g>\n",
              "</svg>\n",
              "  </button>\n",
              "\n",
              "<style>\n",
              "  .colab-df-quickchart {\n",
              "      --bg-color: #E8F0FE;\n",
              "      --fill-color: #1967D2;\n",
              "      --hover-bg-color: #E2EBFA;\n",
              "      --hover-fill-color: #174EA6;\n",
              "      --disabled-fill-color: #AAA;\n",
              "      --disabled-bg-color: #DDD;\n",
              "  }\n",
              "\n",
              "  [theme=dark] .colab-df-quickchart {\n",
              "      --bg-color: #3B4455;\n",
              "      --fill-color: #D2E3FC;\n",
              "      --hover-bg-color: #434B5C;\n",
              "      --hover-fill-color: #FFFFFF;\n",
              "      --disabled-bg-color: #3B4455;\n",
              "      --disabled-fill-color: #666;\n",
              "  }\n",
              "\n",
              "  .colab-df-quickchart {\n",
              "    background-color: var(--bg-color);\n",
              "    border: none;\n",
              "    border-radius: 50%;\n",
              "    cursor: pointer;\n",
              "    display: none;\n",
              "    fill: var(--fill-color);\n",
              "    height: 32px;\n",
              "    padding: 0;\n",
              "    width: 32px;\n",
              "  }\n",
              "\n",
              "  .colab-df-quickchart:hover {\n",
              "    background-color: var(--hover-bg-color);\n",
              "    box-shadow: 0 1px 2px rgba(60, 64, 67, 0.3), 0 1px 3px 1px rgba(60, 64, 67, 0.15);\n",
              "    fill: var(--button-hover-fill-color);\n",
              "  }\n",
              "\n",
              "  .colab-df-quickchart-complete:disabled,\n",
              "  .colab-df-quickchart-complete:disabled:hover {\n",
              "    background-color: var(--disabled-bg-color);\n",
              "    fill: var(--disabled-fill-color);\n",
              "    box-shadow: none;\n",
              "  }\n",
              "\n",
              "  .colab-df-spinner {\n",
              "    border: 2px solid var(--fill-color);\n",
              "    border-color: transparent;\n",
              "    border-bottom-color: var(--fill-color);\n",
              "    animation:\n",
              "      spin 1s steps(1) infinite;\n",
              "  }\n",
              "\n",
              "  @keyframes spin {\n",
              "    0% {\n",
              "      border-color: transparent;\n",
              "      border-bottom-color: var(--fill-color);\n",
              "      border-left-color: var(--fill-color);\n",
              "    }\n",
              "    20% {\n",
              "      border-color: transparent;\n",
              "      border-left-color: var(--fill-color);\n",
              "      border-top-color: var(--fill-color);\n",
              "    }\n",
              "    30% {\n",
              "      border-color: transparent;\n",
              "      border-left-color: var(--fill-color);\n",
              "      border-top-color: var(--fill-color);\n",
              "      border-right-color: var(--fill-color);\n",
              "    }\n",
              "    40% {\n",
              "      border-color: transparent;\n",
              "      border-right-color: var(--fill-color);\n",
              "      border-top-color: var(--fill-color);\n",
              "    }\n",
              "    60% {\n",
              "      border-color: transparent;\n",
              "      border-right-color: var(--fill-color);\n",
              "    }\n",
              "    80% {\n",
              "      border-color: transparent;\n",
              "      border-right-color: var(--fill-color);\n",
              "      border-bottom-color: var(--fill-color);\n",
              "    }\n",
              "    90% {\n",
              "      border-color: transparent;\n",
              "      border-bottom-color: var(--fill-color);\n",
              "    }\n",
              "  }\n",
              "</style>\n",
              "\n",
              "  <script>\n",
              "    async function quickchart(key) {\n",
              "      const quickchartButtonEl =\n",
              "        document.querySelector('#' + key + ' button');\n",
              "      quickchartButtonEl.disabled = true;  // To prevent multiple clicks.\n",
              "      quickchartButtonEl.classList.add('colab-df-spinner');\n",
              "      try {\n",
              "        const charts = await google.colab.kernel.invokeFunction(\n",
              "            'suggestCharts', [key], {});\n",
              "      } catch (error) {\n",
              "        console.error('Error during call to suggestCharts:', error);\n",
              "      }\n",
              "      quickchartButtonEl.classList.remove('colab-df-spinner');\n",
              "      quickchartButtonEl.classList.add('colab-df-quickchart-complete');\n",
              "    }\n",
              "    (() => {\n",
              "      let quickchartButtonEl =\n",
              "        document.querySelector('#df-5c2833f8-a1d5-47ac-ab87-bb3a919fc4a5 button');\n",
              "      quickchartButtonEl.style.display =\n",
              "        google.colab.kernel.accessAllowed ? 'block' : 'none';\n",
              "    })();\n",
              "  </script>\n",
              "</div>\n",
              "\n",
              "    </div>\n",
              "  </div>\n"
            ],
            "application/vnd.google.colaboratory.intrinsic+json": {
              "type": "dataframe",
              "variable_name": "df",
              "summary": "{\n  \"name\": \"df\",\n  \"rows\": 27787,\n  \"fields\": [\n    {\n      \"column\": \"CRASH DATE\",\n      \"properties\": {\n        \"dtype\": \"object\",\n        \"num_unique_values\": 398,\n        \"samples\": [\n          \"03/01/2022\",\n          \"11/03/2023\",\n          \"02/25/2022\"\n        ],\n        \"semantic_type\": \"\",\n        \"description\": \"\"\n      }\n    },\n    {\n      \"column\": \"CRASH TIME\",\n      \"properties\": {\n        \"dtype\": \"object\",\n        \"num_unique_values\": 1434,\n        \"samples\": [\n          \"16:58\",\n          \"0:45\",\n          \"4:06\"\n        ],\n        \"semantic_type\": \"\",\n        \"description\": \"\"\n      }\n    },\n    {\n      \"column\": \"BOROUGH\",\n      \"properties\": {\n        \"dtype\": \"category\",\n        \"num_unique_values\": 5,\n        \"samples\": [\n          \"BRONX\",\n          \"STATEN ISLAND\",\n          \"MANHATTAN\"\n        ],\n        \"semantic_type\": \"\",\n        \"description\": \"\"\n      }\n    },\n    {\n      \"column\": \"ZIP CODE\",\n      \"properties\": {\n        \"dtype\": \"number\",\n        \"std\": 523.5463130239525,\n        \"min\": 10000.0,\n        \"max\": 11697.0,\n        \"num_unique_values\": 190,\n        \"samples\": [\n          11359.0,\n          10119.0,\n          10029.0\n        ],\n        \"semantic_type\": \"\",\n        \"description\": \"\"\n      }\n    },\n    {\n      \"column\": \"ON STREET NAME\",\n      \"properties\": {\n        \"dtype\": \"category\",\n        \"num_unique_values\": 2819,\n        \"samples\": [\n          \"114 PLACE\",\n          \"CRAWFORD AVENUE\",\n          \"LEGGETT AVENUE\"\n        ],\n        \"semantic_type\": \"\",\n        \"description\": \"\"\n      }\n    },\n    {\n      \"column\": \"CROSS STREET NAME\",\n      \"properties\": {\n        \"dtype\": \"category\",\n        \"num_unique_values\": 3040,\n        \"samples\": [\n          \"WATKINS STREET\",\n          \"171 PLACE\",\n          \"89 STREET\"\n        ],\n        \"semantic_type\": \"\",\n        \"description\": \"\"\n      }\n    },\n    {\n      \"column\": \"NUMBER OF PERSONS INJURED\",\n      \"properties\": {\n        \"dtype\": \"number\",\n        \"std\": 0.7978760349389279,\n        \"min\": 0.0,\n        \"max\": 18.0,\n        \"num_unique_values\": 11,\n        \"samples\": [\n          5.0,\n          2.0,\n          18.0\n        ],\n        \"semantic_type\": \"\",\n        \"description\": \"\"\n      }\n    },\n    {\n      \"column\": \"NUMBER OF PERSONS KILLED\",\n      \"properties\": {\n        \"dtype\": \"number\",\n        \"std\": 0.059006219333102884,\n        \"min\": 0.0,\n        \"max\": 3.0,\n        \"num_unique_values\": 4,\n        \"samples\": [\n          1.0,\n          3.0,\n          0.0\n        ],\n        \"semantic_type\": \"\",\n        \"description\": \"\"\n      }\n    },\n    {\n      \"column\": \"NUMBER OF PEDESTRIANS INJURED\",\n      \"properties\": {\n        \"dtype\": \"number\",\n        \"std\": 0.2642532863323879,\n        \"min\": 0.0,\n        \"max\": 3.0,\n        \"num_unique_values\": 4,\n        \"samples\": [\n          1.0,\n          3.0,\n          0.0\n        ],\n        \"semantic_type\": \"\",\n        \"description\": \"\"\n      }\n    },\n    {\n      \"column\": \"NUMBER OF PEDESTRIANS KILLED\",\n      \"properties\": {\n        \"dtype\": \"number\",\n        \"std\": 0.034959755424760014,\n        \"min\": 0.0,\n        \"max\": 1.0,\n        \"num_unique_values\": 2,\n        \"samples\": [\n          1.0,\n          0.0\n        ],\n        \"semantic_type\": \"\",\n        \"description\": \"\"\n      }\n    },\n    {\n      \"column\": \"NUMBER OF CYCLIST INJURED\",\n      \"properties\": {\n        \"dtype\": \"number\",\n        \"std\": 0.21629338917775798,\n        \"min\": 0.0,\n        \"max\": 3.0,\n        \"num_unique_values\": 4,\n        \"samples\": [\n          1.0,\n          3.0\n        ],\n        \"semantic_type\": \"\",\n        \"description\": \"\"\n      }\n    },\n    {\n      \"column\": \"NUMBER OF CYCLIST KILLED\",\n      \"properties\": {\n        \"dtype\": \"number\",\n        \"std\": 0.01469344154810956,\n        \"min\": 0.0,\n        \"max\": 1.0,\n        \"num_unique_values\": 2,\n        \"samples\": [\n          1.0,\n          0.0\n        ],\n        \"semantic_type\": \"\",\n        \"description\": \"\"\n      }\n    },\n    {\n      \"column\": \"NUMBER OF MOTORIST INJURED\",\n      \"properties\": {\n        \"dtype\": \"number\",\n        \"std\": 0.7723999696925185,\n        \"min\": 0.0,\n        \"max\": 18.0,\n        \"num_unique_values\": 11,\n        \"samples\": [\n          5.0,\n          2.0\n        ],\n        \"semantic_type\": \"\",\n        \"description\": \"\"\n      }\n    },\n    {\n      \"column\": \"NUMBER OF MOTORIST KILLED\",\n      \"properties\": {\n        \"dtype\": \"number\",\n        \"std\": 0.04239645827293491,\n        \"min\": 0.0,\n        \"max\": 3.0,\n        \"num_unique_values\": 4,\n        \"samples\": [\n          1.0,\n          3.0\n        ],\n        \"semantic_type\": \"\",\n        \"description\": \"\"\n      }\n    },\n    {\n      \"column\": \"CONTRIBUTING FACTOR VEHICLE 1\",\n      \"properties\": {\n        \"dtype\": \"category\",\n        \"num_unique_values\": 55,\n        \"samples\": [\n          \"Pavement Defective\",\n          \"Driver Inexperience\"\n        ],\n        \"semantic_type\": \"\",\n        \"description\": \"\"\n      }\n    },\n    {\n      \"column\": \"CONTRIBUTING FACTOR VEHICLE 2\",\n      \"properties\": {\n        \"dtype\": \"category\",\n        \"num_unique_values\": 40,\n        \"samples\": [\n          \"Backing Unsafely\",\n          \"Pavement Slippery\"\n        ],\n        \"semantic_type\": \"\",\n        \"description\": \"\"\n      }\n    },\n    {\n      \"column\": \"VEHICLE TYPE CODE 1\",\n      \"properties\": {\n        \"dtype\": \"category\",\n        \"num_unique_values\": 152,\n        \"samples\": [\n          \"PICK UP\",\n          \"BOX TRUCK\"\n        ],\n        \"semantic_type\": \"\",\n        \"description\": \"\"\n      }\n    },\n    {\n      \"column\": \"VEHICLE TYPE CODE 2\",\n      \"properties\": {\n        \"dtype\": \"category\",\n        \"num_unique_values\": 193,\n        \"samples\": [\n          \"Armored Truck\",\n          \"Delivery t\"\n        ],\n        \"semantic_type\": \"\",\n        \"description\": \"\"\n      }\n    }\n  ]\n}"
            }
          },
          "metadata": {},
          "execution_count": 15
        }
      ]
    },
    {
      "cell_type": "markdown",
      "source": [
        "## Univariate"
      ],
      "metadata": {
        "id": "Tw1tgbuXsoAB"
      }
    },
    {
      "cell_type": "code",
      "source": [
        "import matplotlib.pyplot as plt\n",
        "import seaborn as sns"
      ],
      "metadata": {
        "execution": {
          "iopub.status.busy": "2024-04-19T12:44:21.843147Z",
          "iopub.execute_input": "2024-04-19T12:44:21.844306Z",
          "iopub.status.idle": "2024-04-19T12:44:21.855989Z",
          "shell.execute_reply.started": "2024-04-19T12:44:21.844262Z",
          "shell.execute_reply": "2024-04-19T12:44:21.854706Z"
        },
        "trusted": true,
        "id": "u6Nj6S-FsoAB"
      },
      "execution_count": 16,
      "outputs": []
    },
    {
      "cell_type": "markdown",
      "source": [
        "### Continuous Columns\n",
        "\n",
        "#### Box plot and Hist plot"
      ],
      "metadata": {
        "id": "uC62GhCnsoAB"
      }
    },
    {
      "cell_type": "code",
      "source": [
        "def cont_visua(col):\n",
        "    fig,ax=plt.subplots(ncols=2,nrows=1,figsize=(10,4))\n",
        "    sns.boxplot(data=df,x=col,ax=ax[0])\n",
        "    sns.histplot(data=df,x=col,kde=True,bins=20,ax=ax[1])\n",
        "    plt.subplots_adjust(wspace=0.6)\n",
        "\n",
        "cont_visua('NUMBER OF PERSONS INJURED')\n",
        "cont_visua('NUMBER OF PERSONS KILLED')\n",
        "cont_visua('NUMBER OF PEDESTRIANS INJURED')\n",
        "cont_visua('NUMBER OF PEDESTRIANS KILLED')\n",
        "cont_visua('NUMBER OF CYCLIST INJURED')\n",
        "cont_visua('NUMBER OF CYCLIST KILLED')\n",
        "cont_visua('NUMBER OF MOTORIST INJURED')\n",
        "cont_visua('NUMBER OF MOTORIST KILLED')\n"
      ],
      "metadata": {
        "execution": {
          "iopub.status.busy": "2024-04-19T12:44:21.857621Z",
          "iopub.execute_input": "2024-04-19T12:44:21.858100Z",
          "iopub.status.idle": "2024-04-19T12:45:39.116814Z",
          "shell.execute_reply.started": "2024-04-19T12:44:21.858054Z",
          "shell.execute_reply": "2024-04-19T12:45:39.115454Z"
        },
        "trusted": true,
        "id": "E7RkiDpdsoAB",
        "outputId": "16171dfe-787f-4db3-b0fb-90bab795c0e7",
        "colab": {
          "base_uri": "https://localhost:8080/",
          "height": 1000
        }
      },
      "execution_count": 17,
      "outputs": [
        {
          "output_type": "display_data",
          "data": {
            "text/plain": [
              "<Figure size 1000x400 with 2 Axes>"
            ],
            "image/png": "[encoded data removed]"
          },
          "metadata": {}
        },
        {
          "output_type": "display_data",
          "data": {
            "text/plain": [
              "<Figure size 1000x400 with 2 Axes>"
            ],
            "image/png": "[encoded data removed]"
          },
          "metadata": {}
        },
        {
          "output_type": "display_data",
          "data": {
            "text/plain": [
              "<Figure size 1000x400 with 2 Axes>"
            ],
            "image/png": "[encoded data removed]"
          },
          "metadata": {}
        },
        {
          "output_type": "display_data",
          "data": {
            "text/plain": [
              "<Figure size 1000x400 with 2 Axes>"
            ],
            "image/png": "[encoded data removed]"
          },
          "metadata": {}
        },
        {
          "output_type": "display_data",
          "data": {
            "text/plain": [
              "<Figure size 1000x400 with 2 Axes>"
            ],
            "image/png": "[encoded data removed]"
          },
          "metadata": {}
        },
        {
          "output_type": "display_data",
          "data": {
            "text/plain": [
              "<Figure size 1000x400 with 2 Axes>"
            ],
            "image/png": "[encoded data removed]"
          },
          "metadata": {}
        },
        {
          "output_type": "display_data",
          "data": {
            "text/plain": [
              "<Figure size 1000x400 with 2 Axes>"
            ],
            "image/png": "[encoded data removed]"
          },
          "metadata": {}
        },
        {
          "output_type": "display_data",
          "data": {
            "text/plain": [
              "<Figure size 1000x400 with 2 Axes>"
            ],
            "image/png": "[encoded data removed]"
          },
          "metadata": {}
        }
      ]
    },
    {
      "cell_type": "markdown",
      "source": [
        "  Continuous columns are zero and remaining are seems to be outliers,those outliers are important to this data so we can't remove them"
      ],
      "metadata": {
        "id": "if1FrwxesoAB"
      }
    },
    {
      "cell_type": "code",
      "source": [
        "# cat = df.select_dtypes(include='object')\n",
        "# cat"
      ],
      "metadata": {
        "execution": {
          "iopub.status.busy": "2024-04-19T12:45:39.118428Z",
          "iopub.execute_input": "2024-04-19T12:45:39.118819Z",
          "iopub.status.idle": "2024-04-19T12:45:39.123969Z",
          "shell.execute_reply.started": "2024-04-19T12:45:39.118788Z",
          "shell.execute_reply": "2024-04-19T12:45:39.122771Z"
        },
        "trusted": true,
        "id": "P0latz8zsoAB"
      },
      "execution_count": 18,
      "outputs": []
    },
    {
      "cell_type": "markdown",
      "source": [
        "### Converting 'CRASH DATE' and \"CRASH TIME' columns into datetime columns"
      ],
      "metadata": {
        "id": "EZg0oEWGsoAB"
      }
    },
    {
      "cell_type": "code",
      "source": [
        "df['CRASH DATE']=pd.to_datetime(df['CRASH DATE'])\n",
        "df['YEAR']=df['CRASH DATE'].dt.year\n",
        "df['MONTH']=df['CRASH DATE'].dt.month\n",
        "df['DAY']=df['CRASH DATE'].dt.day\n"
      ],
      "metadata": {
        "execution": {
          "iopub.status.busy": "2024-04-19T12:45:39.125230Z",
          "iopub.execute_input": "2024-04-19T12:45:39.125561Z",
          "iopub.status.idle": "2024-04-19T12:45:39.788945Z",
          "shell.execute_reply.started": "2024-04-19T12:45:39.125532Z",
          "shell.execute_reply": "2024-04-19T12:45:39.787590Z"
        },
        "trusted": true,
        "id": "ypW1G00osoAB"
      },
      "execution_count": 19,
      "outputs": []
    },
    {
      "cell_type": "code",
      "source": [
        "df['CRASH TIME']=pd.to_datetime(df['CRASH TIME'])\n",
        "df['HOUR']=df['CRASH TIME'].dt.hour"
      ],
      "metadata": {
        "execution": {
          "iopub.status.busy": "2024-04-19T12:45:39.790447Z",
          "iopub.execute_input": "2024-04-19T12:45:39.790839Z",
          "iopub.status.idle": "2024-04-19T12:45:40.328076Z",
          "shell.execute_reply.started": "2024-04-19T12:45:39.790806Z",
          "shell.execute_reply": "2024-04-19T12:45:40.326938Z"
        },
        "trusted": true,
        "id": "fcfL0U28soAB",
        "outputId": "a27fbe7a-2df5-43ea-fd29-c3a9225dd790",
        "colab": {
          "base_uri": "https://localhost:8080/"
        }
      },
      "execution_count": 20,
      "outputs": [
        {
          "output_type": "stream",
          "name": "stderr",
          "text": [
            "<ipython-input-20-c393f5e5aebd>:1: UserWarning: Could not infer format, so each element will be parsed individually, falling back to `dateutil`. To ensure parsing is consistent and as-expected, please specify a format.\n",
            "  df['CRASH TIME']=pd.to_datetime(df['CRASH TIME'])\n"
          ]
        }
      ]
    },
    {
      "cell_type": "code",
      "source": [
        "df.shape"
      ],
      "metadata": {
        "execution": {
          "iopub.status.busy": "2024-04-19T12:45:40.329627Z",
          "iopub.execute_input": "2024-04-19T12:45:40.330027Z",
          "iopub.status.idle": "2024-04-19T12:45:40.338486Z",
          "shell.execute_reply.started": "2024-04-19T12:45:40.329977Z",
          "shell.execute_reply": "2024-04-19T12:45:40.337004Z"
        },
        "trusted": true,
        "id": "36wNu0q5soAC",
        "outputId": "7b6e4f5a-2aa1-4c21-eec9-f98a2078540f",
        "colab": {
          "base_uri": "https://localhost:8080/"
        }
      },
      "execution_count": 21,
      "outputs": [
        {
          "output_type": "execute_result",
          "data": {
            "text/plain": [
              "(27787, 22)"
            ]
          },
          "metadata": {},
          "execution_count": 21
        }
      ]
    },
    {
      "cell_type": "code",
      "source": [
        "ax=sns.countplot(x='BOROUGH', data=df)\n",
        "for i in ax.containers:\n",
        "    ax.bar_label(i,fmt=\"%.f\")"
      ],
      "metadata": {
        "execution": {
          "iopub.status.busy": "2024-04-19T12:45:40.340231Z",
          "iopub.execute_input": "2024-04-19T12:45:40.340677Z",
          "iopub.status.idle": "2024-04-19T12:45:43.039238Z",
          "shell.execute_reply.started": "2024-04-19T12:45:40.340618Z",
          "shell.execute_reply": "2024-04-19T12:45:43.037896Z"
        },
        "trusted": true,
        "id": "NarIb1bNsoAC",
        "outputId": "5535d3d5-58de-4c19-e3bb-052807d6aa7a",
        "colab": {
          "base_uri": "https://localhost:8080/",
          "height": 449
        }
      },
      "execution_count": 22,
      "outputs": [
        {
          "output_type": "display_data",
          "data": {
            "text/plain": [
              "<Figure size 640x480 with 1 Axes>"
            ],
            "image/png": "[encoded data removed]"
          },
          "metadata": {}
        }
      ]
    },
    {
      "cell_type": "markdown",
      "source": [
        "more accidents occured in BROOKLYN , QUEENS , and MANHATTAN BOROUGH island compared to BRONX and STATEN ISLAND"
      ],
      "metadata": {
        "id": "r4eZIW2gsoAC"
      }
    },
    {
      "cell_type": "markdown",
      "source": [
        "### **Plot countplots for each variable**\n",
        "### **Create a 2x2 grid of subplots**"
      ],
      "metadata": {
        "id": "DyLAsU9WsoAC"
      }
    },
    {
      "cell_type": "code",
      "source": [
        "import matplotlib.pyplot as plt\n",
        "import seaborn as sns\n",
        "\n",
        "fig, axes = plt.subplots(2,2, figsize=(18, 10))\n",
        "\n",
        "sns.countplot(x='YEAR', data=df, ax=axes[0, 0])\n",
        "sns.countplot(x='MONTH', data=df, ax=axes[0,1])\n",
        "sns.countplot(x='DAY', data=df, ax=axes[1, 0])\n",
        "sns.countplot(x='HOUR', data=df, ax=axes[1,1])\n",
        "\n",
        "#axes[1, 2].axis('off')\n",
        "\n",
        "# Adjust layout\n",
        "plt.tight_layout()\n",
        "\n",
        "# Show plot\n",
        "plt.show()\n"
      ],
      "metadata": {
        "execution": {
          "iopub.status.busy": "2024-04-19T12:45:43.041175Z",
          "iopub.execute_input": "2024-04-19T12:45:43.041643Z",
          "iopub.status.idle": "2024-04-19T12:45:45.084172Z",
          "shell.execute_reply.started": "2024-04-19T12:45:43.041600Z",
          "shell.execute_reply": "2024-04-19T12:45:45.082722Z"
        },
        "trusted": true,
        "id": "kd3Pc5XNsoAC",
        "outputId": "fe36875e-7750-4125-f312-2e136e8b7f0f",
        "colab": {
          "base_uri": "https://localhost:8080/",
          "height": 373
        }
      },
      "execution_count": 23,
      "outputs": [
        {
          "output_type": "display_data",
          "data": {
            "text/plain": [
              "<Figure size 1800x1000 with 4 Axes>"
            ],
            "image/png": "[encoded data removed]"
          },
          "metadata": {}
        }
      ]
    },
    {
      "cell_type": "markdown",
      "source": [
        "Year-->from 2013 to 2019 more accidents occured**\n",
        "\n",
        "Hour-->from 9:00 to 19:00 more accidents occured**"
      ],
      "metadata": {
        "id": "Ex_KPD5AsoAC"
      }
    },
    {
      "cell_type": "code",
      "source": [
        "top_20_cat=df['CONTRIBUTING FACTOR VEHICLE 1'].value_counts().nlargest(20).index.tolist()\n",
        "top_20_cat"
      ],
      "metadata": {
        "execution": {
          "iopub.status.busy": "2024-04-19T12:45:45.085959Z",
          "iopub.execute_input": "2024-04-19T12:45:45.086417Z",
          "iopub.status.idle": "2024-04-19T12:45:45.491779Z",
          "shell.execute_reply.started": "2024-04-19T12:45:45.086371Z",
          "shell.execute_reply": "2024-04-19T12:45:45.490460Z"
        },
        "trusted": true,
        "id": "AJhue7elsoAD",
        "outputId": "c86a821f-1627-43ba-8236-f5972c63058f",
        "colab": {
          "base_uri": "https://localhost:8080/"
        }
      },
      "execution_count": 24,
      "outputs": [
        {
          "output_type": "execute_result",
          "data": {
            "text/plain": [
              "['Unspecified',\n",
              " 'Driver Inattention/Distraction',\n",
              " 'Failure to Yield Right-of-Way',\n",
              " 'Following Too Closely',\n",
              " 'Passing or Lane Usage Improper',\n",
              " 'Passing Too Closely',\n",
              " 'Unsafe Speed',\n",
              " 'Backing Unsafely',\n",
              " 'Other Vehicular',\n",
              " 'Traffic Control Disregarded',\n",
              " 'Turning Improperly',\n",
              " 'Driver Inexperience',\n",
              " 'Unsafe Lane Changing',\n",
              " 'Alcohol Involvement',\n",
              " 'Reaction to Uninvolved Vehicle',\n",
              " 'Pedestrian/Bicyclist/Other Pedestrian Error/Confusion',\n",
              " 'View Obstructed/Limited',\n",
              " 'Aggressive Driving/Road Rage',\n",
              " 'Oversized Vehicle',\n",
              " 'Fell Asleep']"
            ]
          },
          "metadata": {},
          "execution_count": 24
        }
      ]
    },
    {
      "cell_type": "code",
      "source": [
        "df1 = df[df['CONTRIBUTING FACTOR VEHICLE 1'].isin(top_20_cat)]\n",
        "df1.shape"
      ],
      "metadata": {
        "execution": {
          "iopub.status.busy": "2024-04-19T12:45:45.493365Z",
          "iopub.execute_input": "2024-04-19T12:45:45.493826Z",
          "iopub.status.idle": "2024-04-19T12:45:46.191461Z",
          "shell.execute_reply.started": "2024-04-19T12:45:45.493790Z",
          "shell.execute_reply": "2024-04-19T12:45:46.189867Z"
        },
        "trusted": true,
        "id": "SHxeLClzsoAD",
        "outputId": "1c93ee2f-7b77-4e8c-9848-dcaea9dd18f2",
        "colab": {
          "base_uri": "https://localhost:8080/"
        }
      },
      "execution_count": 25,
      "outputs": [
        {
          "output_type": "execute_result",
          "data": {
            "text/plain": [
              "(26735, 22)"
            ]
          },
          "metadata": {},
          "execution_count": 25
        }
      ]
    },
    {
      "cell_type": "code",
      "source": [
        "sns.countplot(data=df1,x='CONTRIBUTING FACTOR VEHICLE 1')\n",
        "plt.xticks(rotation=90)"
      ],
      "metadata": {
        "execution": {
          "iopub.status.busy": "2024-04-19T12:45:46.194169Z",
          "iopub.execute_input": "2024-04-19T12:45:46.194731Z",
          "iopub.status.idle": "2024-04-19T12:45:49.302512Z",
          "shell.execute_reply.started": "2024-04-19T12:45:46.194677Z",
          "shell.execute_reply": "2024-04-19T12:45:49.301013Z"
        },
        "trusted": true,
        "id": "ezxMbCkVsoAD",
        "outputId": "1a7408e2-2ca8-455b-8398-e7cb164c66b9",
        "colab": {
          "base_uri": "https://localhost:8080/",
          "height": 1000
        }
      },
      "execution_count": 26,
      "outputs": [
        {
          "output_type": "execute_result",
          "data": {
            "text/plain": [
              "([0, 1, 2, 3, 4, 5, 6, 7, 8, 9, 10, 11, 12, 13, 14, 15, 16, 17, 18, 19],\n",
              " [Text(0, 0, 'Aggressive Driving/Road Rage'),\n",
              "  Text(1, 0, 'Following Too Closely'),\n",
              "  Text(2, 0, 'Unspecified'),\n",
              "  Text(3, 0, 'Passing Too Closely'),\n",
              "  Text(4, 0, 'Driver Inexperience'),\n",
              "  Text(5, 0, 'Passing or Lane Usage Improper'),\n",
              "  Text(6, 0, 'Turning Improperly'),\n",
              "  Text(7, 0, 'Unsafe Lane Changing'),\n",
              "  Text(8, 0, 'Unsafe Speed'),\n",
              "  Text(9, 0, 'Reaction to Uninvolved Vehicle'),\n",
              "  Text(10, 0, 'Traffic Control Disregarded'),\n",
              "  Text(11, 0, 'Other Vehicular'),\n",
              "  Text(12, 0, 'Driver Inattention/Distraction'),\n",
              "  Text(13, 0, 'Oversized Vehicle'),\n",
              "  Text(14, 0, 'Pedestrian/Bicyclist/Other Pedestrian Error/Confusion'),\n",
              "  Text(15, 0, 'Alcohol Involvement'),\n",
              "  Text(16, 0, 'View Obstructed/Limited'),\n",
              "  Text(17, 0, 'Failure to Yield Right-of-Way'),\n",
              "  Text(18, 0, 'Backing Unsafely'),\n",
              "  Text(19, 0, 'Fell Asleep')])"
            ]
          },
          "metadata": {},
          "execution_count": 26
        },
        {
          "output_type": "display_data",
          "data": {
            "text/plain": [
              "<Figure size 640x480 with 1 Axes>"
            ],
            "image/png": "[encoded data removed]"
          },
          "metadata": {}
        }
      ]
    },
    {
      "cell_type": "code",
      "source": [
        "df['CONTRIBUTING FACTOR VEHICLE 1'].value_counts().nlargest(15)"
      ],
      "metadata": {
        "execution": {
          "iopub.status.busy": "2024-04-19T12:45:49.304516Z",
          "iopub.execute_input": "2024-04-19T12:45:49.305767Z",
          "iopub.status.idle": "2024-04-19T12:45:49.734177Z",
          "shell.execute_reply.started": "2024-04-19T12:45:49.305718Z",
          "shell.execute_reply": "2024-04-19T12:45:49.732596Z"
        },
        "trusted": true,
        "id": "zdwizIDcsoAD",
        "outputId": "3895ebff-6d46-4e71-9232-11d5c94b4990",
        "colab": {
          "base_uri": "https://localhost:8080/"
        }
      },
      "execution_count": 27,
      "outputs": [
        {
          "output_type": "execute_result",
          "data": {
            "text/plain": [
              "CONTRIBUTING FACTOR VEHICLE 1\n",
              "Unspecified                       6878\n",
              "Driver Inattention/Distraction    6749\n",
              "Failure to Yield Right-of-Way     1884\n",
              "Following Too Closely             1868\n",
              "Passing or Lane Usage Improper    1319\n",
              "Passing Too Closely               1090\n",
              "Unsafe Speed                       989\n",
              "Backing Unsafely                   865\n",
              "Other Vehicular                    819\n",
              "Traffic Control Disregarded        812\n",
              "Turning Improperly                 650\n",
              "Driver Inexperience                569\n",
              "Unsafe Lane Changing               558\n",
              "Alcohol Involvement                412\n",
              "Reaction to Uninvolved Vehicle     351\n",
              "Name: count, dtype: int64"
            ]
          },
          "metadata": {},
          "execution_count": 27
        }
      ]
    },
    {
      "cell_type": "code",
      "source": [
        "df['CONTRIBUTING FACTOR VEHICLE 1'].value_counts()"
      ],
      "metadata": {
        "execution": {
          "iopub.status.busy": "2024-04-19T12:45:49.735737Z",
          "iopub.execute_input": "2024-04-19T12:45:49.736145Z",
          "iopub.status.idle": "2024-04-19T12:45:50.148849Z",
          "shell.execute_reply.started": "2024-04-19T12:45:49.736111Z",
          "shell.execute_reply": "2024-04-19T12:45:50.147430Z"
        },
        "trusted": true,
        "id": "WOgFjHYnsoAE",
        "outputId": "001474f4-cfcb-48f9-f525-b4a3a9a9518e",
        "colab": {
          "base_uri": "https://localhost:8080/"
        }
      },
      "execution_count": 28,
      "outputs": [
        {
          "output_type": "execute_result",
          "data": {
            "text/plain": [
              "CONTRIBUTING FACTOR VEHICLE 1\n",
              "Unspecified                                              6878\n",
              "Driver Inattention/Distraction                           6749\n",
              "Failure to Yield Right-of-Way                            1884\n",
              "Following Too Closely                                    1868\n",
              "Passing or Lane Usage Improper                           1319\n",
              "Passing Too Closely                                      1090\n",
              "Unsafe Speed                                              989\n",
              "Backing Unsafely                                          865\n",
              "Other Vehicular                                           819\n",
              "Traffic Control Disregarded                               812\n",
              "Turning Improperly                                        650\n",
              "Driver Inexperience                                       569\n",
              "Unsafe Lane Changing                                      558\n",
              "Alcohol Involvement                                       412\n",
              "Reaction to Uninvolved Vehicle                            351\n",
              "Pedestrian/Bicyclist/Other Pedestrian Error/Confusion     261\n",
              "View Obstructed/Limited                                   228\n",
              "Aggressive Driving/Road Rage                              192\n",
              "Oversized Vehicle                                         124\n",
              "Fell Asleep                                               117\n",
              "Brakes Defective                                          110\n",
              "Pavement Slippery                                         106\n",
              "Passenger Distraction                                      70\n",
              "Steering Failure                                           69\n",
              "Outside Car Distraction                                    68\n",
              "Obstruction/Debris                                         55\n",
              "Lost Consciousness                                         52\n",
              "Tire Failure/Inadequate                                    52\n",
              "Illnes                                                     40\n",
              "Pavement Defective                                         38\n",
              "Fatigued/Drowsy                                            37\n",
              "Glare                                                      34\n",
              "Drugs (illegal)                                            29\n",
              "Failure to Keep Right                                      29\n",
              "Animals Action                                             20\n",
              "Driverless/Runaway Vehicle                                 20\n",
              "Accelerator Defective                                      19\n",
              "Cell Phone (hand-Held)                                     12\n",
              "Physical Disability                                         7\n",
              "Headlights Defective                                        5\n",
              "Lane Marking Improper/Inadequate                            5\n",
              "Tinted Windows                                              4\n",
              "Using On Board Navigation Device                            4\n",
              "Traffic Control Device Improper/Non-Working                 4\n",
              "Vehicle Vandalism                                           4\n",
              "Other Lighting Defects                                      3\n",
              "Cell Phone (hands-free)                                     3\n",
              "Prescription Medication                                     3\n",
              "Other Electronic Device                                     2\n",
              "Tow Hitch Defective                                         2\n",
              "Eating or Drinking                                          1\n",
              "Windshield Inadequate                                       1\n",
              "Shoulders Defective/Improper                                1\n",
              "Listening/Using Headphones                                  1\n",
              "Texting                                                     1\n",
              "Name: count, dtype: int64"
            ]
          },
          "metadata": {},
          "execution_count": 28
        }
      ]
    },
    {
      "cell_type": "code",
      "source": [
        "df['CONTRIBUTING FACTOR VEHICLE 2'].value_counts()"
      ],
      "metadata": {
        "execution": {
          "iopub.status.busy": "2024-04-19T12:45:50.150711Z",
          "iopub.execute_input": "2024-04-19T12:45:50.152334Z",
          "iopub.status.idle": "2024-04-19T12:45:50.518324Z",
          "shell.execute_reply.started": "2024-04-19T12:45:50.152292Z",
          "shell.execute_reply": "2024-04-19T12:45:50.517140Z"
        },
        "trusted": true,
        "id": "2LP6GlBisoAE",
        "outputId": "afa76cd3-1f40-4220-c9e8-a3fb28d13ff6",
        "colab": {
          "base_uri": "https://localhost:8080/"
        }
      },
      "execution_count": 29,
      "outputs": [
        {
          "output_type": "execute_result",
          "data": {
            "text/plain": [
              "CONTRIBUTING FACTOR VEHICLE 2\n",
              "Unspecified                                              18547\n",
              "Driver Inattention/Distraction                            1144\n",
              "Following Too Closely                                      307\n",
              "Other Vehicular                                            298\n",
              "Passing or Lane Usage Improper                             196\n",
              "Failure to Yield Right-of-Way                              189\n",
              "Unsafe Speed                                               132\n",
              "Traffic Control Disregarded                                132\n",
              "Passing Too Closely                                        113\n",
              "Driver Inexperience                                         84\n",
              "Pedestrian/Bicyclist/Other Pedestrian Error/Confusion       73\n",
              "View Obstructed/Limited                                     67\n",
              "Turning Improperly                                          64\n",
              "Unsafe Lane Changing                                        61\n",
              "Reaction to Uninvolved Vehicle                              38\n",
              "Backing Unsafely                                            35\n",
              "Aggressive Driving/Road Rage                                26\n",
              "Oversized Vehicle                                           26\n",
              "Pavement Slippery                                           21\n",
              "Alcohol Involvement                                         15\n",
              "Obstruction/Debris                                           9\n",
              "Passenger Distraction                                        8\n",
              "Outside Car Distraction                                      7\n",
              "Failure to Keep Right                                        7\n",
              "Fell Asleep                                                  4\n",
              "Vehicle Vandalism                                            3\n",
              "Tire Failure/Inadequate                                      2\n",
              "Fatigued/Drowsy                                              2\n",
              "Brakes Defective                                             2\n",
              "Drugs (illegal)                                              2\n",
              "Driverless/Runaway Vehicle                                   1\n",
              "Headlights Defective                                         1\n",
              "Cell Phone (hand-Held)                                       1\n",
              "Steering Failure                                             1\n",
              "Pavement Defective                                           1\n",
              "Tow Hitch Defective                                          1\n",
              "Tinted Windows                                               1\n",
              "Traffic Control Device Improper/Non-Working                  1\n",
              "Glare                                                        1\n",
              "Lane Marking Improper/Inadequate                             1\n",
              "Name: count, dtype: int64"
            ]
          },
          "metadata": {},
          "execution_count": 29
        }
      ]
    },
    {
      "cell_type": "markdown",
      "source": [
        "## Bivariate Analysis"
      ],
      "metadata": {
        "id": "drQextevsoAE"
      }
    },
    {
      "cell_type": "code",
      "source": [
        "grouped_data = df1.groupby(['BOROUGH','CONTRIBUTING FACTOR VEHICLE 1']).size().reset_index(name='count')\n",
        "grouped_data"
      ],
      "metadata": {
        "execution": {
          "iopub.status.busy": "2024-04-19T12:45:50.519851Z",
          "iopub.execute_input": "2024-04-19T12:45:50.520243Z",
          "iopub.status.idle": "2024-04-19T12:45:51.252656Z",
          "shell.execute_reply.started": "2024-04-19T12:45:50.520209Z",
          "shell.execute_reply": "2024-04-19T12:45:51.251284Z"
        },
        "trusted": true,
        "id": "fuy11QxosoAE",
        "outputId": "e06322a6-70c6-4ae2-8b66-0f40a6be18a7",
        "colab": {
          "base_uri": "https://localhost:8080/",
          "height": 423
        }
      },
      "execution_count": 30,
      "outputs": [
        {
          "output_type": "execute_result",
          "data": {
            "text/plain": [
              "          BOROUGH   CONTRIBUTING FACTOR VEHICLE 1  count\n",
              "0           BRONX    Aggressive Driving/Road Rage     29\n",
              "1           BRONX             Alcohol Involvement     52\n",
              "2           BRONX                Backing Unsafely    124\n",
              "3           BRONX  Driver Inattention/Distraction    651\n",
              "4           BRONX             Driver Inexperience     74\n",
              "..            ...                             ...    ...\n",
              "95  STATEN ISLAND              Turning Improperly     18\n",
              "96  STATEN ISLAND            Unsafe Lane Changing      7\n",
              "97  STATEN ISLAND                    Unsafe Speed     20\n",
              "98  STATEN ISLAND                     Unspecified    155\n",
              "99  STATEN ISLAND         View Obstructed/Limited      7\n",
              "\n",
              "[100 rows x 3 columns]"
            ],
            "text/html": [
              "\n",
              "  <div id=\"df-b9d1ff06-f557-4cd0-af8c-2419f711a295\" class=\"colab-df-container\">\n",
              "    <div>\n",
              "<style scoped>\n",
              "    .dataframe tbody tr th:only-of-type {\n",
              "        vertical-align: middle;\n",
              "    }\n",
              "\n",
              "    .dataframe tbody tr th {\n",
              "        vertical-align: top;\n",
              "    }\n",
              "\n",
              "    .dataframe thead th {\n",
              "        text-align: right;\n",
              "    }\n",
              "</style>\n",
              "<table border=\"1\" class=\"dataframe\">\n",
              "  <thead>\n",
              "    <tr style=\"text-align: right;\">\n",
              "      <th></th>\n",
              "      <th>BOROUGH</th>\n",
              "      <th>CONTRIBUTING FACTOR VEHICLE 1</th>\n",
              "      <th>count</th>\n",
              "    </tr>\n",
              "  </thead>\n",
              "  <tbody>\n",
              "    <tr>\n",
              "      <th>0</th>\n",
              "      <td>BRONX</td>\n",
              "      <td>Aggressive Driving/Road Rage</td>\n",
              "      <td>29</td>\n",
              "    </tr>\n",
              "    <tr>\n",
              "      <th>1</th>\n",
              "      <td>BRONX</td>\n",
              "      <td>Alcohol Involvement</td>\n",
              "      <td>52</td>\n",
              "    </tr>\n",
              "    <tr>\n",
              "      <th>2</th>\n",
              "      <td>BRONX</td>\n",
              "      <td>Backing Unsafely</td>\n",
              "      <td>124</td>\n",
              "    </tr>\n",
              "    <tr>\n",
              "      <th>3</th>\n",
              "      <td>BRONX</td>\n",
              "      <td>Driver Inattention/Distraction</td>\n",
              "      <td>651</td>\n",
              "    </tr>\n",
              "    <tr>\n",
              "      <th>4</th>\n",
              "      <td>BRONX</td>\n",
              "      <td>Driver Inexperience</td>\n",
              "      <td>74</td>\n",
              "    </tr>\n",
              "    <tr>\n",
              "      <th>...</th>\n",
              "      <td>...</td>\n",
              "      <td>...</td>\n",
              "      <td>...</td>\n",
              "    </tr>\n",
              "    <tr>\n",
              "      <th>95</th>\n",
              "      <td>STATEN ISLAND</td>\n",
              "      <td>Turning Improperly</td>\n",
              "      <td>18</td>\n",
              "    </tr>\n",
              "    <tr>\n",
              "      <th>96</th>\n",
              "      <td>STATEN ISLAND</td>\n",
              "      <td>Unsafe Lane Changing</td>\n",
              "      <td>7</td>\n",
              "    </tr>\n",
              "    <tr>\n",
              "      <th>97</th>\n",
              "      <td>STATEN ISLAND</td>\n",
              "      <td>Unsafe Speed</td>\n",
              "      <td>20</td>\n",
              "    </tr>\n",
              "    <tr>\n",
              "      <th>98</th>\n",
              "      <td>STATEN ISLAND</td>\n",
              "      <td>Unspecified</td>\n",
              "      <td>155</td>\n",
              "    </tr>\n",
              "    <tr>\n",
              "      <th>99</th>\n",
              "      <td>STATEN ISLAND</td>\n",
              "      <td>View Obstructed/Limited</td>\n",
              "      <td>7</td>\n",
              "    </tr>\n",
              "  </tbody>\n",
              "</table>\n",
              "<p>100 rows × 3 columns</p>\n",
              "</div>\n",
              "    <div class=\"colab-df-buttons\">\n",
              "\n",
              "  <div class=\"colab-df-container\">\n",
              "    <button class=\"colab-df-convert\" onclick=\"convertToInteractive('df-b9d1ff06-f557-4cd0-af8c-2419f711a295')\"\n",
              "            title=\"Convert this dataframe to an interactive table.\"\n",
              "            style=\"display:none;\">\n",
              "\n",
              "  <svg xmlns=\"http://www.w3.org/2000/svg\" height=\"24px\" viewBox=\"0 -960 960 960\">\n",
              "    <path d=\"M120-120v-720h720v720H120Zm60-500h600v-160H180v160Zm220 220h160v-160H400v160Zm0 220h160v-160H400v160ZM180-400h160v-160H180v160Zm440 0h160v-160H620v160ZM180-180h160v-160H180v160Zm440 0h160v-160H620v160Z\"/>\n",
              "  </svg>\n",
              "    </button>\n",
              "\n",
              "  <style>\n",
              "    .colab-df-container {\n",
              "      display:flex;\n",
              "      gap: 12px;\n",
              "    }\n",
              "\n",
              "    .colab-df-convert {\n",
              "      background-color: #E8F0FE;\n",
              "      border: none;\n",
              "      border-radius: 50%;\n",
              "      cursor: pointer;\n",
              "      display: none;\n",
              "      fill: #1967D2;\n",
              "      height: 32px;\n",
              "      padding: 0 0 0 0;\n",
              "      width: 32px;\n",
              "    }\n",
              "\n",
              "    .colab-df-convert:hover {\n",
              "      background-color: #E2EBFA;\n",
              "      box-shadow: 0px 1px 2px rgba(60, 64, 67, 0.3), 0px 1px 3px 1px rgba(60, 64, 67, 0.15);\n",
              "      fill: #174EA6;\n",
              "    }\n",
              "\n",
              "    .colab-df-buttons div {\n",
              "      margin-bottom: 4px;\n",
              "    }\n",
              "\n",
              "    [theme=dark] .colab-df-convert {\n",
              "      background-color: #3B4455;\n",
              "      fill: #D2E3FC;\n",
              "    }\n",
              "\n",
              "    [theme=dark] .colab-df-convert:hover {\n",
              "      background-color: #434B5C;\n",
              "      box-shadow: 0px 1px 3px 1px rgba(0, 0, 0, 0.15);\n",
              "      filter: drop-shadow(0px 1px 2px rgba(0, 0, 0, 0.3));\n",
              "      fill: #FFFFFF;\n",
              "    }\n",
              "  </style>\n",
              "\n",
              "    <script>\n",
              "      const buttonEl =\n",
              "        document.querySelector('#df-b9d1ff06-f557-4cd0-af8c-2419f711a295 button.colab-df-convert');\n",
              "      buttonEl.style.display =\n",
              "        google.colab.kernel.accessAllowed ? 'block' : 'none';\n",
              "\n",
              "      async function convertToInteractive(key) {\n",
              "        const element = document.querySelector('#df-b9d1ff06-f557-4cd0-af8c-2419f711a295');\n",
              "        const dataTable =\n",
              "          await google.colab.kernel.invokeFunction('convertToInteractive',\n",
              "                                                    [key], {});\n",
              "        if (!dataTable) return;\n",
              "\n",
              "        const docLinkHtml = 'Like what you see? Visit the ' +\n",
              "          '<a target=\"_blank\" href=https://colab.research.google.com/notebooks/data_table.ipynb>data table notebook</a>'\n",
              "          + ' to learn more about interactive tables.';\n",
              "        element.innerHTML = '';\n",
              "        dataTable['output_type'] = 'display_data';\n",
              "        await google.colab.output.renderOutput(dataTable, element);\n",
              "        const docLink = document.createElement('div');\n",
              "        docLink.innerHTML = docLinkHtml;\n",
              "        element.appendChild(docLink);\n",
              "      }\n",
              "    </script>\n",
              "  </div>\n",
              "\n",
              "\n",
              "<div id=\"df-6632d49e-5e47-440b-86b1-09d9f23960d5\">\n",
              "  <button class=\"colab-df-quickchart\" onclick=\"quickchart('df-6632d49e-5e47-440b-86b1-09d9f23960d5')\"\n",
              "            title=\"Suggest charts\"\n",
              "            style=\"display:none;\">\n",
              "\n",
              "<svg xmlns=\"http://www.w3.org/2000/svg\" height=\"24px\"viewBox=\"0 0 24 24\"\n",
              "     width=\"24px\">\n",
              "    <g>\n",
              "        <path d=\"M19 3H5c-1.1 0-2 .9-2 2v14c0 1.1.9 2 2 2h14c1.1 0 2-.9 2-2V5c0-1.1-.9-2-2-2zM9 17H7v-7h2v7zm4 0h-2V7h2v10zm4 0h-2v-4h2v4z\"/>\n",
              "    </g>\n",
              "</svg>\n",
              "  </button>\n",
              "\n",
              "<style>\n",
              "  .colab-df-quickchart {\n",
              "      --bg-color: #E8F0FE;\n",
              "      --fill-color: #1967D2;\n",
              "      --hover-bg-color: #E2EBFA;\n",
              "      --hover-fill-color: #174EA6;\n",
              "      --disabled-fill-color: #AAA;\n",
              "      --disabled-bg-color: #DDD;\n",
              "  }\n",
              "\n",
              "  [theme=dark] .colab-df-quickchart {\n",
              "      --bg-color: #3B4455;\n",
              "      --fill-color: #D2E3FC;\n",
              "      --hover-bg-color: #434B5C;\n",
              "      --hover-fill-color: #FFFFFF;\n",
              "      --disabled-bg-color: #3B4455;\n",
              "      --disabled-fill-color: #666;\n",
              "  }\n",
              "\n",
              "  .colab-df-quickchart {\n",
              "    background-color: var(--bg-color);\n",
              "    border: none;\n",
              "    border-radius: 50%;\n",
              "    cursor: pointer;\n",
              "    display: none;\n",
              "    fill: var(--fill-color);\n",
              "    height: 32px;\n",
              "    padding: 0;\n",
              "    width: 32px;\n",
              "  }\n",
              "\n",
              "  .colab-df-quickchart:hover {\n",
              "    background-color: var(--hover-bg-color);\n",
              "    box-shadow: 0 1px 2px rgba(60, 64, 67, 0.3), 0 1px 3px 1px rgba(60, 64, 67, 0.15);\n",
              "    fill: var(--button-hover-fill-color);\n",
              "  }\n",
              "\n",
              "  .colab-df-quickchart-complete:disabled,\n",
              "  .colab-df-quickchart-complete:disabled:hover {\n",
              "    background-color: var(--disabled-bg-color);\n",
              "    fill: var(--disabled-fill-color);\n",
              "    box-shadow: none;\n",
              "  }\n",
              "\n",
              "  .colab-df-spinner {\n",
              "    border: 2px solid var(--fill-color);\n",
              "    border-color: transparent;\n",
              "    border-bottom-color: var(--fill-color);\n",
              "    animation:\n",
              "      spin 1s steps(1) infinite;\n",
              "  }\n",
              "\n",
              "  @keyframes spin {\n",
              "    0% {\n",
              "      border-color: transparent;\n",
              "      border-bottom-color: var(--fill-color);\n",
              "      border-left-color: var(--fill-color);\n",
              "    }\n",
              "    20% {\n",
              "      border-color: transparent;\n",
              "      border-left-color: var(--fill-color);\n",
              "      border-top-color: var(--fill-color);\n",
              "    }\n",
              "    30% {\n",
              "      border-color: transparent;\n",
              "      border-left-color: var(--fill-color);\n",
              "      border-top-color: var(--fill-color);\n",
              "      border-right-color: var(--fill-color);\n",
              "    }\n",
              "    40% {\n",
              "      border-color: transparent;\n",
              "      border-right-color: var(--fill-color);\n",
              "      border-top-color: var(--fill-color);\n",
              "    }\n",
              "    60% {\n",
              "      border-color: transparent;\n",
              "      border-right-color: var(--fill-color);\n",
              "    }\n",
              "    80% {\n",
              "      border-color: transparent;\n",
              "      border-right-color: var(--fill-color);\n",
              "      border-bottom-color: var(--fill-color);\n",
              "    }\n",
              "    90% {\n",
              "      border-color: transparent;\n",
              "      border-bottom-color: var(--fill-color);\n",
              "    }\n",
              "  }\n",
              "</style>\n",
              "\n",
              "  <script>\n",
              "    async function quickchart(key) {\n",
              "      const quickchartButtonEl =\n",
              "        document.querySelector('#' + key + ' button');\n",
              "      quickchartButtonEl.disabled = true;  // To prevent multiple clicks.\n",
              "      quickchartButtonEl.classList.add('colab-df-spinner');\n",
              "      try {\n",
              "        const charts = await google.colab.kernel.invokeFunction(\n",
              "            'suggestCharts', [key], {});\n",
              "      } catch (error) {\n",
              "        console.error('Error during call to suggestCharts:', error);\n",
              "      }\n",
              "      quickchartButtonEl.classList.remove('colab-df-spinner');\n",
              "      quickchartButtonEl.classList.add('colab-df-quickchart-complete');\n",
              "    }\n",
              "    (() => {\n",
              "      let quickchartButtonEl =\n",
              "        document.querySelector('#df-6632d49e-5e47-440b-86b1-09d9f23960d5 button');\n",
              "      quickchartButtonEl.style.display =\n",
              "        google.colab.kernel.accessAllowed ? 'block' : 'none';\n",
              "    })();\n",
              "  </script>\n",
              "</div>\n",
              "\n",
              "  <div id=\"id_9a65bfa6-9bdc-4149-a9a6-28be34d9096d\">\n",
              "    <style>\n",
              "      .colab-df-generate {\n",
              "        background-color: #E8F0FE;\n",
              "        border: none;\n",
              "        border-radius: 50%;\n",
              "        cursor: pointer;\n",
              "        display: none;\n",
              "        fill: #1967D2;\n",
              "        height: 32px;\n",
              "        padding: 0 0 0 0;\n",
              "        width: 32px;\n",
              "      }\n",
              "\n",
              "      .colab-df-generate:hover {\n",
              "        background-color: #E2EBFA;\n",
              "        box-shadow: 0px 1px 2px rgba(60, 64, 67, 0.3), 0px 1px 3px 1px rgba(60, 64, 67, 0.15);\n",
              "        fill: #174EA6;\n",
              "      }\n",
              "\n",
              "      [theme=dark] .colab-df-generate {\n",
              "        background-color: #3B4455;\n",
              "        fill: #D2E3FC;\n",
              "      }\n",
              "\n",
              "      [theme=dark] .colab-df-generate:hover {\n",
              "        background-color: #434B5C;\n",
              "        box-shadow: 0px 1px 3px 1px rgba(0, 0, 0, 0.15);\n",
              "        filter: drop-shadow(0px 1px 2px rgba(0, 0, 0, 0.3));\n",
              "        fill: #FFFFFF;\n",
              "      }\n",
              "    </style>\n",
              "    <button class=\"colab-df-generate\" onclick=\"generateWithVariable('grouped_data')\"\n",
              "            title=\"Generate code using this dataframe.\"\n",
              "            style=\"display:none;\">\n",
              "\n",
              "  <svg xmlns=\"http://www.w3.org/2000/svg\" height=\"24px\"viewBox=\"0 0 24 24\"\n",
              "       width=\"24px\">\n",
              "    <path d=\"M7,19H8.4L18.45,9,17,7.55,7,17.6ZM5,21V16.75L18.45,3.32a2,2,0,0,1,2.83,0l1.4,1.43a1.91,1.91,0,0,1,.58,1.4,1.91,1.91,0,0,1-.58,1.4L9.25,21ZM18.45,9,17,7.55Zm-12,3A5.31,5.31,0,0,0,4.9,8.1,5.31,5.31,0,0,0,1,6.5,5.31,5.31,0,0,0,4.9,4.9,5.31,5.31,0,0,0,6.5,1,5.31,5.31,0,0,0,8.1,4.9,5.31,5.31,0,0,0,12,6.5,5.46,5.46,0,0,0,6.5,12Z\"/>\n",
              "  </svg>\n",
              "    </button>\n",
              "    <script>\n",
              "      (() => {\n",
              "      const buttonEl =\n",
              "        document.querySelector('#id_9a65bfa6-9bdc-4149-a9a6-28be34d9096d button.colab-df-generate');\n",
              "      buttonEl.style.display =\n",
              "        google.colab.kernel.accessAllowed ? 'block' : 'none';\n",
              "\n",
              "      buttonEl.onclick = () => {\n",
              "        google.colab.notebook.generateWithVariable('grouped_data');\n",
              "      }\n",
              "      })();\n",
              "    </script>\n",
              "  </div>\n",
              "\n",
              "    </div>\n",
              "  </div>\n"
            ],
            "application/vnd.google.colaboratory.intrinsic+json": {
              "type": "dataframe",
              "variable_name": "grouped_data",
              "summary": "{\n  \"name\": \"grouped_data\",\n  \"rows\": 100,\n  \"fields\": [\n    {\n      \"column\": \"BOROUGH\",\n      \"properties\": {\n        \"dtype\": \"category\",\n        \"num_unique_values\": 5,\n        \"samples\": [\n          \"BROOKLYN\",\n          \"STATEN ISLAND\",\n          \"MANHATTAN\"\n        ],\n        \"semantic_type\": \"\",\n        \"description\": \"\"\n      }\n    },\n    {\n      \"column\": \"CONTRIBUTING FACTOR VEHICLE 1\",\n      \"properties\": {\n        \"dtype\": \"category\",\n        \"num_unique_values\": 20,\n        \"samples\": [\n          \"Aggressive Driving/Road Rage\",\n          \"Unsafe Speed\",\n          \"Turning Improperly\"\n        ],\n        \"semantic_type\": \"\",\n        \"description\": \"\"\n      }\n    },\n    {\n      \"column\": \"count\",\n      \"properties\": {\n        \"dtype\": \"number\",\n        \"std\": 320,\n        \"min\": 1,\n        \"max\": 2018,\n        \"num_unique_values\": 78,\n        \"samples\": [\n          38,\n          29,\n          159\n        ],\n        \"semantic_type\": \"\",\n        \"description\": \"\"\n      }\n    }\n  ]\n}"
            }
          },
          "metadata": {},
          "execution_count": 30
        }
      ]
    },
    {
      "cell_type": "code",
      "source": [
        "plt.figure(figsize=(15,10))\n",
        "sns.countplot(x='CONTRIBUTING FACTOR VEHICLE 1',hue='BOROUGH',data=df1)\n",
        "plt.xticks(rotation=60)"
      ],
      "metadata": {
        "execution": {
          "iopub.status.busy": "2024-04-19T12:45:51.254292Z",
          "iopub.execute_input": "2024-04-19T12:45:51.254712Z",
          "iopub.status.idle": "2024-04-19T12:45:57.296605Z",
          "shell.execute_reply.started": "2024-04-19T12:45:51.254676Z",
          "shell.execute_reply": "2024-04-19T12:45:57.295048Z"
        },
        "trusted": true,
        "id": "llAKUmSqsoAE",
        "outputId": "f993ce58-7010-46dc-efb1-8c0c618571e6",
        "colab": {
          "base_uri": "https://localhost:8080/",
          "height": 974
        }
      },
      "execution_count": 31,
      "outputs": [
        {
          "output_type": "execute_result",
          "data": {
            "text/plain": [
              "([0, 1, 2, 3, 4, 5, 6, 7, 8, 9, 10, 11, 12, 13, 14, 15, 16, 17, 18, 19],\n",
              " [Text(0, 0, 'Aggressive Driving/Road Rage'),\n",
              "  Text(1, 0, 'Following Too Closely'),\n",
              "  Text(2, 0, 'Unspecified'),\n",
              "  Text(3, 0, 'Passing Too Closely'),\n",
              "  Text(4, 0, 'Driver Inexperience'),\n",
              "  Text(5, 0, 'Passing or Lane Usage Improper'),\n",
              "  Text(6, 0, 'Turning Improperly'),\n",
              "  Text(7, 0, 'Unsafe Lane Changing'),\n",
              "  Text(8, 0, 'Unsafe Speed'),\n",
              "  Text(9, 0, 'Reaction to Uninvolved Vehicle'),\n",
              "  Text(10, 0, 'Traffic Control Disregarded'),\n",
              "  Text(11, 0, 'Other Vehicular'),\n",
              "  Text(12, 0, 'Driver Inattention/Distraction'),\n",
              "  Text(13, 0, 'Oversized Vehicle'),\n",
              "  Text(14, 0, 'Pedestrian/Bicyclist/Other Pedestrian Error/Confusion'),\n",
              "  Text(15, 0, 'Alcohol Involvement'),\n",
              "  Text(16, 0, 'View Obstructed/Limited'),\n",
              "  Text(17, 0, 'Failure to Yield Right-of-Way'),\n",
              "  Text(18, 0, 'Backing Unsafely'),\n",
              "  Text(19, 0, 'Fell Asleep')])"
            ]
          },
          "metadata": {},
          "execution_count": 31
        },
        {
          "output_type": "display_data",
          "data": {
            "text/plain": [
              "<Figure size 1500x1000 with 1 Axes>"
            ],
            "image/png": "[encoded data removed]"
          },
          "metadata": {}
        }
      ]
    },
    {
      "cell_type": "code",
      "source": [
        "df.isna().sum()"
      ],
      "metadata": {
        "execution": {
          "iopub.status.busy": "2024-04-19T12:45:57.304844Z",
          "iopub.execute_input": "2024-04-19T12:45:57.305569Z",
          "iopub.status.idle": "2024-04-19T12:45:58.899691Z",
          "shell.execute_reply.started": "2024-04-19T12:45:57.305531Z",
          "shell.execute_reply": "2024-04-19T12:45:58.897868Z"
        },
        "trusted": true,
        "id": "ofBQjeJNsoAE",
        "outputId": "3b5d57bc-4f99-4f84-ab65-58fe14503568",
        "colab": {
          "base_uri": "https://localhost:8080/"
        }
      },
      "execution_count": 32,
      "outputs": [
        {
          "output_type": "execute_result",
          "data": {
            "text/plain": [
              "CRASH DATE                           0\n",
              "CRASH TIME                           0\n",
              "BOROUGH                           9611\n",
              "ZIP CODE                          9614\n",
              "ON STREET NAME                    7456\n",
              "CROSS STREET NAME                14870\n",
              "NUMBER OF PERSONS INJURED            1\n",
              "NUMBER OF PERSONS KILLED             1\n",
              "NUMBER OF PEDESTRIANS INJURED        1\n",
              "NUMBER OF PEDESTRIANS KILLED         1\n",
              "NUMBER OF CYCLIST INJURED            1\n",
              "NUMBER OF CYCLIST KILLED             1\n",
              "NUMBER OF MOTORIST INJURED           1\n",
              "NUMBER OF MOTORIST KILLED            1\n",
              "CONTRIBUTING FACTOR VEHICLE 1      141\n",
              "CONTRIBUTING FACTOR VEHICLE 2     6163\n",
              "VEHICLE TYPE CODE 1                332\n",
              "VEHICLE TYPE CODE 2               9087\n",
              "YEAR                                 0\n",
              "MONTH                                0\n",
              "DAY                                  0\n",
              "HOUR                                 0\n",
              "dtype: int64"
            ]
          },
          "metadata": {},
          "execution_count": 32
        }
      ]
    },
    {
      "cell_type": "markdown",
      "source": [
        "## Data Cleaning"
      ],
      "metadata": {
        "id": "dNv7y8aYsoAE"
      }
    },
    {
      "cell_type": "code",
      "source": [
        "df2 = df1.dropna()"
      ],
      "metadata": {
        "execution": {
          "iopub.status.busy": "2024-04-19T12:45:58.901655Z",
          "iopub.execute_input": "2024-04-19T12:45:58.902229Z",
          "iopub.status.idle": "2024-04-19T12:46:00.793358Z",
          "shell.execute_reply.started": "2024-04-19T12:45:58.902178Z",
          "shell.execute_reply": "2024-04-19T12:46:00.792059Z"
        },
        "trusted": true,
        "id": "G_bIDZfWsoAE"
      },
      "execution_count": 33,
      "outputs": []
    },
    {
      "cell_type": "code",
      "source": [
        "df2.shape"
      ],
      "metadata": {
        "execution": {
          "iopub.status.busy": "2024-04-19T12:46:00.795078Z",
          "iopub.execute_input": "2024-04-19T12:46:00.795497Z",
          "iopub.status.idle": "2024-04-19T12:46:00.804183Z",
          "shell.execute_reply.started": "2024-04-19T12:46:00.795459Z",
          "shell.execute_reply": "2024-04-19T12:46:00.802900Z"
        },
        "trusted": true,
        "id": "DP0o7t81soAE",
        "outputId": "b3e15458-f38b-4b4c-c64f-31499bfccb3d",
        "colab": {
          "base_uri": "https://localhost:8080/"
        }
      },
      "execution_count": 34,
      "outputs": [
        {
          "output_type": "execute_result",
          "data": {
            "text/plain": [
              "(7309, 22)"
            ]
          },
          "metadata": {},
          "execution_count": 34
        }
      ]
    },
    {
      "cell_type": "code",
      "source": [
        "df2.duplicated().value_counts()"
      ],
      "metadata": {
        "execution": {
          "iopub.status.busy": "2024-04-19T12:46:00.805741Z",
          "iopub.execute_input": "2024-04-19T12:46:00.806171Z",
          "iopub.status.idle": "2024-04-19T12:46:02.383605Z",
          "shell.execute_reply.started": "2024-04-19T12:46:00.806138Z",
          "shell.execute_reply": "2024-04-19T12:46:02.382148Z"
        },
        "trusted": true,
        "id": "pY8RH5wQsoAE",
        "outputId": "dc96499d-ddfb-4f01-d3b9-81667edeec4c",
        "colab": {
          "base_uri": "https://localhost:8080/"
        }
      },
      "execution_count": 35,
      "outputs": [
        {
          "output_type": "execute_result",
          "data": {
            "text/plain": [
              "False    7309\n",
              "Name: count, dtype: int64"
            ]
          },
          "metadata": {},
          "execution_count": 35
        }
      ]
    },
    {
      "cell_type": "code",
      "source": [
        "df2=df2.drop_duplicates()"
      ],
      "metadata": {
        "execution": {
          "iopub.status.busy": "2024-04-19T12:46:02.385386Z",
          "iopub.execute_input": "2024-04-19T12:46:02.385856Z",
          "iopub.status.idle": "2024-04-19T12:46:04.113421Z",
          "shell.execute_reply.started": "2024-04-19T12:46:02.385816Z",
          "shell.execute_reply": "2024-04-19T12:46:04.112004Z"
        },
        "trusted": true,
        "id": "4STxAG5psoAF"
      },
      "execution_count": 36,
      "outputs": []
    },
    {
      "cell_type": "code",
      "source": [
        "df2.duplicated().value_counts()"
      ],
      "metadata": {
        "execution": {
          "iopub.status.busy": "2024-04-19T12:46:04.115567Z",
          "iopub.execute_input": "2024-04-19T12:46:04.116200Z",
          "iopub.status.idle": "2024-04-19T12:46:05.575926Z",
          "shell.execute_reply.started": "2024-04-19T12:46:04.116141Z",
          "shell.execute_reply": "2024-04-19T12:46:05.574460Z"
        },
        "trusted": true,
        "id": "fJV-5fuQsoAF",
        "outputId": "707360a0-2eb9-4520-9af1-5a14da731fbd",
        "colab": {
          "base_uri": "https://localhost:8080/"
        }
      },
      "execution_count": 37,
      "outputs": [
        {
          "output_type": "execute_result",
          "data": {
            "text/plain": [
              "False    7309\n",
              "Name: count, dtype: int64"
            ]
          },
          "metadata": {},
          "execution_count": 37
        }
      ]
    },
    {
      "cell_type": "code",
      "source": [
        "df2['CONTRIBUTING FACTOR VEHICLE 1'].value_counts().nlargest(20)"
      ],
      "metadata": {
        "execution": {
          "iopub.status.busy": "2024-04-19T12:46:05.577903Z",
          "iopub.execute_input": "2024-04-19T12:46:05.578493Z",
          "iopub.status.idle": "2024-04-19T12:46:05.757551Z",
          "shell.execute_reply.started": "2024-04-19T12:46:05.578440Z",
          "shell.execute_reply": "2024-04-19T12:46:05.755774Z"
        },
        "trusted": true,
        "id": "f7b3SNsMsoAF",
        "outputId": "b3f6ec36-b699-41c4-c172-0409b4d61edd",
        "colab": {
          "base_uri": "https://localhost:8080/"
        }
      },
      "execution_count": 38,
      "outputs": [
        {
          "output_type": "execute_result",
          "data": {
            "text/plain": [
              "CONTRIBUTING FACTOR VEHICLE 1\n",
              "Driver Inattention/Distraction                           1951\n",
              "Unspecified                                              1348\n",
              "Failure to Yield Right-of-Way                             781\n",
              "Following Too Closely                                     454\n",
              "Traffic Control Disregarded                               450\n",
              "Passing or Lane Usage Improper                            399\n",
              "Unsafe Speed                                              279\n",
              "Turning Improperly                                        255\n",
              "Passing Too Closely                                       231\n",
              "Other Vehicular                                           206\n",
              "Driver Inexperience                                       179\n",
              "Backing Unsafely                                          168\n",
              "Alcohol Involvement                                       132\n",
              "Unsafe Lane Changing                                      128\n",
              "View Obstructed/Limited                                    90\n",
              "Reaction to Uninvolved Vehicle                             68\n",
              "Pedestrian/Bicyclist/Other Pedestrian Error/Confusion      68\n",
              "Aggressive Driving/Road Rage                               58\n",
              "Oversized Vehicle                                          33\n",
              "Fell Asleep                                                31\n",
              "Name: count, dtype: int64"
            ]
          },
          "metadata": {},
          "execution_count": 38
        }
      ]
    },
    {
      "cell_type": "markdown",
      "source": [
        "### Target column CONTRIBUTING FACTOR VEHICLE 1 categories reducing by using mapping-->Traffic_violation,Driving inexperience,Non driving related,Impaired"
      ],
      "metadata": {
        "id": "L8Ro1dYisoAF"
      }
    },
    {
      "cell_type": "code",
      "source": [
        "category_mapping={'Failure to Yield Right-of-Way':'Traffic Violation',\n",
        "                  'Traffic Control Disregarded':'Traffic Violation',\n",
        "                  'Unsafe Lane Changing':'Traffic Violation',\n",
        "                  'Unsafe Speed':'Traffic Violation',\n",
        "\n",
        "                  'Turning Improperly':'Driving Negligence',\n",
        "                  'Following Too Closely':'Driving Negligence',\n",
        "                  'Passing Too Closely':'Driving Negligence',\n",
        "                  'Backing Unsafely':'Driving Negligence',\n",
        "                  'Passing or Lane Usage Improper':'Driving Negligence',\n",
        "                  'Driver Inexperience':'Driving Negligence',\n",
        "\n",
        "                  'Pavement Slippery':'Non Driver Related',\n",
        "                  'View Obstructed/Limited':'Non Driver Related',\n",
        "                  'Reaction to Uninvolved Vehicle':'Non Driver Related',\n",
        "                  'Other Vehicular':'Non Driver Related',\n",
        "\n",
        "                  'Fatigued/Drowsy':'Impaired',\n",
        "                  'Lost Consciousness':'Impaired',\n",
        "                  'Alcohol Involvement':'Impaired',\n",
        "                  'Prescription Medication':'Impaired',\n",
        "\n",
        "}\n",
        "\n",
        "\n",
        "df2['CONTRIBUTING FACTOR VEHICLE 1']=df2['CONTRIBUTING FACTOR VEHICLE 1'].replace(category_mapping)\n",
        "df2['CONTRIBUTING FACTOR VEHICLE 1'].value_counts()"
      ],
      "metadata": {
        "execution": {
          "iopub.status.busy": "2024-04-19T12:46:05.759339Z",
          "iopub.execute_input": "2024-04-19T12:46:05.759959Z",
          "iopub.status.idle": "2024-04-19T12:46:07.045945Z",
          "shell.execute_reply.started": "2024-04-19T12:46:05.759906Z",
          "shell.execute_reply": "2024-04-19T12:46:07.044056Z"
        },
        "trusted": true,
        "id": "cD0omIuhsoAF",
        "outputId": "6b7ee47b-958e-4d10-b459-84b6bcf655fb",
        "colab": {
          "base_uri": "https://localhost:8080/"
        }
      },
      "execution_count": 39,
      "outputs": [
        {
          "output_type": "execute_result",
          "data": {
            "text/plain": [
              "CONTRIBUTING FACTOR VEHICLE 1\n",
              "Driver Inattention/Distraction                           1951\n",
              "Driving Negligence                                       1686\n",
              "Traffic Violation                                        1638\n",
              "Unspecified                                              1348\n",
              "Non Driver Related                                        364\n",
              "Impaired                                                  132\n",
              "Pedestrian/Bicyclist/Other Pedestrian Error/Confusion      68\n",
              "Aggressive Driving/Road Rage                               58\n",
              "Oversized Vehicle                                          33\n",
              "Fell Asleep                                                31\n",
              "Name: count, dtype: int64"
            ]
          },
          "metadata": {},
          "execution_count": 39
        }
      ]
    },
    {
      "cell_type": "code",
      "source": [
        "df2.columns"
      ],
      "metadata": {
        "execution": {
          "iopub.status.busy": "2024-04-19T12:46:07.047976Z",
          "iopub.execute_input": "2024-04-19T12:46:07.048510Z",
          "iopub.status.idle": "2024-04-19T12:46:07.058281Z",
          "shell.execute_reply.started": "2024-04-19T12:46:07.048471Z",
          "shell.execute_reply": "2024-04-19T12:46:07.056570Z"
        },
        "trusted": true,
        "id": "x8EU3sErsoAF",
        "outputId": "0f8dcd90-0e24-46a1-96a1-5df662d3f702",
        "colab": {
          "base_uri": "https://localhost:8080/"
        }
      },
      "execution_count": 40,
      "outputs": [
        {
          "output_type": "execute_result",
          "data": {
            "text/plain": [
              "Index(['CRASH DATE', 'CRASH TIME', 'BOROUGH', 'ZIP CODE', 'ON STREET NAME',\n",
              "       'CROSS STREET NAME', 'NUMBER OF PERSONS INJURED',\n",
              "       'NUMBER OF PERSONS KILLED', 'NUMBER OF PEDESTRIANS INJURED',\n",
              "       'NUMBER OF PEDESTRIANS KILLED', 'NUMBER OF CYCLIST INJURED',\n",
              "       'NUMBER OF CYCLIST KILLED', 'NUMBER OF MOTORIST INJURED',\n",
              "       'NUMBER OF MOTORIST KILLED', 'CONTRIBUTING FACTOR VEHICLE 1',\n",
              "       'CONTRIBUTING FACTOR VEHICLE 2', 'VEHICLE TYPE CODE 1',\n",
              "       'VEHICLE TYPE CODE 2', 'YEAR', 'MONTH', 'DAY', 'HOUR'],\n",
              "      dtype='object')"
            ]
          },
          "metadata": {},
          "execution_count": 40
        }
      ]
    },
    {
      "cell_type": "code",
      "source": [
        "df2.drop(['CRASH DATE','CRASH TIME'],axis=1,inplace=True)\n",
        "df2.columns"
      ],
      "metadata": {
        "execution": {
          "iopub.status.busy": "2024-04-19T12:46:07.060277Z",
          "iopub.execute_input": "2024-04-19T12:46:07.060808Z",
          "iopub.status.idle": "2024-04-19T12:46:07.244014Z",
          "shell.execute_reply.started": "2024-04-19T12:46:07.060763Z",
          "shell.execute_reply": "2024-04-19T12:46:07.242510Z"
        },
        "trusted": true,
        "id": "_H1BFHcfsoAF",
        "outputId": "029581ac-e07e-4e38-a85a-8ee066d9aacb",
        "colab": {
          "base_uri": "https://localhost:8080/"
        }
      },
      "execution_count": 41,
      "outputs": [
        {
          "output_type": "execute_result",
          "data": {
            "text/plain": [
              "Index(['BOROUGH', 'ZIP CODE', 'ON STREET NAME', 'CROSS STREET NAME',\n",
              "       'NUMBER OF PERSONS INJURED', 'NUMBER OF PERSONS KILLED',\n",
              "       'NUMBER OF PEDESTRIANS INJURED', 'NUMBER OF PEDESTRIANS KILLED',\n",
              "       'NUMBER OF CYCLIST INJURED', 'NUMBER OF CYCLIST KILLED',\n",
              "       'NUMBER OF MOTORIST INJURED', 'NUMBER OF MOTORIST KILLED',\n",
              "       'CONTRIBUTING FACTOR VEHICLE 1', 'CONTRIBUTING FACTOR VEHICLE 2',\n",
              "       'VEHICLE TYPE CODE 1', 'VEHICLE TYPE CODE 2', 'YEAR', 'MONTH', 'DAY',\n",
              "       'HOUR'],\n",
              "      dtype='object')"
            ]
          },
          "metadata": {},
          "execution_count": 41
        }
      ]
    },
    {
      "cell_type": "markdown",
      "source": [
        "### Data Preprocessing"
      ],
      "metadata": {
        "id": "S4rsye0usoAF"
      }
    },
    {
      "cell_type": "markdown",
      "source": [
        "#### Label Encoding"
      ],
      "metadata": {
        "id": "AVAdrGZ7soAF"
      }
    },
    {
      "cell_type": "code",
      "source": [
        "cat_col = df2.select_dtypes(include=['object']).columns.tolist()\n",
        "cat_col"
      ],
      "metadata": {
        "execution": {
          "iopub.status.busy": "2024-04-19T12:46:07.245783Z",
          "iopub.execute_input": "2024-04-19T12:46:07.246334Z",
          "iopub.status.idle": "2024-04-19T12:46:07.610471Z",
          "shell.execute_reply.started": "2024-04-19T12:46:07.246286Z",
          "shell.execute_reply": "2024-04-19T12:46:07.608961Z"
        },
        "trusted": true,
        "id": "uU7X13gksoAG",
        "outputId": "d7bf1fad-7683-427e-a993-fb2d457c3f33",
        "colab": {
          "base_uri": "https://localhost:8080/"
        }
      },
      "execution_count": 42,
      "outputs": [
        {
          "output_type": "execute_result",
          "data": {
            "text/plain": [
              "['BOROUGH',\n",
              " 'ON STREET NAME',\n",
              " 'CROSS STREET NAME',\n",
              " 'CONTRIBUTING FACTOR VEHICLE 1',\n",
              " 'CONTRIBUTING FACTOR VEHICLE 2',\n",
              " 'VEHICLE TYPE CODE 1',\n",
              " 'VEHICLE TYPE CODE 2']"
            ]
          },
          "metadata": {},
          "execution_count": 42
        }
      ]
    },
    {
      "cell_type": "code",
      "source": [],
      "metadata": {
        "trusted": true,
        "id": "c4Cz6iU2soAG"
      },
      "execution_count": 42,
      "outputs": []
    },
    {
      "cell_type": "code",
      "source": [
        "from sklearn.preprocessing import LabelEncoder\n",
        "le = LabelEncoder()\n",
        "\n",
        "df2['BOROUGH']=le.fit_transform(df2['BOROUGH'])\n",
        "#df['ZIP CODE']=le.fit_transform(df['ZIP CODE'])\n",
        "df2['ON STREET NAME']=le.fit_transform(df2['ON STREET NAME'])\n",
        "df2['CROSS STREET NAME']=le.fit_transform(df2['CROSS STREET NAME'])\n",
        "df2['CONTRIBUTING FACTOR VEHICLE 1']=le.fit_transform(df2['CONTRIBUTING FACTOR VEHICLE 1'])\n",
        "df2['CONTRIBUTING FACTOR VEHICLE 2']=le.fit_transform(df2['CONTRIBUTING FACTOR VEHICLE 2'])\n",
        "df2['VEHICLE TYPE CODE 1']=le.fit_transform(df2['VEHICLE TYPE CODE 1'])\n",
        "df2['VEHICLE TYPE CODE 2']=le.fit_transform(df2['VEHICLE TYPE CODE 2'])"
      ],
      "metadata": {
        "execution": {
          "iopub.status.busy": "2024-04-19T12:46:07.612507Z",
          "iopub.execute_input": "2024-04-19T12:46:07.613050Z",
          "iopub.status.idle": "2024-04-19T12:46:09.731889Z",
          "shell.execute_reply.started": "2024-04-19T12:46:07.613010Z",
          "shell.execute_reply": "2024-04-19T12:46:09.730110Z"
        },
        "trusted": true,
        "id": "inAIVMDysoAG"
      },
      "execution_count": 43,
      "outputs": []
    },
    {
      "cell_type": "code",
      "source": [
        "df2['ZIP CODE'].unique()"
      ],
      "metadata": {
        "execution": {
          "iopub.status.busy": "2024-04-19T12:49:19.449519Z",
          "iopub.execute_input": "2024-04-19T12:49:19.450119Z",
          "iopub.status.idle": "2024-04-19T12:49:19.559299Z",
          "shell.execute_reply.started": "2024-04-19T12:49:19.450078Z",
          "shell.execute_reply": "2024-04-19T12:49:19.557509Z"
        },
        "trusted": true,
        "id": "PT4jQDA2soAG",
        "outputId": "46766a1b-38b9-410d-84c0-7c67ba1b709a",
        "colab": {
          "base_uri": "https://localhost:8080/"
        }
      },
      "execution_count": 44,
      "outputs": [
        {
          "output_type": "execute_result",
          "data": {
            "text/plain": [
              "array([10017., 11413., 11434., 10463., 10301., 11217., 11211., 10452.,\n",
              "       10019., 11230., 11221., 11101., 11106., 11418., 11213., 10128.,\n",
              "       11218., 11203., 10025., 11411., 10466., 11236., 11238., 11420.,\n",
              "       10065., 11432., 10032., 11104., 11207., 10002., 11219., 10305.,\n",
              "       11206., 10001., 11223., 10458., 10468., 11361., 10467., 11422.,\n",
              "       11691., 11231., 10469., 10459., 10306., 11228., 11372., 11419.,\n",
              "       10474., 11234., 11356., 11416., 10168., 11366., 11222., 11212.,\n",
              "       11208., 11229., 10461., 11204., 11433., 10457., 10473., 10312.,\n",
              "       10013., 11225., 11412., 11385., 11430., 11435., 10310., 10022.,\n",
              "       11201., 10475., 10012., 11377., 11226., 10460., 11102., 10308.,\n",
              "       11237., 10453., 11429., 10016., 11224., 10472., 10027., 10029.,\n",
              "       11436., 10023., 11369., 11367., 11210., 10035., 11214., 11220.,\n",
              "       11216., 11249., 11423., 11205., 10033., 10454., 11428., 11378.,\n",
              "       10451., 10470., 11357., 11233., 11354., 11103., 11368., 11370.,\n",
              "       11426., 10026., 10456., 11365., 11363., 11209., 10028., 11417.,\n",
              "       10031., 11374., 10036., 10304., 10034., 11379., 11232., 11235.,\n",
              "       11427., 11421., 10462., 10455., 10075., 10010., 11373., 10018.,\n",
              "       11355., 10024., 11375., 10465., 10030., 10464., 10039., 11414.,\n",
              "       11364., 10014., 10309., 11215., 10011., 10038., 11693., 11105.,\n",
              "       10006., 11004., 10003., 11692., 11415., 10007., 10005., 11040.,\n",
              "       11358., 10037., 10069., 11360., 10314., 10004., 10021., 10040.,\n",
              "       11362., 10307., 11239., 10009., 11694., 10471., 11005., 10000.,\n",
              "       10020., 11001.])"
            ]
          },
          "metadata": {},
          "execution_count": 44
        }
      ]
    },
    {
      "cell_type": "code",
      "source": [
        "df2['ZIP CODE']=df2['ZIP CODE'].astype(str)\n",
        "df2['ZIP CODE'].unique()"
      ],
      "metadata": {
        "execution": {
          "iopub.status.busy": "2024-04-19T12:56:20.076953Z",
          "iopub.execute_input": "2024-04-19T12:56:20.077815Z",
          "iopub.status.idle": "2024-04-19T12:56:20.583323Z",
          "shell.execute_reply.started": "2024-04-19T12:56:20.077756Z",
          "shell.execute_reply": "2024-04-19T12:56:20.582015Z"
        },
        "trusted": true,
        "id": "buts7aACsoAG",
        "outputId": "b006ef13-a001-4097-b14e-03fa00a6a0f9",
        "colab": {
          "base_uri": "https://localhost:8080/"
        }
      },
      "execution_count": 45,
      "outputs": [
        {
          "output_type": "execute_result",
          "data": {
            "text/plain": [
              "array(['10017.0', '11413.0', '11434.0', '10463.0', '10301.0', '11217.0',\n",
              "       '11211.0', '10452.0', '10019.0', '11230.0', '11221.0', '11101.0',\n",
              "       '11106.0', '11418.0', '11213.0', '10128.0', '11218.0', '11203.0',\n",
              "       '10025.0', '11411.0', '10466.0', '11236.0', '11238.0', '11420.0',\n",
              "       '10065.0', '11432.0', '10032.0', '11104.0', '11207.0', '10002.0',\n",
              "       '11219.0', '10305.0', '11206.0', '10001.0', '11223.0', '10458.0',\n",
              "       '10468.0', '11361.0', '10467.0', '11422.0', '11691.0', '11231.0',\n",
              "       '10469.0', '10459.0', '10306.0', '11228.0', '11372.0', '11419.0',\n",
              "       '10474.0', '11234.0', '11356.0', '11416.0', '10168.0', '11366.0',\n",
              "       '11222.0', '11212.0', '11208.0', '11229.0', '10461.0', '11204.0',\n",
              "       '11433.0', '10457.0', '10473.0', '10312.0', '10013.0', '11225.0',\n",
              "       '11412.0', '11385.0', '11430.0', '11435.0', '10310.0', '10022.0',\n",
              "       '11201.0', '10475.0', '10012.0', '11377.0', '11226.0', '10460.0',\n",
              "       '11102.0', '10308.0', '11237.0', '10453.0', '11429.0', '10016.0',\n",
              "       '11224.0', '10472.0', '10027.0', '10029.0', '11436.0', '10023.0',\n",
              "       '11369.0', '11367.0', '11210.0', '10035.0', '11214.0', '11220.0',\n",
              "       '11216.0', '11249.0', '11423.0', '11205.0', '10033.0', '10454.0',\n",
              "       '11428.0', '11378.0', '10451.0', '10470.0', '11357.0', '11233.0',\n",
              "       '11354.0', '11103.0', '11368.0', '11370.0', '11426.0', '10026.0',\n",
              "       '10456.0', '11365.0', '11363.0', '11209.0', '10028.0', '11417.0',\n",
              "       '10031.0', '11374.0', '10036.0', '10304.0', '10034.0', '11379.0',\n",
              "       '11232.0', '11235.0', '11427.0', '11421.0', '10462.0', '10455.0',\n",
              "       '10075.0', '10010.0', '11373.0', '10018.0', '11355.0', '10024.0',\n",
              "       '11375.0', '10465.0', '10030.0', '10464.0', '10039.0', '11414.0',\n",
              "       '11364.0', '10014.0', '10309.0', '11215.0', '10011.0', '10038.0',\n",
              "       '11693.0', '11105.0', '10006.0', '11004.0', '10003.0', '11692.0',\n",
              "       '11415.0', '10007.0', '10005.0', '11040.0', '11358.0', '10037.0',\n",
              "       '10069.0', '11360.0', '10314.0', '10004.0', '10021.0', '10040.0',\n",
              "       '11362.0', '10307.0', '11239.0', '10009.0', '11694.0', '10471.0',\n",
              "       '11005.0', '10000.0', '10020.0', '11001.0'], dtype=object)"
            ]
          },
          "metadata": {},
          "execution_count": 45
        }
      ]
    },
    {
      "cell_type": "code",
      "source": [
        "df2['ZIP CODE']=le.fit_transform(df2['ZIP CODE'])"
      ],
      "metadata": {
        "execution": {
          "iopub.status.busy": "2024-04-19T12:56:25.996593Z",
          "iopub.execute_input": "2024-04-19T12:56:25.997157Z",
          "iopub.status.idle": "2024-04-19T12:56:26.311207Z",
          "shell.execute_reply.started": "2024-04-19T12:56:25.997115Z",
          "shell.execute_reply": "2024-04-19T12:56:26.309913Z"
        },
        "trusted": true,
        "id": "asQ2ourlsoAG"
      },
      "execution_count": 46,
      "outputs": []
    },
    {
      "cell_type": "code",
      "source": [
        "df2.info()"
      ],
      "metadata": {
        "execution": {
          "iopub.status.busy": "2024-04-19T12:57:01.900173Z",
          "iopub.execute_input": "2024-04-19T12:57:01.900662Z",
          "iopub.status.idle": "2024-04-19T12:57:01.951498Z",
          "shell.execute_reply.started": "2024-04-19T12:57:01.900623Z",
          "shell.execute_reply": "2024-04-19T12:57:01.949299Z"
        },
        "trusted": true,
        "id": "2S672F_dsoAG",
        "outputId": "769fc339-40e0-480d-826f-87ae9a99d136",
        "colab": {
          "base_uri": "https://localhost:8080/"
        }
      },
      "execution_count": 47,
      "outputs": [
        {
          "output_type": "stream",
          "name": "stdout",
          "text": [
            "<class 'pandas.core.frame.DataFrame'>\n",
            "Index: 7309 entries, 9 to 27785\n",
            "Data columns (total 20 columns):\n",
            " #   Column                         Non-Null Count  Dtype  \n",
            "---  ------                         --------------  -----  \n",
            " 0   BOROUGH                        7309 non-null   int64  \n",
            " 1   ZIP CODE                       7309 non-null   int64  \n",
            " 2   ON STREET NAME                 7309 non-null   int64  \n",
            " 3   CROSS STREET NAME              7309 non-null   int64  \n",
            " 4   NUMBER OF PERSONS INJURED      7309 non-null   float64\n",
            " 5   NUMBER OF PERSONS KILLED       7309 non-null   float64\n",
            " 6   NUMBER OF PEDESTRIANS INJURED  7309 non-null   float64\n",
            " 7   NUMBER OF PEDESTRIANS KILLED   7309 non-null   float64\n",
            " 8   NUMBER OF CYCLIST INJURED      7309 non-null   float64\n",
            " 9   NUMBER OF CYCLIST KILLED       7309 non-null   float64\n",
            " 10  NUMBER OF MOTORIST INJURED     7309 non-null   float64\n",
            " 11  NUMBER OF MOTORIST KILLED      7309 non-null   float64\n",
            " 12  CONTRIBUTING FACTOR VEHICLE 1  7309 non-null   int64  \n",
            " 13  CONTRIBUTING FACTOR VEHICLE 2  7309 non-null   int64  \n",
            " 14  VEHICLE TYPE CODE 1            7309 non-null   int64  \n",
            " 15  VEHICLE TYPE CODE 2            7309 non-null   int64  \n",
            " 16  YEAR                           7309 non-null   int32  \n",
            " 17  MONTH                          7309 non-null   int32  \n",
            " 18  DAY                            7309 non-null   int32  \n",
            " 19  HOUR                           7309 non-null   int32  \n",
            "dtypes: float64(8), int32(4), int64(8)\n",
            "memory usage: 1.1 MB\n"
          ]
        }
      ]
    },
    {
      "cell_type": "code",
      "source": [
        "df2.shape"
      ],
      "metadata": {
        "execution": {
          "iopub.status.busy": "2024-04-19T12:57:32.228840Z",
          "iopub.execute_input": "2024-04-19T12:57:32.229399Z",
          "iopub.status.idle": "2024-04-19T12:57:32.239082Z",
          "shell.execute_reply.started": "2024-04-19T12:57:32.229357Z",
          "shell.execute_reply": "2024-04-19T12:57:32.237851Z"
        },
        "trusted": true,
        "id": "fguqV8oesoAG",
        "outputId": "806fc284-301d-44be-d412-384a496411c9",
        "colab": {
          "base_uri": "https://localhost:8080/"
        }
      },
      "execution_count": 48,
      "outputs": [
        {
          "output_type": "execute_result",
          "data": {
            "text/plain": [
              "(7309, 20)"
            ]
          },
          "metadata": {},
          "execution_count": 48
        }
      ]
    },
    {
      "cell_type": "code",
      "source": [
        "x = df2.drop(['CONTRIBUTING FACTOR VEHICLE 1'],axis=1)\n",
        "y = df2['CONTRIBUTING FACTOR VEHICLE 1']"
      ],
      "metadata": {
        "execution": {
          "iopub.status.busy": "2024-04-19T12:59:02.411383Z",
          "iopub.execute_input": "2024-04-19T12:59:02.411909Z",
          "iopub.status.idle": "2024-04-19T12:59:02.472854Z",
          "shell.execute_reply.started": "2024-04-19T12:59:02.411864Z",
          "shell.execute_reply": "2024-04-19T12:59:02.471230Z"
        },
        "trusted": true,
        "id": "k0-D_WZDsoAG"
      },
      "execution_count": 49,
      "outputs": []
    },
    {
      "cell_type": "code",
      "source": [
        "from sklearn.model_selection import train_test_split\n",
        "x_train, x_test, y_train, y_test = train_test_split(x, y, test_size = 0.3, random_state = 42)"
      ],
      "metadata": {
        "id": "ikwlq9v5Tqfe"
      },
      "execution_count": 51,
      "outputs": []
    },
    {
      "cell_type": "code",
      "source": [
        "from sklearn.ensemble import RandomForestRegressor\n",
        "rf_reg=RandomForestRegressor(n_estimators=100,random_state=42)\n",
        "rf_reg.fit(x_train,y_train)"
      ],
      "metadata": {
        "colab": {
          "base_uri": "https://localhost:8080/",
          "height": 74
        },
        "id": "B2jd1msaT6dk",
        "outputId": "254b8141-49ee-4986-a197-ac58dfc65cd1"
      },
      "execution_count": 52,
      "outputs": [
        {
          "output_type": "execute_result",
          "data": {
            "text/plain": [
              "RandomForestRegressor(random_state=42)"
            ],
            "text/html": [
              "<style>#sk-container-id-1 {color: black;background-color: white;}#sk-container-id-1 pre{padding: 0;}#sk-container-id-1 div.sk-toggleable {background-color: white;}#sk-container-id-1 label.sk-toggleable__label {cursor: pointer;display: block;width: 100%;margin-bottom: 0;padding: 0.3em;box-sizing: border-box;text-align: center;}#sk-container-id-1 label.sk-toggleable__label-arrow:before {content: \"▸\";float: left;margin-right: 0.25em;color: #696969;}#sk-container-id-1 label.sk-toggleable__label-arrow:hover:before {color: black;}#sk-container-id-1 div.sk-estimator:hover label.sk-toggleable__label-arrow:before {color: black;}#sk-container-id-1 div.sk-toggleable__content {max-height: 0;max-width: 0;overflow: hidden;text-align: left;background-color: #f0f8ff;}#sk-container-id-1 div.sk-toggleable__content pre {margin: 0.2em;color: black;border-radius: 0.25em;background-color: #f0f8ff;}#sk-container-id-1 input.sk-toggleable__control:checked~div.sk-toggleable__content {max-height: 200px;max-width: 100%;overflow: auto;}#sk-container-id-1 input.sk-toggleable__control:checked~label.sk-toggleable__label-arrow:before {content: \"▾\";}#sk-container-id-1 div.sk-estimator input.sk-toggleable__control:checked~label.sk-toggleable__label {background-color: #d4ebff;}#sk-container-id-1 div.sk-label input.sk-toggleable__control:checked~label.sk-toggleable__label {background-color: #d4ebff;}#sk-container-id-1 input.sk-hidden--visually {border: 0;clip: rect(1px 1px 1px 1px);clip: rect(1px, 1px, 1px, 1px);height: 1px;margin: -1px;overflow: hidden;padding: 0;position: absolute;width: 1px;}#sk-container-id-1 div.sk-estimator {font-family: monospace;background-color: #f0f8ff;border: 1px dotted black;border-radius: 0.25em;box-sizing: border-box;margin-bottom: 0.5em;}#sk-container-id-1 div.sk-estimator:hover {background-color: #d4ebff;}#sk-container-id-1 div.sk-parallel-item::after {content: \"\";width: 100%;border-bottom: 1px solid gray;flex-grow: 1;}#sk-container-id-1 div.sk-label:hover label.sk-toggleable__label {background-color: #d4ebff;}#sk-container-id-1 div.sk-serial::before {content: \"\";position: absolute;border-left: 1px solid gray;box-sizing: border-box;top: 0;bottom: 0;left: 50%;z-index: 0;}#sk-container-id-1 div.sk-serial {display: flex;flex-direction: column;align-items: center;background-color: white;padding-right: 0.2em;padding-left: 0.2em;position: relative;}#sk-container-id-1 div.sk-item {position: relative;z-index: 1;}#sk-container-id-1 div.sk-parallel {display: flex;align-items: stretch;justify-content: center;background-color: white;position: relative;}#sk-container-id-1 div.sk-item::before, #sk-container-id-1 div.sk-parallel-item::before {content: \"\";position: absolute;border-left: 1px solid gray;box-sizing: border-box;top: 0;bottom: 0;left: 50%;z-index: -1;}#sk-container-id-1 div.sk-parallel-item {display: flex;flex-direction: column;z-index: 1;position: relative;background-color: white;}#sk-container-id-1 div.sk-parallel-item:first-child::after {align-self: flex-end;width: 50%;}#sk-container-id-1 div.sk-parallel-item:last-child::after {align-self: flex-start;width: 50%;}#sk-container-id-1 div.sk-parallel-item:only-child::after {width: 0;}#sk-container-id-1 div.sk-dashed-wrapped {border: 1px dashed gray;margin: 0 0.4em 0.5em 0.4em;box-sizing: border-box;padding-bottom: 0.4em;background-color: white;}#sk-container-id-1 div.sk-label label {font-family: monospace;font-weight: bold;display: inline-block;line-height: 1.2em;}#sk-container-id-1 div.sk-label-container {text-align: center;}#sk-container-id-1 div.sk-container {/* jupyter's `normalize.less` sets `[hidden] { display: none; }` but bootstrap.min.css set `[hidden] { display: none !important; }` so we also need the `!important` here to be able to override the default hidden behavior on the sphinx rendered scikit-learn.org. See: https://github.com/scikit-learn/scikit-learn/issues/21755 */display: inline-block !important;position: relative;}#sk-container-id-1 div.sk-text-repr-fallback {display: none;}</style><div id=\"sk-container-id-1\" class=\"sk-top-container\"><div class=\"sk-text-repr-fallback\"><pre>RandomForestRegressor(random_state=42)</pre><b>In a Jupyter environment, please rerun this cell to show the HTML representation or trust the notebook. <br />On GitHub, the HTML representation is unable to render, please try loading this page with nbviewer.org.</b></div><div class=\"sk-container\" hidden><div class=\"sk-item\"><div class=\"sk-estimator sk-toggleable\"><input class=\"sk-toggleable__control sk-hidden--visually\" id=\"sk-estimator-id-1\" type=\"checkbox\" checked><label for=\"sk-estimator-id-1\" class=\"sk-toggleable__label sk-toggleable__label-arrow\">RandomForestRegressor</label><div class=\"sk-toggleable__content\"><pre>RandomForestRegressor(random_state=42)</pre></div></div></div></div></div>"
            ]
          },
          "metadata": {},
          "execution_count": 52
        }
      ]
    },
    {
      "cell_type": "code",
      "source": [
        "y_train_pred=rf_reg.predict(x_train)"
      ],
      "metadata": {
        "id": "Pu5Ho-SFUGZ-"
      },
      "execution_count": 53,
      "outputs": []
    },
    {
      "cell_type": "code",
      "source": [
        "from sklearn.metrics import mean_absolute_error, mean_squared_error, r2_score\n",
        "from math import sqrt\n",
        "r2=r2_score(y_train, y_train_pred)\n",
        "mae=mean_absolute_error(y_train,y_train_pred)\n",
        "mse=mean_squared_error(y_train, y_train_pred)\n",
        "rmse=sqrt(mse)\n",
        "print('R2_score',r2)\n",
        "print('mean_absolute_error',mae)\n",
        "print('mean_squared_error',mse)\n",
        "print('root_mean_squared_error',rmse)"
      ],
      "metadata": {
        "colab": {
          "base_uri": "https://localhost:8080/"
        },
        "id": "nGHPNfKwUKbG",
        "outputId": "4046420b-41e0-4343-fab3-bb217f4b734a"
      },
      "execution_count": 54,
      "outputs": [
        {
          "output_type": "stream",
          "name": "stdout",
          "text": [
            "R2_score 0.8658240783833707\n",
            "mean_absolute_error 1.1055199374511335\n",
            "mean_squared_error 1.5344471853010164\n",
            "root_mean_squared_error 1.238728051390222\n"
          ]
        }
      ]
    },
    {
      "cell_type": "code",
      "source": [],
      "metadata": {
        "id": "wccP02RIVYrP"
      },
      "execution_count": null,
      "outputs": []
    }
  ]
}